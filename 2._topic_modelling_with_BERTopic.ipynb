{
 "cells": [
  {
   "cell_type": "markdown",
   "metadata": {
    "id": "ppCES2408g5E"
   },
   "source": [
    "# Exploratory Spatial Data Analysis of Disaster-Tweets with BERTopic\n",
    "\n",
    "Run this script in Google Colab or with a GPU instance otherwise this will take quite some time!"
   ]
  },
  {
   "cell_type": "markdown",
   "metadata": {
    "id": "Ku3gE0uY8g5K"
   },
   "source": [
    "## Load dataset and libraries"
   ]
  },
  {
   "cell_type": "code",
   "execution_count": 1,
   "metadata": {
    "executionInfo": {
     "elapsed": 86120,
     "status": "ok",
     "timestamp": 1724080561961,
     "user": {
      "displayName": "Dorian Arifi",
      "userId": "06477489625107752463"
     },
     "user_tz": -120
    },
    "id": "xHgmEuet8s9d"
   },
   "outputs": [],
   "source": [
    "# Install packages\n",
    "%%capture\n",
    "!pip install bertopic"
   ]
  },
  {
   "cell_type": "code",
   "execution_count": 2,
   "metadata": {
    "colab": {
     "base_uri": "https://localhost:8080/"
    },
    "executionInfo": {
     "elapsed": 17377,
     "status": "ok",
     "timestamp": 1724080579335,
     "user": {
      "displayName": "Dorian Arifi",
      "userId": "06477489625107752463"
     },
     "user_tz": -120
    },
    "id": "7CUa6z2mDFjg",
    "outputId": "d4edaf3f-a23a-4be1-9701-a3ef6a669c4e"
   },
   "outputs": [
    {
     "name": "stdout",
     "output_type": "stream",
     "text": [
      "Mounted at /content/drive\n"
     ]
    }
   ],
   "source": [
    "from google.colab import drive\n",
    "drive.mount('/content/drive')"
   ]
  },
  {
   "cell_type": "code",
   "execution_count": null,
   "metadata": {
    "executionInfo": {
     "elapsed": 54883,
     "status": "ok",
     "timestamp": 1724080634217,
     "user": {
      "displayName": "Dorian Arifi",
      "userId": "06477489625107752463"
     },
     "user_tz": -120
    },
    "id": "_mhS0IyX8g5L"
   },
   "outputs": [],
   "source": [
    "import pandas as pd\n",
    "import re\n",
    "\n",
    "#These liberaries are used for data visualization\n",
    "import matplotlib.pyplot as plt \n",
    "import folium\n",
    "from folium.plugins import HeatMap\n",
    "\n",
    "from bertopic import BERTopic\n",
    "import statistics"
   ]
  },
  {
   "cell_type": "code",
   "execution_count": null,
   "metadata": {
    "colab": {
     "base_uri": "https://localhost:8080/"
    },
    "executionInfo": {
     "elapsed": 1148,
     "status": "ok",
     "timestamp": 1724080635348,
     "user": {
      "displayName": "Dorian Arifi",
      "userId": "06477489625107752463"
     },
     "user_tz": -120
    },
    "id": "zgF4AOnY9DIy",
    "outputId": "565655f6-2d34-4dd1-8da3-80146a6f8d40"
   },
   "outputs": [
    {
     "data": {
      "text/plain": [
       "30968"
      ]
     },
     "execution_count": 4,
     "metadata": {},
     "output_type": "execute_result"
    }
   ],
   "source": [
    "df = pd.read_csv(r'/content/drive/MyDrive/tweets.csv')\n",
    "len(df)"
   ]
  },
  {
   "cell_type": "markdown",
   "metadata": {
    "id": "GHqP3_69Dc5v"
   },
   "source": [
    "# **1. Filter Tweets for timeframe and research area**"
   ]
  },
  {
   "cell_type": "code",
   "execution_count": 5,
   "metadata": {
    "colab": {
     "base_uri": "https://localhost:8080/",
     "height": 36
    },
    "executionInfo": {
     "elapsed": 8,
     "status": "ok",
     "timestamp": 1724080635349,
     "user": {
      "displayName": "Dorian Arifi",
      "userId": "06477489625107752463"
     },
     "user_tz": -120
    },
    "id": "7H6rsK4Ui0z6",
    "outputId": "900de533-771a-4ddb-a4e9-ad99ed752400"
   },
   "outputs": [
    {
     "data": {
      "application/vnd.google.colaboratory.intrinsic+json": {
       "type": "string"
      },
      "text/plain": [
       "'2021-09-04 23:29:37'"
      ]
     },
     "execution_count": 5,
     "metadata": {},
     "output_type": "execute_result"
    }
   ],
   "source": [
    "max(df.date)"
   ]
  },
  {
   "cell_type": "code",
   "execution_count": 6,
   "metadata": {
    "colab": {
     "base_uri": "https://localhost:8080/",
     "height": 36
    },
    "executionInfo": {
     "elapsed": 7,
     "status": "ok",
     "timestamp": 1724080635349,
     "user": {
      "displayName": "Dorian Arifi",
      "userId": "06477489625107752463"
     },
     "user_tz": -120
    },
    "id": "KDZbDM18ivYL",
    "outputId": "51e3f208-8279-4578-a915-15851d8633ee"
   },
   "outputs": [
    {
     "data": {
      "application/vnd.google.colaboratory.intrinsic+json": {
       "type": "string"
      },
      "text/plain": [
       "'2021-06-14 00:06:06'"
      ]
     },
     "execution_count": 6,
     "metadata": {},
     "output_type": "execute_result"
    }
   ],
   "source": [
    "min(df.date)"
   ]
  },
  {
   "cell_type": "code",
   "execution_count": 7,
   "metadata": {
    "executionInfo": {
     "elapsed": 6,
     "status": "ok",
     "timestamp": 1724080635349,
     "user": {
      "displayName": "Dorian Arifi",
      "userId": "06477489625107752463"
     },
     "user_tz": -120
    },
    "id": "Au74UipViFwJ"
   },
   "outputs": [],
   "source": [
    "df = df[df.date<'2021-07-28']\n",
    "df = df[df.date>'2021-07-06']"
   ]
  },
  {
   "cell_type": "code",
   "execution_count": 8,
   "metadata": {
    "colab": {
     "base_uri": "https://localhost:8080/",
     "height": 36
    },
    "executionInfo": {
     "elapsed": 6,
     "status": "ok",
     "timestamp": 1724080635349,
     "user": {
      "displayName": "Dorian Arifi",
      "userId": "06477489625107752463"
     },
     "user_tz": -120
    },
    "id": "j5UJ2mx8Dsyy",
    "outputId": "74ac1177-9fac-4f9c-fbe9-e59ae06c3575"
   },
   "outputs": [
    {
     "data": {
      "application/vnd.google.colaboratory.intrinsic+json": {
       "type": "string"
      },
      "text/plain": [
       "'2021-07-06 00:09:07'"
      ]
     },
     "execution_count": 8,
     "metadata": {},
     "output_type": "execute_result"
    }
   ],
   "source": [
    "min(df.date)"
   ]
  },
  {
   "cell_type": "code",
   "execution_count": 9,
   "metadata": {
    "colab": {
     "base_uri": "https://localhost:8080/",
     "height": 36
    },
    "executionInfo": {
     "elapsed": 6,
     "status": "ok",
     "timestamp": 1724080635349,
     "user": {
      "displayName": "Dorian Arifi",
      "userId": "06477489625107752463"
     },
     "user_tz": -120
    },
    "id": "0TPgkLEoDsiE",
    "outputId": "dcf7f5a9-817b-459a-bfe9-5b2341f76272"
   },
   "outputs": [
    {
     "data": {
      "application/vnd.google.colaboratory.intrinsic+json": {
       "type": "string"
      },
      "text/plain": [
       "'2021-07-27 23:59:55'"
      ]
     },
     "execution_count": 9,
     "metadata": {},
     "output_type": "execute_result"
    }
   ],
   "source": [
    "max(df.date)"
   ]
  },
  {
   "cell_type": "code",
   "execution_count": null,
   "metadata": {
    "executionInfo": {
     "elapsed": 1912,
     "status": "ok",
     "timestamp": 1724080637256,
     "user": {
      "displayName": "Dorian Arifi",
      "userId": "06477489625107752463"
     },
     "user_tz": -120
    },
    "id": "-Y75j0cMDnFC"
   },
   "outputs": [],
   "source": [
    "import geopandas as gpd\n",
    "from shapely.geometry import Point, Polygon\n",
    "from shapely import wkb\n",
    "tweets_og = df.copy()\n",
    "\n",
    "# > because of the csv, we need to convert the geom into a shapely format\n",
    "tweets_og['geometry'] = tweets_og['geom'].apply(lambda x: wkb.loads(x, hex=True))\n",
    "tweets = gpd.GeoDataFrame(tweets_og, geometry='geometry',crs = \"EPSG:4326\")\n",
    "tweets = tweets.drop('geom',axis=1)\n",
    "\n",
    "# >Iterate through the DataFrame and replace polygons with their centroids => this makes sense due to the results of the next subsection! Polygon size is on average city size\n",
    "for idx, row in tweets.iterrows():\n",
    "    if isinstance(row['geometry'], Polygon):\n",
    "        tweets.at[idx, 'geometry'] = row['geometry'].centroid\n",
    "\n"
   ]
  },
  {
   "cell_type": "markdown",
   "metadata": {
    "id": "NGzoNCsrXTAO"
   },
   "source": [
    "### little excursion into the geometries of the tweets (basic statistics)"
   ]
  },
  {
   "cell_type": "code",
   "execution_count": null,
   "metadata": {
    "id": "k31LiLkBIIF1"
   },
   "outputs": [],
   "source": [
    "import geopandas as gpd\n",
    "\n",
    "# Reproject the GeoDataFrame to a projected CRS (e.g., EPSG:3035 for Europe)\n",
    "tweets_projected = tweets.to_crs(epsg=3035)\n",
    "\n",
    "# Calculate the area in square meters (since EPSG:3035 is in meters)\n",
    "polygon_sizes = []\n",
    "for idx, row in tweets_projected.iterrows():\n",
    "    if isinstance(row['geometry'], Polygon):\n",
    "        polygon_sizes.append(row['geometry'].area)  # This will now be in square meters\n",
    "\n",
    "# Convert to square kilometers\n",
    "polygon_sizes_km2 = tweets_projected.geometry.area / 1e6"
   ]
  },
  {
   "cell_type": "code",
   "execution_count": null,
   "metadata": {
    "colab": {
     "base_uri": "https://localhost:8080/",
     "height": 649
    },
    "executionInfo": {
     "elapsed": 397,
     "status": "ok",
     "timestamp": 1723811095084,
     "user": {
      "displayName": "Dorian Arifi",
      "userId": "06477489625107752463"
     },
     "user_tz": -120
    },
    "id": "vAxFRzGeIL-4",
    "outputId": "5ac8b847-d89a-4c20-d4d9-efb85a9c04e0"
   },
   "outputs": [
    {
     "name": "stdout",
     "output_type": "stream",
     "text": [
      "Mean: 184.52844460366154\n",
      "Median: 119.15065236533007\n",
      "Total Polygons: 9673\n",
      "Unique Polygons: 1240\n",
      "Duplicate Polygons: 8433\n"
     ]
    },
    {
     "data": {
      "image/png": "[encoded data removed]",
      "text/plain": [
       "<Figure size 1000x600 with 1 Axes>"
      ]
     },
     "metadata": {},
     "output_type": "display_data"
    }
   ],
   "source": [
    "polygon_sizes = polygon_sizes_km2\n",
    "\n",
    "# Calculate the mean size of the polygons\n",
    "import numpy as np\n",
    "mean_size = np.mean(polygon_sizes)\n",
    "print('Mean: ' +str(mean_size))\n",
    "print('Median: ' +str(np.median(polygon_sizes)))\n",
    "\n",
    "# Print the number of duplicates\n",
    "# print(f\"Total Polygons: {total_polygons}\")\n",
    "# print(f\"Unique Polygons: {unique_polygons_count}\")\n",
    "# print(f\"Duplicate Polygons: {duplicate_count}\")\n",
    "\n",
    "# Plotting the distribution of polygon sizes\n",
    "plt.figure(figsize=(10, 6))\n",
    "plt.hist(polygon_sizes, bins=30, color='skyblue', edgecolor='black')\n",
    "plt.axvline(mean_size, color='red', linestyle='dashed', linewidth=2)\n",
    "plt.xlabel('Polygon Size (Area)')\n",
    "plt.ylabel('Frequency')\n",
    "plt.title('Distribution of Polygon Sizes')\n",
    "plt.show()"
   ]
  },
  {
   "cell_type": "markdown",
   "metadata": {
    "id": "xukHLavJXLK8"
   },
   "source": [
    "## Matching watersheds and tweets"
   ]
  },
  {
   "cell_type": "code",
   "execution_count": null,
   "metadata": {
    "executionInfo": {
     "elapsed": 1713,
     "status": "ok",
     "timestamp": 1724080638966,
     "user": {
      "displayName": "Dorian Arifi",
      "userId": "06477489625107752463"
     },
     "user_tz": -120
    },
    "id": "1LuZCZ8fE4VT"
   },
   "outputs": [],
   "source": [
    "# load watershed\n",
    "import geopandas as gpd\n",
    "import pandas as pd\n",
    "watersheds = gpd.read_file(r\"/content/drive/MyDrive/AoI_WS1_lev12.shp\") \n",
    "watersheds = watersheds.drop_duplicates('geometry')"
   ]
  },
  {
   "cell_type": "code",
   "execution_count": 12,
   "metadata": {
    "executionInfo": {
     "elapsed": 4,
     "status": "ok",
     "timestamp": 1724080638966,
     "user": {
      "displayName": "Dorian Arifi",
      "userId": "06477489625107752463"
     },
     "user_tz": -120
    },
    "id": "emZhwLQlEhR-"
   },
   "outputs": [],
   "source": [
    "# > Joining the point-data with the watershed\n",
    "joined_gdf = gpd.sjoin(tweets, watersheds.to_crs(\"EPSG:4326\"), how=\"left\", op=\"within\")\n",
    "\n",
    "#joined_gdf.head()\n",
    "\n",
    "# > dropping points outside the watershed shapefile\n",
    "tweets_with_watersheds_filtered = joined_gdf.dropna(subset=['HYBAS_ID'])"
   ]
  },
  {
   "cell_type": "code",
   "execution_count": 13,
   "metadata": {
    "colab": {
     "base_uri": "https://localhost:8080/"
    },
    "executionInfo": {
     "elapsed": 3,
     "status": "ok",
     "timestamp": 1724080638966,
     "user": {
      "displayName": "Dorian Arifi",
      "userId": "06477489625107752463"
     },
     "user_tz": -120
    },
    "id": "JcXEjHNKGYRU",
    "outputId": "5f5ef39b-99ea-4242-afd8-9a53e480c4aa"
   },
   "outputs": [
    {
     "data": {
      "text/plain": [
       "7232"
      ]
     },
     "execution_count": 13,
     "metadata": {},
     "output_type": "execute_result"
    }
   ],
   "source": [
    "df = tweets_with_watersheds_filtered.copy()\n",
    "len(df)"
   ]
  },
  {
   "cell_type": "markdown",
   "metadata": {
    "id": "kpCsBkAn8g5P"
   },
   "source": [
    "# **2. Topic Modelling**"
   ]
  },
  {
   "cell_type": "code",
   "execution_count": 14,
   "metadata": {
    "executionInfo": {
     "elapsed": 2,
     "status": "ok",
     "timestamp": 1724080638966,
     "user": {
      "displayName": "Dorian Arifi",
      "userId": "06477489625107752463"
     },
     "user_tz": -120
    },
    "id": "H9RuiRZT5vQk"
   },
   "outputs": [],
   "source": [
    "df = df.dropna(subset=['text_english'])"
   ]
  },
  {
   "cell_type": "code",
   "execution_count": null,
   "metadata": {
    "executionInfo": {
     "elapsed": 511,
     "status": "ok",
     "timestamp": 1724080639475,
     "user": {
      "displayName": "Dorian Arifi",
      "userId": "06477489625107752463"
     },
     "user_tz": -120
    },
    "id": "L-eC9PzU8g5S"
   },
   "outputs": [],
   "source": [
    "# Preprocess the textual data by removing URLs, mentions, and non-alphabetic characters\n",
    "df.text = df.apply(lambda row: re.sub(r\"http\\S+\", '', row.text_english).lower(), 1)\n",
    "df.text = df.apply(lambda row: \" \".join(filter(lambda x:x[0]!=\"@\", row.text.split())), 1)\n",
    "df.text = df.apply(lambda row: \" \".join(re.sub(\"[^a-zA-Z]+\", \" \", row.text).split()), 1)\n",
    "#\n",
    "timestamps = df[df['text'] != ''].date.to_list()\n",
    "timestamps = [el[:10] for el in timestamps]\n",
    "filtered_tweets = df[df['text'] != ''].text.to_list()"
   ]
  },
  {
   "cell_type": "code",
   "execution_count": 16,
   "metadata": {
    "colab": {
     "base_uri": "https://localhost:8080/"
    },
    "executionInfo": {
     "elapsed": 2,
     "status": "ok",
     "timestamp": 1724080639475,
     "user": {
      "displayName": "Dorian Arifi",
      "userId": "06477489625107752463"
     },
     "user_tz": -120
    },
    "id": "ORMezy7GIvPO",
    "outputId": "4b8541c6-7d74-4995-8b2c-93e4c954298c"
   },
   "outputs": [
    {
     "data": {
      "text/plain": [
       "7223"
      ]
     },
     "execution_count": 16,
     "metadata": {},
     "output_type": "execute_result"
    }
   ],
   "source": [
    "len(filtered_tweets)"
   ]
  },
  {
   "cell_type": "code",
   "execution_count": null,
   "metadata": {
    "colab": {
     "base_uri": "https://localhost:8080/"
    },
    "executionInfo": {
     "elapsed": 267,
     "status": "ok",
     "timestamp": 1724080639740,
     "user": {
      "displayName": "Dorian Arifi",
      "userId": "06477489625107752463"
     },
     "user_tz": -120
    },
    "id": "KfPMSzkBTjoy",
    "outputId": "456e1d33-cbdb-40e9-802f-86d4cdabddc5"
   },
   "outputs": [
    {
     "name": "stderr",
     "output_type": "stream",
     "text": [
      "[nltk_data] Downloading package stopwords to /root/nltk_data...\n",
      "[nltk_data]   Unzipping corpora/stopwords.zip.\n"
     ]
    }
   ],
   "source": [
    "# Use stopwords!\n",
    "import nltk\n",
    "from nltk.corpus import stopwords\n",
    "from sklearn.feature_extraction.text import CountVectorizer\n",
    "\n",
    "# Download stop words for various languages\n",
    "nltk.download('stopwords')\n",
    "\n",
    "# Retrieve stop words if needed for different languages\n",
    "english_stop_words = stopwords.words('english')\n",
    "# french_stop_words = stopwords.words('french')\n",
    "# dutch_stop_words = stopwords.words('dutch')\n",
    "# german_stop_words = stopwords.words('german')\n",
    "\n",
    "# Concatenate stop words for all languages\n",
    "all_stop_words = english_stop_words #+ french_stop_words + dutch_stop_words +german_stop_words\n",
    "\n",
    "# Initialize CountVectorizer with stop words for multiple languages\n",
    "vectorizer_model = CountVectorizer(stop_words=all_stop_words)#min_df=10, ngram_range=(1, 3)\n"
   ]
  },
  {
   "cell_type": "code",
   "execution_count": null,
   "metadata": {
    "colab": {
     "base_uri": "https://localhost:8080/",
     "height": 273,
     "referenced_widgets": [
      "14081306220b41c3bb386f00eb37ac7f",
      "717e3d56b5ae43f097cdb8c4ecd8706a",
      "42de71d42a064fc88a6672a3816c87a9",
      "c86d3fdd6f404539ae8a126def8f2482",
      "028c482da4ba41598d4546077b1953e0",
      "bccd14b08b6244a582b72b48c1301055",
      "965dafdb3b864518ab6f244d324a3768",
      "4f957dd3a86548218a099f82a91b2545",
      "4e77f57384f24d80b2e84a2f84e1e376",
      "4d1ccd28e4cb4da785a4a9bf5a3ae77a",
      "1c6f97ad5b7c4bdc8b5242bd697d75e3"
     ]
    },
    "collapsed": true,
    "executionInfo": {
     "elapsed": 567632,
     "status": "ok",
     "timestamp": 1723797688022,
     "user": {
      "displayName": "Dorian Arifi",
      "userId": "06477489625107752463"
     },
     "user_tz": -120
    },
    "id": "knqi6Q23TkcF",
    "outputId": "9264c0c4-f7e0-44b4-d9c5-5c1f99286b5c"
   },
   "outputs": [
    {
     "name": "stderr",
     "output_type": "stream",
     "text": [
      "2024-08-16 08:32:04,005 - BERTopic - Embedding - Transforming documents to embeddings.\n"
     ]
    },
    {
     "data": {
      "application/vnd.jupyter.widget-view+json": {
       "model_id": "14081306220b41c3bb386f00eb37ac7f",
       "version_major": 2,
       "version_minor": 0
      },
      "text/plain": [
       "Batches:   0%|          | 0/226 [00:00<?, ?it/s]"
      ]
     },
     "metadata": {},
     "output_type": "display_data"
    },
    {
     "name": "stderr",
     "output_type": "stream",
     "text": [
      "2024-08-16 08:40:11,244 - BERTopic - Embedding - Completed ✓\n",
      "2024-08-16 08:40:11,246 - BERTopic - Dimensionality - Fitting the dimensionality reduction algorithm\n",
      "2024-08-16 08:41:02,154 - BERTopic - Dimensionality - Completed ✓\n",
      "2024-08-16 08:41:02,158 - BERTopic - Cluster - Start clustering the reduced embeddings\n",
      "2024-08-16 08:41:03,904 - BERTopic - Cluster - Completed ✓\n",
      "2024-08-16 08:41:03,912 - BERTopic - Representation - Extracting topics from clusters using representation models.\n",
      "2024-08-16 08:41:04,372 - BERTopic - Representation - Completed ✓\n",
      "2024-08-16 08:41:04,375 - BERTopic - Topic reduction - Reducing number of topics\n",
      "2024-08-16 08:41:04,382 - BERTopic - Topic reduction - Reduced number of topics from 35 to 35\n",
      "2024-08-16 08:41:04,675 - BERTopic - WARNING: When you use `pickle` to save/load a BERTopic model,please make sure that the environments in which you saveand load the model are **exactly** the same. The version of BERTopic,its dependencies, and python need to remain the same.\n"
     ]
    },
    {
     "name": "stdout",
     "output_type": "stream",
     "text": [
      "566.740296125412\n"
     ]
    }
   ],
   "source": [
    "# Run topic modelling\n",
    "from sklearn.cluster import AgglomerativeClustering\n",
    "from sentence_transformers import SentenceTransformer\n",
    "import time\n",
    "\n",
    "t1 = time.time()\n",
    "nr_topics=35 # select number of topics\n",
    "\n",
    "from sklearn.cluster import KMeans\n",
    "cluster_model = KMeans(n_clusters=nr_topics)\n",
    "# try AgglomerativeClustering\n",
    "# cluster_model = AgglomerativeClustering(n_clusters=30)\n",
    "\n",
    "multilingual_model = SentenceTransformer('multi-qa-distilbert-cos-v1')# Try differnet models: multi-qa-distilbert-cos-v1#multi-qa-distilbert-cos-v1#paraphrase-multilingual-mpnet-base-v2# all-mpnet-base-v2 not multilingual\n",
    "topic_model = BERTopic(language=\"multilingual\", nr_topics=nr_topics, embedding_model=multilingual_model, vectorizer_model=vectorizer_model,\n",
    "                       verbose = True, hdbscan_model=cluster_model)# hdbscan_model=cluster_model,\n",
    "\n",
    "topics, probs = topic_model.fit_transform(filtered_tweets)\n",
    "topic_model.save(r\"/content/drive/MyDrive/bertopic_model_'multi-qa-distilbert-cos-v1_30\")\n",
    "#topic_model.visualize_barchart(top_n_topics=50)\n",
    "\n",
    "t2 = time.time()\n",
    "print(t2-t1)"
   ]
  },
  {
   "cell_type": "markdown",
   "metadata": {},
   "source": [
    "# **3. Topic Stability**\n",
    "\n",
    "Create several random topic modelling runs to compare keywords"
   ]
  },
  {
   "cell_type": "code",
   "execution_count": null,
   "metadata": {
    "colab": {
     "base_uri": "https://localhost:8080/",
     "height": 36
    },
    "executionInfo": {
     "elapsed": 353,
     "status": "ok",
     "timestamp": 1724080640091,
     "user": {
      "displayName": "Dorian Arifi",
      "userId": "06477489625107752463"
     },
     "user_tz": -120
    },
    "id": "6cgRW8KtAraP",
    "outputId": "f5e01cf5-a013-4c17-f360-0be601f1d888"
   },
   "outputs": [
    {
     "data": {
      "application/vnd.google.colaboratory.intrinsic+json": {
       "type": "string"
      },
      "text/plain": [
       "'[362, 756, 708, 330, 723, 354, 412, 471, 211, 122, 998, 492, 634, 251, 621, 839, 661, 544, 50, 294]'"
      ]
     },
     "execution_count": 18,
     "metadata": {},
     "output_type": "execute_result"
    }
   ],
   "source": [
    "# Select random ints for topic stabiltiy analysis\n",
    "import random\n",
    "str([random.randint(0, 1000) for i in range(0, 20)])"
   ]
  },
  {
   "cell_type": "code",
   "execution_count": null,
   "metadata": {
    "colab": {
     "base_uri": "https://localhost:8080/"
    },
    "executionInfo": {
     "elapsed": 677241,
     "status": "ok",
     "timestamp": 1724083439018,
     "user": {
      "displayName": "Dorian Arifi",
      "userId": "06477489625107752463"
     },
     "user_tz": -120
    },
    "id": "h8r1m0BpYyje",
    "outputId": "14febb2b-c175-4ba2-b603-c0e3535f4c0e"
   },
   "outputs": [
    {
     "name": "stdout",
     "output_type": "stream",
     "text": [
      "0\n"
     ]
    },
    {
     "name": "stderr",
     "output_type": "stream",
     "text": [
      "2024-08-19 15:53:09,659 - BERTopic - WARNING: When you use `pickle` to save/load a BERTopic model,please make sure that the environments in which you saveand load the model are **exactly** the same. The version of BERTopic,its dependencies, and python need to remain the same.\n"
     ]
    },
    {
     "name": "stdout",
     "output_type": "stream",
     "text": [
      "1\n"
     ]
    },
    {
     "name": "stderr",
     "output_type": "stream",
     "text": [
      "2024-08-19 15:54:00,427 - BERTopic - WARNING: When you use `pickle` to save/load a BERTopic model,please make sure that the environments in which you saveand load the model are **exactly** the same. The version of BERTopic,its dependencies, and python need to remain the same.\n"
     ]
    },
    {
     "name": "stdout",
     "output_type": "stream",
     "text": [
      "2\n"
     ]
    },
    {
     "name": "stderr",
     "output_type": "stream",
     "text": [
      "2024-08-19 15:54:33,919 - BERTopic - WARNING: When you use `pickle` to save/load a BERTopic model,please make sure that the environments in which you saveand load the model are **exactly** the same. The version of BERTopic,its dependencies, and python need to remain the same.\n"
     ]
    },
    {
     "name": "stdout",
     "output_type": "stream",
     "text": [
      "3\n"
     ]
    },
    {
     "name": "stderr",
     "output_type": "stream",
     "text": [
      "2024-08-19 15:55:10,449 - BERTopic - WARNING: When you use `pickle` to save/load a BERTopic model,please make sure that the environments in which you saveand load the model are **exactly** the same. The version of BERTopic,its dependencies, and python need to remain the same.\n"
     ]
    },
    {
     "name": "stdout",
     "output_type": "stream",
     "text": [
      "4\n"
     ]
    },
    {
     "name": "stderr",
     "output_type": "stream",
     "text": [
      "2024-08-19 15:55:41,844 - BERTopic - WARNING: When you use `pickle` to save/load a BERTopic model,please make sure that the environments in which you saveand load the model are **exactly** the same. The version of BERTopic,its dependencies, and python need to remain the same.\n"
     ]
    },
    {
     "name": "stdout",
     "output_type": "stream",
     "text": [
      "5\n"
     ]
    },
    {
     "name": "stderr",
     "output_type": "stream",
     "text": [
      "2024-08-19 15:56:12,608 - BERTopic - WARNING: When you use `pickle` to save/load a BERTopic model,please make sure that the environments in which you saveand load the model are **exactly** the same. The version of BERTopic,its dependencies, and python need to remain the same.\n"
     ]
    },
    {
     "name": "stdout",
     "output_type": "stream",
     "text": [
      "6\n"
     ]
    },
    {
     "name": "stderr",
     "output_type": "stream",
     "text": [
      "2024-08-19 15:56:43,983 - BERTopic - WARNING: When you use `pickle` to save/load a BERTopic model,please make sure that the environments in which you saveand load the model are **exactly** the same. The version of BERTopic,its dependencies, and python need to remain the same.\n"
     ]
    },
    {
     "name": "stdout",
     "output_type": "stream",
     "text": [
      "7\n"
     ]
    },
    {
     "name": "stderr",
     "output_type": "stream",
     "text": [
      "2024-08-19 15:57:15,226 - BERTopic - WARNING: When you use `pickle` to save/load a BERTopic model,please make sure that the environments in which you saveand load the model are **exactly** the same. The version of BERTopic,its dependencies, and python need to remain the same.\n"
     ]
    },
    {
     "name": "stdout",
     "output_type": "stream",
     "text": [
      "8\n"
     ]
    },
    {
     "name": "stderr",
     "output_type": "stream",
     "text": [
      "2024-08-19 15:57:48,516 - BERTopic - WARNING: When you use `pickle` to save/load a BERTopic model,please make sure that the environments in which you saveand load the model are **exactly** the same. The version of BERTopic,its dependencies, and python need to remain the same.\n"
     ]
    },
    {
     "name": "stdout",
     "output_type": "stream",
     "text": [
      "9\n"
     ]
    },
    {
     "name": "stderr",
     "output_type": "stream",
     "text": [
      "2024-08-19 15:58:21,398 - BERTopic - WARNING: When you use `pickle` to save/load a BERTopic model,please make sure that the environments in which you saveand load the model are **exactly** the same. The version of BERTopic,its dependencies, and python need to remain the same.\n"
     ]
    },
    {
     "name": "stdout",
     "output_type": "stream",
     "text": [
      "10\n"
     ]
    },
    {
     "name": "stderr",
     "output_type": "stream",
     "text": [
      "2024-08-19 15:58:52,786 - BERTopic - WARNING: When you use `pickle` to save/load a BERTopic model,please make sure that the environments in which you saveand load the model are **exactly** the same. The version of BERTopic,its dependencies, and python need to remain the same.\n"
     ]
    },
    {
     "name": "stdout",
     "output_type": "stream",
     "text": [
      "11\n"
     ]
    },
    {
     "name": "stderr",
     "output_type": "stream",
     "text": [
      "2024-08-19 15:59:23,413 - BERTopic - WARNING: When you use `pickle` to save/load a BERTopic model,please make sure that the environments in which you saveand load the model are **exactly** the same. The version of BERTopic,its dependencies, and python need to remain the same.\n"
     ]
    },
    {
     "name": "stdout",
     "output_type": "stream",
     "text": [
      "12\n"
     ]
    },
    {
     "name": "stderr",
     "output_type": "stream",
     "text": [
      "2024-08-19 16:00:00,733 - BERTopic - WARNING: When you use `pickle` to save/load a BERTopic model,please make sure that the environments in which you saveand load the model are **exactly** the same. The version of BERTopic,its dependencies, and python need to remain the same.\n"
     ]
    },
    {
     "name": "stdout",
     "output_type": "stream",
     "text": [
      "13\n"
     ]
    },
    {
     "name": "stderr",
     "output_type": "stream",
     "text": [
      "2024-08-19 16:00:34,812 - BERTopic - WARNING: When you use `pickle` to save/load a BERTopic model,please make sure that the environments in which you saveand load the model are **exactly** the same. The version of BERTopic,its dependencies, and python need to remain the same.\n"
     ]
    },
    {
     "name": "stdout",
     "output_type": "stream",
     "text": [
      "14\n"
     ]
    },
    {
     "name": "stderr",
     "output_type": "stream",
     "text": [
      "2024-08-19 16:01:07,712 - BERTopic - WARNING: When you use `pickle` to save/load a BERTopic model,please make sure that the environments in which you saveand load the model are **exactly** the same. The version of BERTopic,its dependencies, and python need to remain the same.\n"
     ]
    },
    {
     "name": "stdout",
     "output_type": "stream",
     "text": [
      "15\n"
     ]
    },
    {
     "name": "stderr",
     "output_type": "stream",
     "text": [
      "2024-08-19 16:01:39,154 - BERTopic - WARNING: When you use `pickle` to save/load a BERTopic model,please make sure that the environments in which you saveand load the model are **exactly** the same. The version of BERTopic,its dependencies, and python need to remain the same.\n"
     ]
    },
    {
     "name": "stdout",
     "output_type": "stream",
     "text": [
      "16\n"
     ]
    },
    {
     "name": "stderr",
     "output_type": "stream",
     "text": [
      "2024-08-19 16:02:11,054 - BERTopic - WARNING: When you use `pickle` to save/load a BERTopic model,please make sure that the environments in which you saveand load the model are **exactly** the same. The version of BERTopic,its dependencies, and python need to remain the same.\n"
     ]
    },
    {
     "name": "stdout",
     "output_type": "stream",
     "text": [
      "17\n"
     ]
    },
    {
     "name": "stderr",
     "output_type": "stream",
     "text": [
      "2024-08-19 16:02:43,844 - BERTopic - WARNING: When you use `pickle` to save/load a BERTopic model,please make sure that the environments in which you saveand load the model are **exactly** the same. The version of BERTopic,its dependencies, and python need to remain the same.\n"
     ]
    },
    {
     "name": "stdout",
     "output_type": "stream",
     "text": [
      "18\n"
     ]
    },
    {
     "name": "stderr",
     "output_type": "stream",
     "text": [
      "2024-08-19 16:03:21,442 - BERTopic - WARNING: When you use `pickle` to save/load a BERTopic model,please make sure that the environments in which you saveand load the model are **exactly** the same. The version of BERTopic,its dependencies, and python need to remain the same.\n"
     ]
    },
    {
     "name": "stdout",
     "output_type": "stream",
     "text": [
      "19\n"
     ]
    },
    {
     "name": "stderr",
     "output_type": "stream",
     "text": [
      "2024-08-19 16:03:54,318 - BERTopic - WARNING: When you use `pickle` to save/load a BERTopic model,please make sure that the environments in which you saveand load the model are **exactly** the same. The version of BERTopic,its dependencies, and python need to remain the same.\n"
     ]
    }
   ],
   "source": [
    "from sklearn.cluster import AgglomerativeClustering\n",
    "from sentence_transformers import SentenceTransformer\n",
    "import time\n",
    "from sklearn.cluster import KMeans\n",
    "from umap import UMAP\n",
    "\n",
    "nr_topics=30\n",
    "nr_its = 20\n",
    "\n",
    "cluster_model = KMeans(n_clusters=nr_topics)\n",
    "random_seeds = [365, 782, 60, 284, 896, 479, 401, 894, 142, 412, 153, 623, 625, 230, 846, 351, 652, 494, 586, 465]\n",
    "for i in range(nr_its):\n",
    "  print(i)\n",
    "  # Open the file in append mode\n",
    "  umap = UMAP(n_neighbors=15,\n",
    "            n_components=5,\n",
    "            min_dist=0.0,\n",
    "            metric='cosine',\n",
    "            low_memory=False,\n",
    "            random_state=random_seeds[i])\n",
    "\n",
    "  multilingual_model = SentenceTransformer('multi-qa-distilbert-cos-v1')#multi-qa-distilbert-cos-v1#multi-qa-distilbert-cos-v1#paraphrase-multilingual-mpnet-base-v2# all-mpnet-base-v2 not multilingual\n",
    "  topic_model = BERTopic(language=\"multilingual\", nr_topics=nr_topics, embedding_model=multilingual_model, vectorizer_model=vectorizer_model,\n",
    "                        verbose = False, hdbscan_model=cluster_model, umap_model=umap)#hdbscan_model=cluster_model,\n",
    "\n",
    "  topics, probs = topic_model.fit_transform(filtered_tweets)\n",
    "\n",
    "  topic_model.save(r\"/content/drive/MyDrive/bertopic_model_'multi-qa-distilbert-cos-v1_30_version\"+str(i))\n",
    "  # This is the most important file which is needed in the next topic stability file\n",
    "  file_path = f\"/content/drive/MyDrive/topic_model_tf-idf_socres_{nr_its}.txt\"  \n",
    "\n",
    "  # Open the file in append mode\n",
    "  with open(file_path, 'a') as file:\n",
    "      file.write(f\"&ITERATION_SPLITTER& \")\n",
    "      for topic_num in range(nr_topics):\n",
    "          words = topic_model.get_topic(topic_num)\n",
    "          file.write(f\"&TOPIC_SPLITTER& Topic {topic_num}\\n\")\n",
    "          file.write(\", \".join([f\"{word} ({round(value, 4)})\" for word, value in words]) + '\\n\\n')\n"
   ]
  },
  {
   "cell_type": "code",
   "execution_count": null,
   "metadata": {
    "colab": {
     "base_uri": "https://localhost:8080/"
    },
    "executionInfo": {
     "elapsed": 14370,
     "status": "ok",
     "timestamp": 1724083964933,
     "user": {
      "displayName": "Dorian Arifi",
      "userId": "06477489625107752463"
     },
     "user_tz": -120
    },
    "id": "9I6ZjbjxQ619",
    "outputId": "7dc74119-6454-4699-a150-a38bc1ce84ee"
   },
   "outputs": [
    {
     "name": "stderr",
     "output_type": "stream",
     "text": [
      "2024-08-19 16:12:43,249 - BERTopic - WARNING: When you use `pickle` to save/load a BERTopic model,please make sure that the environments in which you saveand load the model are **exactly** the same. The version of BERTopic,its dependencies, and python need to remain the same.\n"
     ]
    }
   ],
   "source": [
    "# Test topic modelling\n",
    "i=13\n",
    "topic_model = BERTopic.load(r\"/content/drive/MyDrive/bertopic_model_'multi-qa-distilbert-cos-v1_30_version\"+str(i) )\n",
    "\n",
    "# 30 topics\n",
    "timestamps = [el[:10] for el in timestamps]\n",
    "topics_over_time = topic_model.topics_over_time(filtered_tweets, timestamps)\n",
    "# small timeframe model\n",
    "topic_model.visualize_topics_over_time(topics_over_time, topics=topics)\n",
    "topic_model.save(r\"bertopic_model_'multi-qa-distilbert-cos-v1_30_version\"+str(i))\n"
   ]
  },
  {
   "cell_type": "code",
   "execution_count": null,
   "metadata": {
    "colab": {
     "base_uri": "https://localhost:8080/"
    },
    "collapsed": true,
    "executionInfo": {
     "elapsed": 321,
     "status": "ok",
     "timestamp": 1724071699235,
     "user": {
      "displayName": "Dorian Arifi",
      "userId": "06477489625107752463"
     },
     "user_tz": -120
    },
    "id": "GvvQ2Putrlou",
    "outputId": "0623f3ed-0b59-420a-8a56-88c310e77943"
   },
   "outputs": [
    {
     "name": "stdout",
     "output_type": "stream",
     "text": [
      "&SPLITTER& Topic 0\n",
      "people (0.0252), flood (0.0231), affected (0.0225), many (0.0218), floods (0.021), disaster (0.0188), victims (0.0157), lost (0.0155), everything (0.0139), go (0.011)\n",
      "\n",
      "&SPLITTER& Topic 1\n",
      "direction (0.1511), near (0.1156), towards (0.1102), blocked (0.1008), closed (0.081), travel (0.0778), charleroi (0.0699), bastogne (0.0655), li (0.0654), flooding (0.0572)\n",
      "\n",
      "&SPLITTER& Topic 2\n",
      "cologne (1.0408), intensity (0.7918), precipitation (0.7652), area (0.5014), koelle (0.1118),  (0.0),  (0.0),  (0.0),  (0.0),  (0.0)\n",
      "\n",
      "&SPLITTER& Topic 3\n",
      "good (0.0444), luck (0.0419), family (0.037), keep (0.0315), fingers (0.0304), everyone (0.0301), safe (0.0289), crossed (0.028), hope (0.0263), everything (0.0263)\n",
      "\n",
      "&SPLITTER& Topic 4\n",
      "fire (0.0762), leverkusen (0.0469), explosion (0.0462), brigade (0.045), dog (0.0287), poison (0.0287), bait (0.0267), responder (0.0184), friesenhagen (0.0184), operation (0.0184)\n",
      "\n",
      "&SPLITTER& Topic 5\n",
      "water (0.0766), maas (0.0754), high (0.0567), maastricht (0.05), meuse (0.0439), limburg (0.0396), flooding (0.025), wateroverlast (0.0249), level (0.0199), watersnood (0.0196)\n",
      "\n",
      "&SPLITTER& Topic 6\n",
      "neufch (1.6144), teau (1.5951), sunday (0.2837), monday (0.2811), tuesday (0.2761), friday (0.1874), wednesday (0.1857), saturday (0.1857), tronquoy (0.1562), thursday (0.0955)\n",
      "\n",
      "&SPLITTER& Topic 7\n",
      "mh (0.8886), mystery (0.5178), solved (0.5052), youtube (0.4154), check (0.3376), video (0.33), answers (0.1982), judge (0.1982), questions (0.1917), research (0.1801)\n",
      "\n",
      "&SPLITTER& Topic 8\n",
      "vaccinated (0.0586), covid (0.0542), vaccination (0.0531), corona (0.0347), infections (0.033), pandemic (0.0267), via (0.0235), people (0.0229), incidence (0.0227), cases (0.0195)\n",
      "\n",
      "&SPLITTER& Topic 9\n",
      "br (0.5529), veghel (0.4184), bob (0.3349), upscaling (0.3311), alarm (0.2832), veldenweg (0.1624), drunen (0.1428), new (0.1312), large (0.1159), middle (0.1159)\n",
      "\n",
      "&SPLITTER& Topic 10\n",
      "hotton (0.6125), tohogne (0.6125), ardenne (0.5923), roche (0.5677), travel (0.3793), direction (0.3264), blocked (0.2668), towards (0.1584), flooding (0.1443), accident (0.056)\n",
      "\n",
      "&SPLITTER& Topic 11\n",
      "germany (0.031), flood (0.0301), rhine (0.0255), rain (0.0221), heavy (0.0213), water (0.0187), nrw (0.018), wuppertal (0.0176), erftstadt (0.0172), cologne (0.0162)\n",
      "\n",
      "&SPLITTER& Topic 12\n",
      "help (0.0342), donations (0.0328), flood (0.0289), aid (0.027), donate (0.0267), donation (0.026), disaster (0.0235), victims (0.0219), thank (0.0219), helped (0.021)\n",
      "\n",
      "&SPLITTER& Topic 13\n",
      "netherlands (0.0485), schoenstattorg (0.0299), schoenstatt (0.0299), polonia (0.0271), dutch (0.0196), belgium (0.0184), antwerp (0.0181), flemish (0.0175), neighbours (0.0173), hague (0.0173)\n",
      "\n",
      "&SPLITTER& Topic 14\n",
      "khuzestan (0.0459), tigray (0.0427), defundaredes (0.0283), liberenalos (0.0268), justice (0.026), freedom (0.0253), kurdistan (0.025), people (0.0249), iran (0.0223), crime (0.0219)\n",
      "\n",
      "&SPLITTER& Topic 15\n",
      "samson (1.147), gesves (1.1235), closed (0.4877), towards (0.4751), flooding (0.3248),  (0.0),  (0.0),  (0.0),  (0.0),  (0.0)\n",
      "\n",
      "&SPLITTER& Topic 16\n",
      "ahrweiler (0.0457), help (0.0287), flood (0.0282), germany (0.0217), bonn (0.0193), donations (0.0191), ahr (0.0181), district (0.0175), machines (0.0158), erftstadt (0.0158)\n",
      "\n",
      "&SPLITTER& Topic 17\n",
      "climate (0.1193), change (0.0604), crisis (0.0336), climatecrisis (0.0309), catastrophe (0.0253), protection (0.0229), energy (0.021), extreme (0.0205), heat (0.0201), climatechange (0.017)\n",
      "\n",
      "&SPLITTER& Topic 18\n",
      "pastoral (0.7266), care (0.5304), emergency (0.4241), koblenz (0.4194), mayen (0.3885), mission (0.346), landkreismayenkoblenz (0.3257), deployment (0.3044), districtmayenkoblenz (0.1032), operation (0.0661)\n",
      "\n",
      "&SPLITTER& Topic 19\n",
      "ring (0.3818), inner (0.2795), accident (0.247), near (0.2114), lane (0.2098), outer (0.1846), blocked (0.1726), zellik (0.167), left (0.1086), tervuren (0.1)\n",
      "\n",
      "&SPLITTER& Topic 20\n",
      "laschet (0.0651), germany (0.0424), merkel (0.0379), german (0.0303), chancellor (0.029), catastrophe (0.0267), cdu (0.0237), people (0.0227), flood (0.0222), nrw (0.0218)\n",
      "\n",
      "&SPLITTER& Topic 21\n",
      "bless (0.3144), amen (0.1579), living (0.1448), dead (0.119), god (0.0951), flees (0.0932), crawls (0.0932), species (0.0914), enemies (0.0906), tower (0.0898)\n",
      "\n",
      "&SPLITTER& Topic 22\n",
      "cuba (0.1118), soscuba (0.0902), venezuela (0.0781), cuban (0.0649), freedom (0.0553), cubans (0.0493), cambiodesistema (0.0321), cubaesunadictadura (0.0321), free (0.0302), cubadecide (0.0294)\n",
      "\n",
      "&SPLITTER& Topic 23\n",
      "belgium (0.0762), floods (0.0577), liege (0.045), li (0.0379), water (0.0216), city (0.019), flooded (0.0189), namur (0.0183), wallonia (0.0182), weather (0.017)\n",
      "\n",
      "&SPLITTER& Topic 24\n",
      "direction (0.1368), near (0.1299), lummen (0.1077), accident (0.0983), blocked (0.096), lane (0.0888), brussels (0.0746), ranst (0.061), closed (0.0522), stop (0.0479)\n",
      "\n",
      "&SPLITTER& Topic 25\n",
      "electricity (0.0887), power (0.0418), diesel (0.0389), internet (0.0299), warning (0.0299), disaster (0.0276), lives (0.0241), without (0.0241), outage (0.0235), would (0.0232)\n",
      "\n",
      "&SPLITTER& Topic 26\n",
      "hertogenbosch (0.0897), cooperation (0.0757), police (0.0753), found (0.0747), injury (0.0726), missing (0.0682), transport (0.0603), bbn (0.0578), burgernet (0.0552), accident (0.0476)\n",
      "\n",
      "&SPLITTER& Topic 27\n",
      "strength (0.0916), god (0.0762), condolences (0.0638), family (0.0567), may (0.0553), peterrdevries (0.0414), rest (0.039), peace (0.038), lots (0.0355), lot (0.0335)\n",
      "\n",
      "&SPLITTER& Topic 28\n",
      "belgium (0.0733), national (0.0571), day (0.0507), victims (0.0453), mourning (0.0437), solidarity (0.0404), floods (0.037), silence (0.0313), minute (0.0267), july (0.0238)\n",
      "\n",
      "&SPLITTER& Topic 29\n",
      "towards (0.3241), closed (0.3172), flooding (0.18), villers (0.1261), aywaille (0.1178), bastogne (0.1056), li (0.0988), chevetogne (0.0978), etienne (0.0958), lesse (0.0924)\n",
      "\n",
      "&SPLITTER& Topic 30\n",
      "limburg (0.1175), valkenburg (0.0393), venlo (0.039), flooding (0.0348), water (0.0229), high (0.0219), south (0.0198), watersnoodlimburg (0.0193), vrtweer (0.019), evacuation (0.0189)\n",
      "\n",
      "&SPLITTER& Topic 31\n",
      "thank (0.0242), people (0.0232), emergency (0.0175), services (0.0164), us (0.0159), solidarity (0.0156), affected (0.0139), say (0.0137), country (0.0134), pandemic (0.0133)\n",
      "\n",
      "&SPLITTER& Topic 32\n",
      "water (0.0639), basement (0.0473), high (0.0218), flooded (0.0209), damage (0.0201), house (0.0199), dry (0.0184), photo (0.0182), floor (0.0182), cellar (0.0169)\n",
      "\n",
      "&SPLITTER& Topic 33\n",
      "flood (0.0448), rain (0.039), floods (0.0273), water (0.0252), weather (0.022), flooding (0.0186), heavy (0.0173), storm (0.0172), disaster (0.0163), raining (0.0149)\n",
      "\n",
      "&SPLITTER& Topic 34\n",
      "poland (0.0197), country (0.015), uk (0.0149), hunger (0.0148), law (0.0148), strike (0.0146), srebrenica (0.0144), european (0.013), people (0.013), must (0.0118)\n",
      "\n",
      "&SPLITTER& Topic 0\n",
      "donations (0.037), help (0.0368), donate (0.0332), donation (0.0289), flood (0.0276), thank (0.0269), aid (0.0253), volunteers (0.0234), money (0.0233), victims (0.0212)\n",
      "\n",
      "&SPLITTER& Topic 1\n",
      "maas (0.0741), water (0.0713), high (0.0528), maastricht (0.0495), meuse (0.0437), limburg (0.0414), wateroverlast (0.0253), watersnood (0.0238), flooding (0.0232), level (0.0204)\n",
      "\n",
      "&SPLITTER& Topic 2\n",
      "cologne (1.0075), intensity (0.7495), precipitation (0.7242), area (0.4746), koelle (0.1058), statistics (0.0321), britons (0.0321), colorized (0.0321), occupy (0.0293), troops (0.0264)\n",
      "\n",
      "&SPLITTER& Topic 3\n",
      "direction (0.1544), near (0.1265), blocked (0.1122), towards (0.1036), travel (0.0812), charleroi (0.077), bastogne (0.0722), li (0.0709), marche (0.0629), famenne (0.0595)\n",
      "\n",
      "&SPLITTER& Topic 4\n",
      "khuzestan (0.0428), defundaredes (0.0264), kurdistan (0.0254), liberenalos (0.025), justice (0.0243), iran (0.023), people (0.0221), freedom (0.022), insane (0.0203), repressive (0.0201)\n",
      "\n",
      "&SPLITTER& Topic 5\n",
      "flood (0.0442), rain (0.0403), floods (0.0289), weather (0.0233), water (0.0211), storm (0.0191), flooding (0.0187), heavy (0.0174), like (0.0162), raining (0.0151)\n",
      "\n",
      "&SPLITTER& Topic 6\n",
      "flood (0.031), germany (0.0297), rhine (0.023), rain (0.0228), heavy (0.0211), erftstadt (0.0199), nrw (0.0172), water (0.0169), cologne (0.0166), wuppertal (0.0155)\n",
      "\n",
      "&SPLITTER& Topic 7\n",
      "neufch (1.2826), teau (1.2673), valjoly (0.2413), sunday (0.2405), monday (0.2382), friday (0.1588), saturday (0.1574), wednesday (0.1574), tuesday (0.156), aangenaam (0.1324)\n",
      "\n",
      "&SPLITTER& Topic 8\n",
      "br (0.5686), veghel (0.4303), bob (0.3445), upscaling (0.3406), alarm (0.2913), veldenweg (0.167), drunen (0.1469), new (0.1349), middle (0.1192), large (0.1192)\n",
      "\n",
      "&SPLITTER& Topic 9\n",
      "mh (0.9393), mystery (0.5474), solved (0.5341), youtube (0.4391), check (0.3569), video (0.3489), judge (0.2096), answers (0.2096), research (0.1904), questions (0.1689)\n",
      "\n",
      "&SPLITTER& Topic 10\n",
      "industriel (0.6691), acces (0.6691), zoning (0.6242), trooz (0.5306), eupen (0.4139), closed (0.271), li (0.271), flooding (0.1804), towards (0.132), direction (0.1166)\n",
      "\n",
      "&SPLITTER& Topic 11\n",
      "bless (0.3726), amen (0.1872), living (0.1716), dead (0.141), god (0.116), crawls (0.1104), flees (0.1104), species (0.1084), enemies (0.1074), tower (0.1064)\n",
      "\n",
      "&SPLITTER& Topic 12\n",
      "hotton (0.6125), tohogne (0.6125), ardenne (0.5923), roche (0.5677), travel (0.3793), direction (0.3264), blocked (0.2668), towards (0.1584), flooding (0.1443), accident (0.056)\n",
      "\n",
      "&SPLITTER& Topic 13\n",
      "pastoral (0.7266), care (0.5304), emergency (0.4241), koblenz (0.4194), mayen (0.3885), mission (0.346), landkreismayenkoblenz (0.3257), deployment (0.3044), districtmayenkoblenz (0.1032), operation (0.0661)\n",
      "\n",
      "&SPLITTER& Topic 14\n",
      "people (0.0288), thank (0.0284), thanks (0.0215), lost (0.0212), everyone (0.0203), safe (0.0201), good (0.019), us (0.0173), hope (0.0171), family (0.0169)\n",
      "\n",
      "&SPLITTER& Topic 15\n",
      "netherlands (0.035), italy (0.0339), schoenstatt (0.0256), schoenstattorg (0.0256), polonia (0.0233), space (0.021), italians (0.0157), corona (0.0152), flemish (0.015), neighbours (0.0149)\n",
      "\n",
      "&SPLITTER& Topic 16\n",
      "hertogenbosch (0.0931), cooperation (0.0785), police (0.0781), found (0.0775), injury (0.0754), missing (0.0687), transport (0.0626), bbn (0.06), burgernet (0.0573), accident (0.0494)\n",
      "\n",
      "&SPLITTER& Topic 17\n",
      "vaccinated (0.0574), covid (0.0537), vaccination (0.0519), infections (0.0332), corona (0.0332), pandemic (0.0277), people (0.0234), via (0.0225), incidence (0.0223), cases (0.02)\n",
      "\n",
      "&SPLITTER& Topic 18\n",
      "cuba (0.0849), soscuba (0.0671), venezuela (0.06), cuban (0.0483), tigray (0.0434), freedom (0.0412), cubans (0.0367), people (0.0241), cambiodesistema (0.0239), cubaesunadictadura (0.0239)\n",
      "\n",
      "&SPLITTER& Topic 19\n",
      "closed (0.3107), towards (0.2935), huy (0.1769), villers (0.1712), hannut (0.1567), flooding (0.1505), kmp (0.1072), aywaille (0.1066), bastogne (0.0956), chevetogne (0.0886)\n",
      "\n",
      "&SPLITTER& Topic 20\n",
      "poland (0.0188), country (0.0173), uk (0.0166), hunger (0.0142), strike (0.0139), srebrenica (0.0138), european (0.0137), europe (0.0121), africa (0.0118), people (0.0113)\n",
      "\n",
      "&SPLITTER& Topic 21\n",
      "strength (0.081), family (0.0654), condolences (0.0564), god (0.0508), may (0.0445), good (0.0437), luck (0.0395), peterrdevries (0.0366), rest (0.0345), peace (0.0336)\n",
      "\n",
      "&SPLITTER& Topic 22\n",
      "direction (0.1388), near (0.1298), lummen (0.1076), blocked (0.0937), accident (0.0899), lane (0.083), brussels (0.0761), ranst (0.061), closed (0.058), stop (0.0479)\n",
      "\n",
      "&SPLITTER& Topic 23\n",
      "climate (0.117), change (0.0577), crisis (0.0342), climatecrisis (0.0314), catastrophe (0.0249), energy (0.0214), protection (0.0212), extreme (0.0209), heat (0.0204), trees (0.0197)\n",
      "\n",
      "&SPLITTER& Topic 24\n",
      "samson (1.147), gesves (1.1235), closed (0.4877), towards (0.4751), flooding (0.3248),  (0.0),  (0.0),  (0.0),  (0.0),  (0.0)\n",
      "\n",
      "&SPLITTER& Topic 25\n",
      "water (0.0724), basement (0.0434), high (0.0246), dry (0.0188), damage (0.0186), house (0.0182), see (0.0175), flooded (0.0174), hope (0.0157), still (0.0156)\n",
      "\n",
      "&SPLITTER& Topic 26\n",
      "electricity (0.0738), power (0.0493), diesel (0.0332), disaster (0.0294), warning (0.0291), internet (0.0255), areas (0.0236), without (0.0221), would (0.021), lives (0.0206)\n",
      "\n",
      "&SPLITTER& Topic 27\n",
      "belgium (0.0774), floods (0.0548), liege (0.045), li (0.0353), namur (0.0325), dinant (0.0286), flooding (0.0196), water (0.0194), city (0.0183), flooded (0.0182)\n",
      "\n",
      "&SPLITTER& Topic 28\n",
      "ring (0.3785), inner (0.2771), accident (0.2449), near (0.2095), lane (0.208), outer (0.183), blocked (0.1711), zellik (0.1655), left (0.1076), tervuren (0.0867)\n",
      "\n",
      "&SPLITTER& Topic 29\n",
      "affected (0.0293), disaster (0.0265), flood (0.0254), people (0.0221), floods (0.0216), victims (0.0203), solidarity (0.0185), civil (0.0167), many (0.0165), help (0.015)\n",
      "\n",
      "&SPLITTER& Topic 30\n",
      "belgium (0.0709), national (0.056), day (0.0499), victims (0.0446), mourning (0.0436), solidarity (0.0403), floods (0.0369), silence (0.0301), minute (0.0255), july (0.0246)\n",
      "\n",
      "&SPLITTER& Topic 31\n",
      "limburg (0.1145), venlo (0.0385), valkenburg (0.0381), flooding (0.0349), water (0.0224), high (0.0211), vrtweer (0.0195), south (0.0195), evacuation (0.0186), watersnoodlimburg (0.0173)\n",
      "\n",
      "&SPLITTER& Topic 32\n",
      "ahrweiler (0.0425), help (0.0268), flood (0.0242), donations (0.0203), germany (0.0203), district (0.0184), fire (0.0172), leverkusen (0.0157), explosion (0.0154), ahr (0.0152)\n",
      "\n",
      "&SPLITTER& Topic 33\n",
      "laschet (0.0661), germany (0.0413), merkel (0.0346), german (0.0274), chancellor (0.0271), catastrophe (0.0256), cdu (0.0252), people (0.0241), nrw (0.0239), flood (0.0212)\n",
      "\n",
      "&SPLITTER& Topic 34\n",
      "fire (0.0283), bait (0.0198), poison (0.0195), people (0.0185), good (0.0179), take (0.0173), dogs (0.017), many (0.0167), dog (0.0164), evacuated (0.0164)\n",
      "\n",
      "&SPLITTER& Topic 0\n",
      "cuba (0.1053), soscuba (0.085), venezuela (0.0759), cuban (0.0611), freedom (0.0521), cubans (0.0465), cubaesunadictadura (0.0302), cambiodesistema (0.0302), free (0.0285), cubadecide (0.0277)\n",
      "\n",
      "&SPLITTER& Topic 1\n",
      "flood (0.0419), rain (0.0335), floods (0.0259), water (0.025), weather (0.0205), flooding (0.0171), disaster (0.0152), storm (0.0148), heavy (0.0144), raining (0.0133)\n",
      "\n",
      "&SPLITTER& Topic 2\n",
      "direction (0.1511), near (0.1244), blocked (0.1116), towards (0.1018), travel (0.084), charleroi (0.0796), bastogne (0.0746), li (0.0667), marche (0.0651), famenne (0.0616)\n",
      "\n",
      "&SPLITTER& Topic 3\n",
      "cologne (1.0172), intensity (0.7652), precipitation (0.7395), area (0.4846), koelle (0.108), britons (0.0328), colorized (0.0328), occupy (0.0299), troops (0.027), british (0.0241)\n",
      "\n",
      "&SPLITTER& Topic 4\n",
      "netherlands (0.055), schoenstatt (0.0314), schoenstattorg (0.0314), dutch (0.0297), space (0.0289), amsterdam (0.0265), vries (0.0227), via (0.0207), peterrdevries (0.0206), peter (0.02)\n",
      "\n",
      "&SPLITTER& Topic 5\n",
      "mh (0.8886), mystery (0.5178), solved (0.5052), youtube (0.4154), check (0.3376), video (0.33), answers (0.1982), judge (0.1982), questions (0.1917), research (0.1801)\n",
      "\n",
      "&SPLITTER& Topic 6\n",
      "good (0.0383), thank (0.0371), luck (0.0336), thanks (0.0284), everyone (0.028), family (0.0273), people (0.0249), keep (0.0235), fingers (0.0214), crossed (0.0214)\n",
      "\n",
      "&SPLITTER& Topic 7\n",
      "help (0.0373), donations (0.0338), flood (0.0273), donate (0.0268), donation (0.024), aid (0.0237), affected (0.0216), victims (0.0208), thank (0.02), call (0.0195)\n",
      "\n",
      "&SPLITTER& Topic 8\n",
      "ahrweiler (0.0482), flood (0.0283), help (0.0278), germany (0.0228), bonn (0.0193), erftstadt (0.0186), donations (0.018), district (0.0174), hochwasser (0.0166), people (0.0166)\n",
      "\n",
      "&SPLITTER& Topic 9\n",
      "pastoral (0.7266), care (0.5304), emergency (0.4241), koblenz (0.4194), mayen (0.3885), mission (0.346), landkreismayenkoblenz (0.3257), deployment (0.3044), districtmayenkoblenz (0.1032), operation (0.0661)\n",
      "\n",
      "&SPLITTER& Topic 10\n",
      "samson (1.147), gesves (1.1235), closed (0.4877), towards (0.4751), flooding (0.3248),  (0.0),  (0.0),  (0.0),  (0.0),  (0.0)\n",
      "\n",
      "&SPLITTER& Topic 11\n",
      "vaccinated (0.0583), covid (0.0538), vaccination (0.0535), corona (0.0374), infections (0.0328), pandemic (0.0274), people (0.0234), via (0.0234), incidence (0.0226), cases (0.0193)\n",
      "\n",
      "&SPLITTER& Topic 12\n",
      "climate (0.1176), change (0.0571), crisis (0.0312), climatecrisis (0.0302), catastrophe (0.025), protection (0.0234), energy (0.0229), extreme (0.021), heat (0.0189), climatechange (0.0174)\n",
      "\n",
      "&SPLITTER& Topic 13\n",
      "khuzestan (0.0467), tigray (0.0434), defundaredes (0.0288), liberenalos (0.0273), justice (0.0264), people (0.0259), freedom (0.0257), kurdistan (0.0254), iran (0.0227), repressive (0.0219)\n",
      "\n",
      "&SPLITTER& Topic 14\n",
      "limburg (0.0923), water (0.0586), maas (0.0552), high (0.0445), flooding (0.0414), maastricht (0.0355), valkenburg (0.0275), watersnood (0.0247), south (0.0229), roermond (0.0193)\n",
      "\n",
      "&SPLITTER& Topic 15\n",
      "br (0.5686), veghel (0.4303), bob (0.3445), upscaling (0.3406), alarm (0.2913), veldenweg (0.167), drunen (0.1469), new (0.1349), middle (0.1192), large (0.1192)\n",
      "\n",
      "&SPLITTER& Topic 16\n",
      "water (0.0474), electricity (0.0376), basement (0.036), power (0.0264), house (0.0186), damage (0.0169), flooded (0.0169), diesel (0.0149), high (0.0144), see (0.014)\n",
      "\n",
      "&SPLITTER& Topic 17\n",
      "neufch (0.7493), teau (0.7403), sunday (0.2341), valjoly (0.141), sweets (0.141), saure (0.141), nebach (0.141), wiese (0.141), monday (0.1392), cake (0.1329)\n",
      "\n",
      "&SPLITTER& Topic 18\n",
      "fire (0.0541), leverkusen (0.048), explosion (0.0473), poison (0.0293), brigade (0.0292), bait (0.0273), dog (0.0271), polonia (0.021), waste (0.0204), friesenhagen (0.0188)\n",
      "\n",
      "&SPLITTER& Topic 19\n",
      "affected (0.0248), disaster (0.0242), people (0.0228), solidarity (0.0217), flood (0.0213), victims (0.0209), civil (0.0189), many (0.0188), floods (0.0186), protection (0.0156)\n",
      "\n",
      "&SPLITTER& Topic 20\n",
      "hotton (0.6125), tohogne (0.6125), ardenne (0.5923), roche (0.5677), travel (0.3793), direction (0.3264), blocked (0.2668), towards (0.1584), flooding (0.1443), accident (0.056)\n",
      "\n",
      "&SPLITTER& Topic 21\n",
      "hertogenbosch (0.1334), cooperation (0.1126), injury (0.1081), found (0.1078), missing (0.1015), transport (0.0897), burgernet (0.0822), bbn (0.0813), police (0.078), accident (0.0684)\n",
      "\n",
      "&SPLITTER& Topic 22\n",
      "ring (0.385), inner (0.2876), accident (0.2542), near (0.2175), lane (0.2159), outer (0.19), blocked (0.1776), zellik (0.1718), left (0.1117), tervuren (0.09)\n",
      "\n",
      "&SPLITTER& Topic 23\n",
      "belgium (0.0741), national (0.0549), day (0.0488), victims (0.0436), mourning (0.0421), solidarity (0.0396), floods (0.0369), silence (0.0291), minute (0.0246), july (0.0245)\n",
      "\n",
      "&SPLITTER& Topic 24\n",
      "bless (0.2975), amen (0.1529), living (0.137), dead (0.1126), god (0.1085), lord (0.0945), crawls (0.0882), flees (0.0882), species (0.0865), enemies (0.0858)\n",
      "\n",
      "&SPLITTER& Topic 25\n",
      "germany (0.0316), flood (0.0305), rhine (0.0241), rain (0.0232), heavy (0.0224), water (0.0186), nrw (0.0174), wuppertal (0.0171), cologne (0.0166), storm (0.0155)\n",
      "\n",
      "&SPLITTER& Topic 26\n",
      "direction (0.141), near (0.133), lummen (0.1048), blocked (0.0957), accident (0.0946), lane (0.0865), brussels (0.0741), closed (0.061), ranst (0.0594), stop (0.0467)\n",
      "\n",
      "&SPLITTER& Topic 27\n",
      "people (0.0246), many (0.0203), good (0.0182), home (0.0179), evacuated (0.0156), away (0.0155), take (0.0145), everyone (0.0144), flood (0.0142), affected (0.0141)\n",
      "\n",
      "&SPLITTER& Topic 28\n",
      "closed (0.3181), towards (0.2883), huy (0.166), villers (0.1607), flooding (0.1589), hannut (0.1471), kmp (0.147), aywaille (0.1001), bastogne (0.0897), li (0.0839)\n",
      "\n",
      "&SPLITTER& Topic 29\n",
      "laschet (0.0692), germany (0.0395), merkel (0.0379), chancellor (0.032), german (0.0273), cdu (0.0264), catastrophe (0.0257), climate (0.0239), people (0.022), flood (0.0217)\n",
      "\n",
      "&SPLITTER& Topic 30\n",
      "limburg (0.0881), venlo (0.0517), vrtweer (0.0293), valkenburg (0.0269), evacuation (0.0225), high (0.0209), help (0.0203), lo (0.0187), korbeek (0.0182), flooding (0.0182)\n",
      "\n",
      "&SPLITTER& Topic 31\n",
      "belgium (0.0687), floods (0.0526), liege (0.0432), li (0.0349), namur (0.0296), dinant (0.0261), water (0.0247), flooding (0.0207), meuse (0.0205), city (0.0179)\n",
      "\n",
      "&SPLITTER& Topic 32\n",
      "industriel (0.6691), acces (0.6691), zoning (0.6242), trooz (0.5306), eupen (0.4139), closed (0.271), li (0.271), flooding (0.1804), towards (0.132), direction (0.1166)\n",
      "\n",
      "&SPLITTER& Topic 33\n",
      "country (0.0181), poland (0.0161), italy (0.0156), uk (0.0142), strike (0.013), people (0.0123), hunger (0.0121), law (0.0121), srebrenica (0.0118), european (0.0106)\n",
      "\n",
      "&SPLITTER& Topic 34\n",
      "strength (0.0946), condolences (0.0692), god (0.067), family (0.0612), may (0.0546), peterrdevries (0.0435), rest (0.041), peace (0.0399), lots (0.0373), machines (0.0369)\n",
      "\n",
      "&SPLITTER& Topic 0\n",
      "climate (0.1286), change (0.0628), climatecrisis (0.0348), crisis (0.0321), catastrophe (0.0266), protection (0.0246), energy (0.0237), heat (0.0226), extreme (0.0202), climatechange (0.0192)\n",
      "\n",
      "&SPLITTER& Topic 1\n",
      "towards (0.309), closed (0.2986), flooding (0.1864), villers (0.1509), chevetogne (0.117), etienne (0.1146), lesse (0.1106), court (0.0956), rochefort (0.0938), industriel (0.0922)\n",
      "\n",
      "&SPLITTER& Topic 2\n",
      "cologne (1.0075), intensity (0.7495), precipitation (0.7242), area (0.4746), koelle (0.1058), statistics (0.0321), britons (0.0321), colorized (0.0321), occupy (0.0293), troops (0.0264)\n",
      "\n",
      "&SPLITTER& Topic 3\n",
      "khuzestan (0.0472), tigray (0.044), defundaredes (0.0291), liberenalos (0.0276), people (0.0262), freedom (0.026), kurdistan (0.0257), iran (0.023), justice (0.0229), repressive (0.0222)\n",
      "\n",
      "&SPLITTER& Topic 4\n",
      "fire (0.0575), leverkusen (0.0489), explosion (0.0479), brigade (0.0391), bait (0.029), dog (0.0288), poison (0.0286), polonia (0.0224), waste (0.0217), responder (0.02)\n",
      "\n",
      "&SPLITTER& Topic 5\n",
      "water (0.0702), basement (0.0494), high (0.0268), damage (0.021), flooded (0.0178), see (0.017), dry (0.0167), house (0.0164), pictures (0.0156), floor (0.0155)\n",
      "\n",
      "&SPLITTER& Topic 6\n",
      "mh (0.8886), mystery (0.5178), solved (0.5052), youtube (0.4154), check (0.3376), video (0.33), answers (0.1982), judge (0.1982), questions (0.1917), research (0.1801)\n",
      "\n",
      "&SPLITTER& Topic 7\n",
      "electricity (0.0824), power (0.0482), diesel (0.0362), internet (0.0278), disaster (0.0278), without (0.0275), warning (0.0258), would (0.0229), lives (0.0224), areas (0.0223)\n",
      "\n",
      "&SPLITTER& Topic 8\n",
      "br (0.5686), veghel (0.4303), bob (0.3445), upscaling (0.3406), alarm (0.2913), veldenweg (0.167), drunen (0.1469), new (0.1349), middle (0.1192), large (0.1192)\n",
      "\n",
      "&SPLITTER& Topic 9\n",
      "strength (0.0686), family (0.0612), good (0.0433), condolences (0.0411), luck (0.0355), lot (0.0322), friends (0.0318), peterrdevries (0.0315), lots (0.0303), fingers (0.0279)\n",
      "\n",
      "&SPLITTER& Topic 10\n",
      "direction (0.14), near (0.1329), lummen (0.1055), blocked (0.0952), accident (0.094), lane (0.087), brussels (0.0746), ranst (0.0598), closed (0.058), stop (0.047)\n",
      "\n",
      "&SPLITTER& Topic 11\n",
      "hotton (0.6125), tohogne (0.6125), ardenne (0.5923), roche (0.5677), travel (0.3793), direction (0.3264), blocked (0.2668), towards (0.1584), flooding (0.1443), accident (0.056)\n",
      "\n",
      "&SPLITTER& Topic 12\n",
      "belgium (0.0726), floods (0.0546), liege (0.0485), li (0.0356), namur (0.0294), dinant (0.0294), water (0.023), flooding (0.021), flooded (0.0187), meuse (0.0186)\n",
      "\n",
      "&SPLITTER& Topic 13\n",
      "vaccinated (0.0576), covid (0.0546), vaccination (0.052), corona (0.0337), infections (0.0328), pandemic (0.0282), people (0.0231), via (0.0229), incidence (0.0226), cases (0.0203)\n",
      "\n",
      "&SPLITTER& Topic 14\n",
      "ahrweiler (0.0427), help (0.031), donations (0.0289), flood (0.0245), germany (0.0239), district (0.0208), hochwasser (0.0187), thank (0.0182), support (0.0168), ahr (0.0164)\n",
      "\n",
      "&SPLITTER& Topic 15\n",
      "limburg (0.0919), water (0.0555), maas (0.0521), flooding (0.0399), high (0.0395), maastricht (0.0343), valkenburg (0.0293), watersnood (0.0239), south (0.0227), meuse (0.0192)\n",
      "\n",
      "&SPLITTER& Topic 16\n",
      "flood (0.0268), floods (0.026), affected (0.0242), disaster (0.0228), victims (0.0219), china (0.0208), people (0.0205), many (0.0182), solidarity (0.0144), civil (0.0141)\n",
      "\n",
      "&SPLITTER& Topic 17\n",
      "samson (1.147), gesves (1.1235), closed (0.4877), towards (0.4751), flooding (0.3248),  (0.0),  (0.0),  (0.0),  (0.0),  (0.0)\n",
      "\n",
      "&SPLITTER& Topic 18\n",
      "pastoral (0.7266), care (0.5304), emergency (0.4241), koblenz (0.4194), mayen (0.3885), mission (0.346), landkreismayenkoblenz (0.3257), deployment (0.3044), districtmayenkoblenz (0.1032), operation (0.0661)\n",
      "\n",
      "&SPLITTER& Topic 19\n",
      "cuba (0.1045), soscuba (0.0844), venezuela (0.0754), cuban (0.0607), freedom (0.0517), cubans (0.0461), cambiodesistema (0.03), cubaesunadictadura (0.03), free (0.0283), support (0.0277)\n",
      "\n",
      "&SPLITTER& Topic 20\n",
      "belgium (0.0619), national (0.0455), day (0.0399), victims (0.0352), mourning (0.0344), solidarity (0.0324), floods (0.0309), silence (0.0238), minute (0.0201), netherlands (0.0195)\n",
      "\n",
      "&SPLITTER& Topic 21\n",
      "bless (0.1833), god (0.1222), amen (0.1018), living (0.0822), dead (0.0707), lord (0.0657), flees (0.0529), crawls (0.0529), species (0.0519), enemies (0.0514)\n",
      "\n",
      "&SPLITTER& Topic 22\n",
      "ring (0.3895), inner (0.2851), accident (0.252), near (0.2156), lane (0.214), outer (0.1883), blocked (0.1761), zellik (0.1703), left (0.1107), tervuren (0.0892)\n",
      "\n",
      "&SPLITTER& Topic 23\n",
      "hertogenbosch (0.0967), cooperation (0.0816), injury (0.0783), found (0.0781), missing (0.0736), police (0.0688), transport (0.065), bbn (0.0623), burgernet (0.0596), accident (0.0514)\n",
      "\n",
      "&SPLITTER& Topic 24\n",
      "neufch (1.0483), teau (1.0358), sunday (0.2457), mutt (0.1849), valjoly (0.1849), monday (0.1825), tuesday (0.1793), friday (0.1217), wednesday (0.1206), saturday (0.1206)\n",
      "\n",
      "&SPLITTER& Topic 25\n",
      "direction (0.1462), near (0.1126), towards (0.111), blocked (0.1013), bastogne (0.0874), li (0.08), travel (0.077), closed (0.076), charleroi (0.0716), marche (0.0585)\n",
      "\n",
      "&SPLITTER& Topic 26\n",
      "help (0.0366), donations (0.0346), donate (0.029), flood (0.0288), aid (0.0265), donation (0.026), disaster (0.0244), helped (0.0228), affected (0.0221), money (0.0218)\n",
      "\n",
      "&SPLITTER& Topic 27\n",
      "laschet (0.0746), merkel (0.0416), germany (0.04), chancellor (0.0326), cdu (0.0303), catastrophe (0.0272), climate (0.0263), german (0.0247), laschetlacht (0.0244), flood (0.0243)\n",
      "\n",
      "&SPLITTER& Topic 28\n",
      "flood (0.0445), rain (0.0401), floods (0.0277), water (0.0254), weather (0.0226), storm (0.0187), flooded (0.0181), flooding (0.0179), heavy (0.017), raining (0.0157)\n",
      "\n",
      "&SPLITTER& Topic 29\n",
      "italy (0.0204), poland (0.0197), uk (0.0149), hunger (0.0148), strike (0.0146), schoenstattorg (0.0144), srebrenica (0.0144), schoenstatt (0.0144), africa (0.0138), law (0.0136)\n",
      "\n",
      "&SPLITTER& Topic 30\n",
      "rhine (0.0481), rain (0.0405), cologne (0.0356), heavy (0.034), water (0.0305), aachen (0.027), weather (0.026), warning (0.0245), flood (0.0208), germany (0.0207)\n",
      "\n",
      "&SPLITTER& Topic 31\n",
      "people (0.0224), safe (0.0206), good (0.0203), thanks (0.0195), many (0.0183), home (0.0183), go (0.0176), hope (0.0167), everyone (0.0165), fine (0.0155)\n",
      "\n",
      "&SPLITTER& Topic 32\n",
      "flood (0.0333), germany (0.032), erftstadt (0.0271), nrw (0.0201), ahrweiler (0.0194), wuppertal (0.0165), machines (0.0158), people (0.0149), disaster (0.0134), catastrophe (0.0131)\n",
      "\n",
      "&SPLITTER& Topic 33\n",
      "thank (0.0289), people (0.0222), services (0.0208), country (0.0186), solidarity (0.0176), us (0.017), emergency (0.0153), still (0.015), say (0.0147), affected (0.0141)\n",
      "\n",
      "&SPLITTER& Topic 34\n",
      "limburg (0.0817), venlo (0.0488), vrtweer (0.031), evacuation (0.025), valkenburg (0.0234), high (0.0201), lo (0.0198), korbeek (0.0193), help (0.0184), watersnoodlimburg (0.0176)\n",
      "\n",
      "&SPLITTER& Topic 0\n",
      "affected (0.0266), disaster (0.0253), flood (0.0243), people (0.0236), many (0.0225), victims (0.0199), floods (0.0191), solidarity (0.0149), help (0.0134), civil (0.0131)\n",
      "\n",
      "&SPLITTER& Topic 1\n",
      "limburg (0.1257), valkenburg (0.0423), venlo (0.0413), flooding (0.0378), water (0.0247), high (0.024), south (0.0213), evacuation (0.0195), disaster (0.0175), watersnoodlimburg (0.0171)\n",
      "\n",
      "&SPLITTER& Topic 2\n",
      "cologne (1.0172), intensity (0.7652), precipitation (0.7395), area (0.4846), koelle (0.108), britons (0.0328), colorized (0.0328), occupy (0.0299), troops (0.027), british (0.0241)\n",
      "\n",
      "&SPLITTER& Topic 3\n",
      "direction (0.1495), near (0.1233), blocked (0.1096), towards (0.1003), travel (0.0786), charleroi (0.0745), bastogne (0.0699), li (0.0697), marche (0.0609), famenne (0.0595)\n",
      "\n",
      "&SPLITTER& Topic 4\n",
      "cuba (0.0883), soscuba (0.0713), venezuela (0.0637), cuban (0.0513), tigray (0.0461), freedom (0.0437), cubans (0.039), people (0.0256), cambiodesistema (0.0254), cubaesunadictadura (0.0254)\n",
      "\n",
      "&SPLITTER& Topic 5\n",
      "vrtweer (0.0496), netherlands (0.0488), weerfoto (0.0262), heverlee (0.0253), antwerp (0.0243), flemish (0.0205), dutch (0.0197), willem (0.0179), alexander (0.0174), hague (0.0174)\n",
      "\n",
      "&SPLITTER& Topic 6\n",
      "vaccinated (0.0563), covid (0.0513), vaccination (0.047), corona (0.0326), infections (0.0317), pandemic (0.0272), people (0.0242), via (0.021), incidence (0.0208), health (0.0195)\n",
      "\n",
      "&SPLITTER& Topic 7\n",
      "strength (0.069), family (0.0545), condolences (0.0496), god (0.0468), may (0.0417), good (0.0409), peterrdevries (0.0344), luck (0.0322), lot (0.0296), rest (0.0294)\n",
      "\n",
      "&SPLITTER& Topic 8\n",
      "ahrweiler (0.0439), help (0.0279), flood (0.0264), fire (0.0224), germany (0.0215), bonn (0.0194), district (0.0187), donations (0.018), ahr (0.0156), machines (0.0154)\n",
      "\n",
      "&SPLITTER& Topic 9\n",
      "ring (0.3798), inner (0.2838), accident (0.2509), near (0.2146), lane (0.2131), outer (0.1875), blocked (0.1753), zellik (0.1696), left (0.1103), tervuren (0.0888)\n",
      "\n",
      "&SPLITTER& Topic 10\n",
      "pastoral (0.7266), care (0.5304), emergency (0.4241), koblenz (0.4194), mayen (0.3885), mission (0.346), landkreismayenkoblenz (0.3257), deployment (0.3044), districtmayenkoblenz (0.1032), operation (0.0661)\n",
      "\n",
      "&SPLITTER& Topic 11\n",
      "mh (0.9393), mystery (0.5474), solved (0.5341), youtube (0.4391), check (0.3569), video (0.3489), judge (0.2096), answers (0.2096), research (0.1904), questions (0.1689)\n",
      "\n",
      "&SPLITTER& Topic 12\n",
      "br (0.5686), veghel (0.4303), bob (0.3445), upscaling (0.3406), alarm (0.2913), veldenweg (0.167), drunen (0.1469), new (0.1349), middle (0.1192), large (0.1192)\n",
      "\n",
      "&SPLITTER& Topic 13\n",
      "flood (0.0609), floods (0.037), disaster (0.0264), water (0.0219), warning (0.0203), flooding (0.019), catastrophe (0.018), warnings (0.0168), people (0.0133), areas (0.0129)\n",
      "\n",
      "&SPLITTER& Topic 14\n",
      "country (0.0197), italy (0.0159), poland (0.0143), uk (0.0136), strike (0.0124), people (0.0124), hunger (0.0116), law (0.0116), years (0.0114), srebrenica (0.0113)\n",
      "\n",
      "&SPLITTER& Topic 15\n",
      "samson (1.147), gesves (1.1235), closed (0.4877), towards (0.4751), flooding (0.3248),  (0.0),  (0.0),  (0.0),  (0.0),  (0.0)\n",
      "\n",
      "&SPLITTER& Topic 16\n",
      "neufch (0.9386), teau (0.9274), valjoly (0.1656), sunday (0.165), monday (0.1634), tuesday (0.1605), york (0.1443), friday (0.109), wednesday (0.108), saturday (0.108)\n",
      "\n",
      "&SPLITTER& Topic 17\n",
      "flood (0.0317), germany (0.0305), rhine (0.0248), rain (0.0223), heavy (0.0207), nrw (0.0189), erftstadt (0.0182), water (0.0182), wuppertal (0.0175), eifel (0.0174)\n",
      "\n",
      "&SPLITTER& Topic 18\n",
      "hertogenbosch (0.1033), cooperation (0.0872), injury (0.0837), found (0.0835), missing (0.0786), police (0.0762), transport (0.0695), bbn (0.0666), burgernet (0.0637), accident (0.0568)\n",
      "\n",
      "&SPLITTER& Topic 19\n",
      "hotton (0.6125), tohogne (0.6125), ardenne (0.5923), roche (0.5677), travel (0.3793), direction (0.3264), blocked (0.2668), towards (0.1584), flooding (0.1443), accident (0.056)\n",
      "\n",
      "&SPLITTER& Topic 20\n",
      "belgium (0.0764), floods (0.0559), liege (0.0426), li (0.036), namur (0.0322), dinant (0.0292), flooding (0.0204), water (0.0187), city (0.0187), brussels (0.0181)\n",
      "\n",
      "&SPLITTER& Topic 21\n",
      "leverkusen (0.0624), fire (0.0614), explosion (0.0612), bait (0.0371), dog (0.0368), poison (0.0365), brigade (0.0312), tokyo (0.029), dogs (0.0254), trash (0.0225)\n",
      "\n",
      "&SPLITTER& Topic 22\n",
      "climate (0.1234), change (0.0603), crisis (0.0341), climatecrisis (0.0319), catastrophe (0.0265), protection (0.0236), energy (0.0227), extreme (0.0208), heat (0.02), climatechange (0.0184)\n",
      "\n",
      "&SPLITTER& Topic 23\n",
      "donations (0.0437), help (0.0345), donate (0.0321), donation (0.0315), flood (0.024), aid (0.0225), money (0.0215), distance (0.0203), thank (0.0201), helped (0.02)\n",
      "\n",
      "&SPLITTER& Topic 24\n",
      "belgium (0.071), national (0.0541), day (0.0488), victims (0.0448), mourning (0.0421), solidarity (0.0389), floods (0.0369), silence (0.0291), minute (0.0257), july (0.0237)\n",
      "\n",
      "&SPLITTER& Topic 25\n",
      "water (0.0451), electricity (0.0387), basement (0.037), power (0.027), damage (0.0185), high (0.017), diesel (0.0157), house (0.0139), flooded (0.0133), cellar (0.0132)\n",
      "\n",
      "&SPLITTER& Topic 26\n",
      "water (0.0756), maas (0.0745), high (0.0545), maastricht (0.0498), meuse (0.0451), limburg (0.0398), wateroverlast (0.0267), watersnood (0.0263), flooding (0.0234), roermond (0.0197)\n",
      "\n",
      "&SPLITTER& Topic 27\n",
      "thank (0.0364), people (0.0342), safe (0.0262), thanks (0.0256), lost (0.0247), everyone (0.0207), services (0.0187), hope (0.0183), family (0.018), good (0.0179)\n",
      "\n",
      "&SPLITTER& Topic 28\n",
      "industriel (0.6691), acces (0.6691), zoning (0.6242), trooz (0.5306), eupen (0.4139), closed (0.271), li (0.271), flooding (0.1804), towards (0.132), direction (0.1166)\n",
      "\n",
      "&SPLITTER& Topic 29\n",
      "bless (0.3438), amen (0.1711), living (0.1569), dead (0.135), god (0.1152), flees (0.101), crawls (0.101), species (0.0991), enemies (0.0982), tower (0.0973)\n",
      "\n",
      "&SPLITTER& Topic 30\n",
      "khuzestan (0.0462), defundaredes (0.0285), kurdistan (0.0275), liberenalos (0.027), freedom (0.0255), iran (0.0248), justice (0.0224), people (0.022), insane (0.0219), repressive (0.0217)\n",
      "\n",
      "&SPLITTER& Topic 31\n",
      "direction (0.1366), near (0.1277), lummen (0.1067), blocked (0.0917), accident (0.0868), lane (0.0809), brussels (0.0754), ranst (0.0605), closed (0.0587), stop (0.0475)\n",
      "\n",
      "&SPLITTER& Topic 32\n",
      "rain (0.0514), water (0.0326), weather (0.0253), storm (0.0222), raining (0.0207), hope (0.0197), yes (0.0187), heavy (0.0185), bad (0.0174), house (0.0166)\n",
      "\n",
      "&SPLITTER& Topic 33\n",
      "closed (0.3193), towards (0.3016), huy (0.1818), villers (0.176), hannut (0.1611), flooding (0.1547), kmp (0.1101), aywaille (0.1096), bastogne (0.0982), chevetogne (0.091)\n",
      "\n",
      "&SPLITTER& Topic 34\n",
      "laschet (0.0636), germany (0.0398), merkel (0.0394), chancellor (0.031), german (0.0304), catastrophe (0.0255), people (0.0242), cdu (0.0242), nrw (0.0241), climate (0.0219)\n",
      "\n",
      "\n"
     ]
    }
   ],
   "source": [
    "\n",
    "file_path = f\"/content/drive/MyDrive/topic_model_tf-idf_socres_{nr_its}.txt\"  # File path\n",
    "\n",
    "# Open the file in read mode\n",
    "with open(file_path, 'r') as file:\n",
    "    # Read all contents of the file\n",
    "    file_content = file.read()\n",
    "\n",
    "# Print the content to check\n",
    "print(file_content)\n"
   ]
  },
  {
   "cell_type": "code",
   "execution_count": null,
   "metadata": {
    "colab": {
     "base_uri": "https://localhost:8080/",
     "height": 467
    },
    "executionInfo": {
     "elapsed": 640,
     "status": "ok",
     "timestamp": 1724077005650,
     "user": {
      "displayName": "Dorian Arifi",
      "userId": "06477489625107752463"
     },
     "user_tz": -120
    },
    "id": "lF6Y9J6B_t2-",
    "outputId": "739c87b0-a2c4-40c4-ff05-40f91305f65c"
   },
   "outputs": [
    {
     "data": {
      "text/html": [
       "<html>\n",
       "<head><meta charset=\"utf-8\" /></head>\n",
       "<body>\n",
       "    <div>            <script src=\"https://cdnjs.cloudflare.com/ajax/libs/mathjax/2.7.5/MathJax.js?config=TeX-AMS-MML_SVG\"></script><script type=\"text/javascript\">if (window.MathJax && window.MathJax.Hub && window.MathJax.Hub.Config) {window.MathJax.Hub.Config({SVG: {font: \"STIX-Web\"}});}</script>                <script type=\"text/javascript\">window.PlotlyConfig = {MathJaxConfig: 'local'};</script>\n",
       "        <script charset=\"utf-8\" src=\"https://cdn.plot.ly/plotly-2.24.1.min.js\"></script>                <div id=\"6bff2df0-c8eb-45c4-acae-7c211f0e019b\" class=\"plotly-graph-div\" style=\"height:450px; width:1250px;\"></div>            <script type=\"text/javascript\">                                    window.PLOTLYENV=window.PLOTLYENV || {};                                    if (document.getElementById(\"6bff2df0-c8eb-45c4-acae-7c211f0e019b\")) {                    Plotly.newPlot(                        \"6bff2df0-c8eb-45c4-acae-7c211f0e019b\",                        [{\"hoverinfo\":\"text\",\"hovertext\":[\"\\u003cb\\u003eTopic 0\\u003c\\u002fb\\u003e\\u003cbr\\u003eWords: digital, mersch, germany, koblenz, tropicalstormelsa\",\"\\u003cb\\u003eTopic 0\\u003c\\u002fb\\u003e\\u003cbr\\u003eWords: abuse, germany, ammersee, hema, kilometers\",\"\\u003cb\\u003eTopic 0\\u003c\\u002fb\\u003e\\u003cbr\\u003eWords: rzburg, hanau, local, nrw, think\",\"\\u003cb\\u003eTopic 0\\u003c\\u002fb\\u003e\\u003cbr\\u003eWords: emobicon, steven, spielberg, supercharging, bafa\",\"\\u003cb\\u003eTopic 0\\u003c\\u002fb\\u003e\\u003cbr\\u003eWords: germany, cuxhaven, elbe, ferry, heavy\",\"\\u003cb\\u003eTopic 0\\u003c\\u002fb\\u003e\\u003cbr\\u003eWords: mahnertm, hle, schuller, forest, valley\",\"\\u003cb\\u003eTopic 0\\u003c\\u002fb\\u003e\\u003cbr\\u003eWords: premonstratensian, monastery, event, nature, wedinghausen\",\"\\u003cb\\u003eTopic 0\\u003c\\u002fb\\u003e\\u003cbr\\u003eWords: apartments, bonn, reichsstra, bypass, weather\",\"\\u003cb\\u003eTopic 0\\u003c\\u002fb\\u003e\\u003cbr\\u003eWords: rain, hagen, wuppertal, heavy, germany\",\"\\u003cb\\u003eTopic 0\\u003c\\u002fb\\u003e\\u003cbr\\u003eWords: germany, flood, rhine, nrw, wuppertal\",\"\\u003cb\\u003eTopic 0\\u003c\\u002fb\\u003e\\u003cbr\\u003eWords: flood, germany, ahrweiler, erftstadt, catastrophe\",\"\\u003cb\\u003eTopic 0\\u003c\\u002fb\\u003e\\u003cbr\\u003eWords: germany, erftstadt, flood, machines, ahrweiler\",\"\\u003cb\\u003eTopic 0\\u003c\\u002fb\\u003e\\u003cbr\\u003eWords: ahrweiler, germany, flood, erftstadt, merkel\",\"\\u003cb\\u003eTopic 0\\u003c\\u002fb\\u003e\\u003cbr\\u003eWords: flood, germany, rhine, ahrweiler, people\",\"\\u003cb\\u003eTopic 0\\u003c\\u002fb\\u003e\\u003cbr\\u003eWords: germany, ahrweiler, flood, merkel, catastrophe\",\"\\u003cb\\u003eTopic 0\\u003c\\u002fb\\u003e\\u003cbr\\u003eWords: germany, flood, ahrweiler, dernau, wuppertal\",\"\\u003cb\\u003eTopic 0\\u003c\\u002fb\\u003e\\u003cbr\\u003eWords: flood, ahrweiler, germany, opel, district\",\"\\u003cb\\u003eTopic 0\\u003c\\u002fb\\u003e\\u003cbr\\u003eWords: ahrweiler, flood, germany, please, wuppertal\",\"\\u003cb\\u003eTopic 0\\u003c\\u002fb\\u003e\\u003cbr\\u003eWords: eifel, germany, ahrweiler, trier, flood\",\"\\u003cb\\u003eTopic 0\\u003c\\u002fb\\u003e\\u003cbr\\u003eWords: flood, germany, people, eifel, ahrweiler\",\"\\u003cb\\u003eTopic 0\\u003c\\u002fb\\u003e\\u003cbr\\u003eWords: german, injured, germany, flood, ahrweiler\",\"\\u003cb\\u003eTopic 0\\u003c\\u002fb\\u003e\\u003cbr\\u003eWords: warning, germany, flood, nazis, state\"],\"marker\":{\"color\":\"#E69F00\"},\"mode\":\"lines\",\"name\":\"0_germany_flood_ahrweiler_erftstadt\",\"x\":[\"2021-07-06T00:00:00\",\"2021-07-07T00:00:00\",\"2021-07-08T00:00:00\",\"2021-07-09T00:00:00\",\"2021-07-10T00:00:00\",\"2021-07-11T00:00:00\",\"2021-07-12T00:00:00\",\"2021-07-13T00:00:00\",\"2021-07-14T00:00:00\",\"2021-07-15T00:00:00\",\"2021-07-16T00:00:00\",\"2021-07-17T00:00:00\",\"2021-07-18T00:00:00\",\"2021-07-19T00:00:00\",\"2021-07-20T00:00:00\",\"2021-07-21T00:00:00\",\"2021-07-22T00:00:00\",\"2021-07-23T00:00:00\",\"2021-07-24T00:00:00\",\"2021-07-25T00:00:00\",\"2021-07-26T00:00:00\",\"2021-07-27T00:00:00\"],\"y\":[6,13,13,4,16,10,7,13,87,139,122,129,71,40,39,49,35,24,29,28,22,19],\"type\":\"scatter\"},{\"hoverinfo\":\"text\",\"hovertext\":[\"\\u003cb\\u003eTopic 1\\u003c\\u002fb\\u003e\\u003cbr\\u003eWords: near, blocked, direction, lane, towards\",\"\\u003cb\\u003eTopic 1\\u003c\\u002fb\\u003e\\u003cbr\\u003eWords: direction, near, accident, blocked, lane\",\"\\u003cb\\u003eTopic 1\\u003c\\u002fb\\u003e\\u003cbr\\u003eWords: direction, near, blocked, traffic, lummen\",\"\\u003cb\\u003eTopic 1\\u003c\\u002fb\\u003e\\u003cbr\\u003eWords: direction, near, accident, blocked, lane\",\"\\u003cb\\u003eTopic 1\\u003c\\u002fb\\u003e\\u003cbr\\u003eWords: near, direction, blocked, accident, lane\",\"\\u003cb\\u003eTopic 1\\u003c\\u002fb\\u003e\\u003cbr\\u003eWords: direction, blocked, near, brussels, lane\",\"\\u003cb\\u003eTopic 1\\u003c\\u002fb\\u003e\\u003cbr\\u003eWords: direction, near, blocked, accident, lane\",\"\\u003cb\\u003eTopic 1\\u003c\\u002fb\\u003e\\u003cbr\\u003eWords: direction, near, blocked, bastogne, accident\",\"\\u003cb\\u003eTopic 1\\u003c\\u002fb\\u003e\\u003cbr\\u003eWords: direction, near, blocked, travel, lane\",\"\\u003cb\\u003eTopic 1\\u003c\\u002fb\\u003e\\u003cbr\\u003eWords: direction, near, blocked, travel, towards\",\"\\u003cb\\u003eTopic 1\\u003c\\u002fb\\u003e\\u003cbr\\u003eWords: direction, near, blocked, lummen, closed\",\"\\u003cb\\u003eTopic 1\\u003c\\u002fb\\u003e\\u003cbr\\u003eWords: near, direction, blocked, lane, accident\",\"\\u003cb\\u003eTopic 1\\u003c\\u002fb\\u003e\\u003cbr\\u003eWords: direction, near, blocked, accident, travel\",\"\\u003cb\\u003eTopic 1\\u003c\\u002fb\\u003e\\u003cbr\\u003eWords: direction, near, blocked, lummen, closed\",\"\\u003cb\\u003eTopic 1\\u003c\\u002fb\\u003e\\u003cbr\\u003eWords: stage, direction, blocked, skievepark, hellingen\",\"\\u003cb\\u003eTopic 1\\u003c\\u002fb\\u003e\\u003cbr\\u003eWords: ghini, direction, flow, near, blocked\",\"\\u003cb\\u003eTopic 1\\u003c\\u002fb\\u003e\\u003cbr\\u003eWords: arlon, direction, near, blocked, eglisestdonat\",\"\\u003cb\\u003eTopic 1\\u003c\\u002fb\\u003e\\u003cbr\\u003eWords: direction, near, li, blocked, towards\",\"\\u003cb\\u003eTopic 1\\u003c\\u002fb\\u003e\\u003cbr\\u003eWords: direction, near, blocked, accident, retie\",\"\\u003cb\\u003eTopic 1\\u003c\\u002fb\\u003e\\u003cbr\\u003eWords: direction, near, blocked, bastogne, accident\",\"\\u003cb\\u003eTopic 1\\u003c\\u002fb\\u003e\\u003cbr\\u003eWords: stop, served, works, bus, avenue\",\"\\u003cb\\u003eTopic 1\\u003c\\u002fb\\u003e\\u003cbr\\u003eWords: eradicating, charlevillemezieres, secure, direction, machelen\"],\"marker\":{\"color\":\"#56B4E9\"},\"mode\":\"lines\",\"name\":\"1_direction_near_blocked_accident\",\"x\":[\"2021-07-06T00:00:00\",\"2021-07-07T00:00:00\",\"2021-07-08T00:00:00\",\"2021-07-09T00:00:00\",\"2021-07-10T00:00:00\",\"2021-07-11T00:00:00\",\"2021-07-12T00:00:00\",\"2021-07-13T00:00:00\",\"2021-07-14T00:00:00\",\"2021-07-15T00:00:00\",\"2021-07-16T00:00:00\",\"2021-07-17T00:00:00\",\"2021-07-18T00:00:00\",\"2021-07-19T00:00:00\",\"2021-07-20T00:00:00\",\"2021-07-21T00:00:00\",\"2021-07-22T00:00:00\",\"2021-07-23T00:00:00\",\"2021-07-24T00:00:00\",\"2021-07-25T00:00:00\",\"2021-07-26T00:00:00\",\"2021-07-27T00:00:00\"],\"y\":[13,15,10,10,19,5,20,20,48,62,43,6,9,29,5,6,7,13,20,25,24,2],\"type\":\"scatter\"},{\"hoverinfo\":\"text\",\"hovertext\":[\"\\u003cb\\u003eTopic 2\\u003c\\u002fb\\u003e\\u003cbr\\u003eWords: fire, service, kaew, providers, factory\",\"\\u003cb\\u003eTopic 2\\u003c\\u002fb\\u003e\\u003cbr\\u003eWords: cop, milano, tinted, foreigners, fascinating\",\"\\u003cb\\u003eTopic 2\\u003c\\u002fb\\u003e\\u003cbr\\u003eWords: indonesian, watch, jolyonmaugham, sums, hollywood\",\"\\u003cb\\u003eTopic 2\\u003c\\u002fb\\u003e\\u003cbr\\u003eWords: elected, years, taking, population, minneapolis\",\"\\u003cb\\u003eTopic 2\\u003c\\u002fb\\u003e\\u003cbr\\u003eWords: nooneisillegal, supportforundocumented, mutilated, wearebelgiumtoo, crawl\",\"\\u003cb\\u003eTopic 2\\u003c\\u002fb\\u003e\\u003cbr\\u003eWords: magnets, leverage, leverageredemption, birmingham, warnapp\",\"\\u003cb\\u003eTopic 2\\u003c\\u002fb\\u003e\\u003cbr\\u003eWords: cultivate, marked, backgrounds, brilliance, empower\",\"\\u003cb\\u003eTopic 2\\u003c\\u002fb\\u003e\\u003cbr\\u003eWords: fomo, pelt, accidents, complain, plans\",\"\\u003cb\\u003eTopic 2\\u003c\\u002fb\\u003e\\u003cbr\\u003eWords: services, mi, thanks, people, family\",\"\\u003cb\\u003eTopic 2\\u003c\\u002fb\\u003e\\u003cbr\\u003eWords: affected, people, floods, flood, emergency\",\"\\u003cb\\u003eTopic 2\\u003c\\u002fb\\u003e\\u003cbr\\u003eWords: people, flood, disaster, thank, affected\",\"\\u003cb\\u003eTopic 2\\u003c\\u002fb\\u003e\\u003cbr\\u003eWords: victims, help, affected, civil, flood\",\"\\u003cb\\u003eTopic 2\\u003c\\u002fb\\u003e\\u003cbr\\u003eWords: people, flood, affected, victims, thank\",\"\\u003cb\\u003eTopic 2\\u003c\\u002fb\\u003e\\u003cbr\\u003eWords: affected, disaster, help, civil, people\",\"\\u003cb\\u003eTopic 2\\u003c\\u002fb\\u003e\\u003cbr\\u003eWords: affected, victims, disaster, flood, solidarity\",\"\\u003cb\\u003eTopic 2\\u003c\\u002fb\\u003e\\u003cbr\\u003eWords: county, disaster, huge, helped, shuttled\",\"\\u003cb\\u003eTopic 2\\u003c\\u002fb\\u003e\\u003cbr\\u003eWords: citizens, flood, victims, affected, aid\",\"\\u003cb\\u003eTopic 2\\u003c\\u002fb\\u003e\\u003cbr\\u003eWords: flood, disaster, victims, people, help\",\"\\u003cb\\u003eTopic 2\\u003c\\u002fb\\u003e\\u003cbr\\u003eWords: aid, flood, distance, affected, call\",\"\\u003cb\\u003eTopic 2\\u003c\\u002fb\\u003e\\u003cbr\\u003eWords: opinions, relief, casualties, people, floods\",\"\\u003cb\\u003eTopic 2\\u003c\\u002fb\\u003e\\u003cbr\\u003eWords: people, rebuild, help, need, cloche\",\"\\u003cb\\u003eTopic 2\\u003c\\u002fb\\u003e\\u003cbr\\u003eWords: airline, shareholders, condor, nirvana, cducorruption\"],\"marker\":{\"color\":\"#009E73\"},\"mode\":\"lines\",\"name\":\"2_people_flood_affected_disaster\",\"x\":[\"2021-07-06T00:00:00\",\"2021-07-07T00:00:00\",\"2021-07-08T00:00:00\",\"2021-07-09T00:00:00\",\"2021-07-10T00:00:00\",\"2021-07-11T00:00:00\",\"2021-07-12T00:00:00\",\"2021-07-13T00:00:00\",\"2021-07-14T00:00:00\",\"2021-07-15T00:00:00\",\"2021-07-16T00:00:00\",\"2021-07-17T00:00:00\",\"2021-07-18T00:00:00\",\"2021-07-19T00:00:00\",\"2021-07-20T00:00:00\",\"2021-07-21T00:00:00\",\"2021-07-22T00:00:00\",\"2021-07-23T00:00:00\",\"2021-07-24T00:00:00\",\"2021-07-25T00:00:00\",\"2021-07-26T00:00:00\",\"2021-07-27T00:00:00\"],\"y\":[17,6,6,9,13,7,7,14,28,96,115,60,62,58,66,48,29,31,27,18,28,16],\"type\":\"scatter\"},{\"hoverinfo\":\"text\",\"hovertext\":[\"\\u003cb\\u003eTopic 3\\u003c\\u002fb\\u003e\\u003cbr\\u003eWords: vegetable, thier, arouses, delicate, manipulated\",\"\\u003cb\\u003eTopic 3\\u003c\\u002fb\\u003e\\u003cbr\\u003eWords: namur, poetry, ronique, streetart, bernard\",\"\\u003cb\\u003eTopic 3\\u003c\\u002fb\\u003e\\u003cbr\\u003eWords: thursday, metaphor, illogical, scaled, inclusive\",\"\\u003cb\\u003eTopic 3\\u003c\\u002fb\\u003e\\u003cbr\\u003eWords: brewing, apply, neighboring, unfortunately, something\",\"\\u003cb\\u003eTopic 3\\u003c\\u002fb\\u003e\\u003cbr\\u003eWords: whopping, sea, ardennes, meters, rise\",\"\\u003cb\\u003eTopic 3\\u003c\\u002fb\\u003e\\u003cbr\\u003eWords: safety, salamanca, uncertainties, uranium, facility\",\"\\u003cb\\u003eTopic 3\\u003c\\u002fb\\u003e\\u003cbr\\u003eWords: belgium, power, fall, sky, foggy\",\"\\u003cb\\u003eTopic 3\\u003c\\u002fb\\u003e\\u003cbr\\u003eWords: belgium, floods, rain, li, climate\",\"\\u003cb\\u003eTopic 3\\u003c\\u002fb\\u003e\\u003cbr\\u003eWords: belgium, floods, liege, li, meuse\",\"\\u003cb\\u003eTopic 3\\u003c\\u002fb\\u003e\\u003cbr\\u003eWords: belgium, liege, floods, li, meuse\",\"\\u003cb\\u003eTopic 3\\u003c\\u002fb\\u003e\\u003cbr\\u003eWords: belgium, floods, meuse, water, liege\",\"\\u003cb\\u003eTopic 3\\u003c\\u002fb\\u003e\\u003cbr\\u003eWords: belgium, dinant, floods, li, yvoir\",\"\\u003cb\\u003eTopic 3\\u003c\\u002fb\\u003e\\u003cbr\\u003eWords: belgium, namur, floods, dinant, yvoir\",\"\\u003cb\\u003eTopic 3\\u003c\\u002fb\\u003e\\u003cbr\\u003eWords: belgium, mm, floods, eupen, dam\",\"\\u003cb\\u003eTopic 3\\u003c\\u002fb\\u003e\\u003cbr\\u003eWords: belgium, forest, floods, food, inventory\",\"\\u003cb\\u003eTopic 3\\u003c\\u002fb\\u003e\\u003cbr\\u003eWords: rats, flock, eliminate, professional, call\",\"\\u003cb\\u003eTopic 3\\u003c\\u002fb\\u003e\\u003cbr\\u003eWords: garden, belgium, information, greenhouse, planting\",\"\\u003cb\\u003eTopic 3\\u003c\\u002fb\\u003e\\u003cbr\\u003eWords: namur, dinant, floods, belgium, affect\",\"\\u003cb\\u003eTopic 3\\u003c\\u002fb\\u003e\\u003cbr\\u003eWords: namur, floods, belgium, dinant, water\",\"\\u003cb\\u003eTopic 3\\u003c\\u002fb\\u003e\\u003cbr\\u003eWords: belgium, emael, ostende, enact, eben\",\"\\u003cb\\u003eTopic 3\\u003c\\u002fb\\u003e\\u003cbr\\u003eWords: gymnasiums, chest, treasure, housed, assignment\"],\"marker\":{\"color\":\"#F0E442\"},\"mode\":\"lines\",\"name\":\"3_belgium_floods_liege_li\",\"x\":[\"2021-07-06T00:00:00\",\"2021-07-07T00:00:00\",\"2021-07-08T00:00:00\",\"2021-07-10T00:00:00\",\"2021-07-11T00:00:00\",\"2021-07-12T00:00:00\",\"2021-07-13T00:00:00\",\"2021-07-14T00:00:00\",\"2021-07-15T00:00:00\",\"2021-07-16T00:00:00\",\"2021-07-17T00:00:00\",\"2021-07-18T00:00:00\",\"2021-07-19T00:00:00\",\"2021-07-20T00:00:00\",\"2021-07-21T00:00:00\",\"2021-07-22T00:00:00\",\"2021-07-23T00:00:00\",\"2021-07-24T00:00:00\",\"2021-07-25T00:00:00\",\"2021-07-26T00:00:00\",\"2021-07-27T00:00:00\"],\"y\":[2,2,3,1,1,1,7,22,134,74,36,24,22,15,8,9,7,25,22,6,3],\"type\":\"scatter\"},{\"hoverinfo\":\"text\",\"hovertext\":[\"\\u003cb\\u003eTopic 4\\u003c\\u002fb\\u003e\\u003cbr\\u003eWords: venezuela, free, freedom, venteholanda, defundaredes\",\"\\u003cb\\u003eTopic 4\\u003c\\u002fb\\u003e\\u003cbr\\u003eWords: liberenalos, defundaredes, venezuela, venteholanda, justice\",\"\\u003cb\\u003eTopic 4\\u003c\\u002fb\\u003e\\u003cbr\\u003eWords: venezuela, regime, freedom, demand, caracas\",\"\\u003cb\\u003eTopic 4\\u003c\\u002fb\\u003e\\u003cbr\\u003eWords: venezuela, criminals, let, crime, ask\",\"\\u003cb\\u003eTopic 4\\u003c\\u002fb\\u003e\\u003cbr\\u003eWords: detained, freedom, say, released, cuba\",\"\\u003cb\\u003eTopic 4\\u003c\\u002fb\\u003e\\u003cbr\\u003eWords: soscuba, cuban, cubadecide, cambiodesistema, corrected\",\"\\u003cb\\u003eTopic 4\\u003c\\u002fb\\u003e\\u003cbr\\u003eWords: cuba, soscuba, minister, venezuela, cuban\",\"\\u003cb\\u003eTopic 4\\u003c\\u002fb\\u003e\\u003cbr\\u003eWords: cuba, freddy, guevara, kidnapping, dondeestafreddyguevara\",\"\\u003cb\\u003eTopic 4\\u003c\\u002fb\\u003e\\u003cbr\\u003eWords: cuba, soscuba, protesters, rejection, freedom\",\"\\u003cb\\u003eTopic 4\\u003c\\u002fb\\u003e\\u003cbr\\u003eWords: cuba, soscuba, freedom, liberals, mep\",\"\\u003cb\\u003eTopic 4\\u003c\\u002fb\\u003e\\u003cbr\\u003eWords: cuba, esunamierda, rtbf, editionspeciale, detention\",\"\\u003cb\\u003eTopic 4\\u003c\\u002fb\\u003e\\u003cbr\\u003eWords: khamenei, khuzestan, yazid, spaniards, rebel\",\"\\u003cb\\u003eTopic 4\\u003c\\u002fb\\u003e\\u003cbr\\u003eWords: tigray, tigrayan, ethiopia, umrakubarefugeecamp, tigraymassarrest\",\"\\u003cb\\u003eTopic 4\\u003c\\u002fb\\u003e\\u003cbr\\u003eWords: khuzestan, alone, masoud, fourth, message\",\"\\u003cb\\u003eTopic 4\\u003c\\u002fb\\u003e\\u003cbr\\u003eWords: khuzestan, kurdistan, overthrow, el, cuba\",\"\\u003cb\\u003eTopic 4\\u003c\\u002fb\\u003e\\u003cbr\\u003eWords: freedomanddemocracyforhk, careful, care, take, cuba\",\"\\u003cb\\u003eTopic 4\\u003c\\u002fb\\u003e\\u003cbr\\u003eWords: create, people, diaspora, cuba, soscuba\",\"\\u003cb\\u003eTopic 4\\u003c\\u002fb\\u003e\\u003cbr\\u003eWords: kurdistan, overthrow, iran, freedom, khuzestan\",\"\\u003cb\\u003eTopic 4\\u003c\\u002fb\\u003e\\u003cbr\\u003eWords: rebuttal, gario, tabriz, sardaran, zealous\",\"\\u003cb\\u003eTopic 4\\u003c\\u002fb\\u003e\\u003cbr\\u003eWords: protesting, kidnapped, labelled, imprisoned, tigray\",\"\\u003cb\\u003eTopic 4\\u003c\\u002fb\\u003e\\u003cbr\\u003eWords: imprisoned, protests, kolbers, rasht, lakan\",\"\\u003cb\\u003eTopic 4\\u003c\\u002fb\\u003e\\u003cbr\\u003eWords: tigray, tigrayans, cubans, inherently, eritrea\"],\"marker\":{\"color\":\"#D55E00\"},\"mode\":\"lines\",\"name\":\"4_cuba_soscuba_freedom_venezuela\",\"x\":[\"2021-07-06T00:00:00\",\"2021-07-07T00:00:00\",\"2021-07-08T00:00:00\",\"2021-07-09T00:00:00\",\"2021-07-10T00:00:00\",\"2021-07-11T00:00:00\",\"2021-07-12T00:00:00\",\"2021-07-13T00:00:00\",\"2021-07-14T00:00:00\",\"2021-07-15T00:00:00\",\"2021-07-16T00:00:00\",\"2021-07-17T00:00:00\",\"2021-07-18T00:00:00\",\"2021-07-19T00:00:00\",\"2021-07-20T00:00:00\",\"2021-07-21T00:00:00\",\"2021-07-22T00:00:00\",\"2021-07-23T00:00:00\",\"2021-07-24T00:00:00\",\"2021-07-25T00:00:00\",\"2021-07-26T00:00:00\",\"2021-07-27T00:00:00\"],\"y\":[22,17,23,14,9,14,24,21,12,9,9,5,17,5,14,1,7,9,2,8,11,8],\"type\":\"scatter\"},{\"hoverinfo\":\"text\",\"hovertext\":[\"\\u003cb\\u003eTopic 5\\u003c\\u002fb\\u003e\\u003cbr\\u003eWords: cologne, intensity, precipitation, area, koelle\",\"\\u003cb\\u003eTopic 5\\u003c\\u002fb\\u003e\\u003cbr\\u003eWords: cologne, intensity, precipitation, area, koelle\",\"\\u003cb\\u003eTopic 5\\u003c\\u002fb\\u003e\\u003cbr\\u003eWords: cologne, intensity, precipitation, area, koelle\",\"\\u003cb\\u003eTopic 5\\u003c\\u002fb\\u003e\\u003cbr\\u003eWords: cologne, intensity, precipitation, area, koelle\",\"\\u003cb\\u003eTopic 5\\u003c\\u002fb\\u003e\\u003cbr\\u003eWords: cologne, intensity, precipitation, area, koelle\",\"\\u003cb\\u003eTopic 5\\u003c\\u002fb\\u003e\\u003cbr\\u003eWords: cologne, intensity, precipitation, area, koelle\",\"\\u003cb\\u003eTopic 5\\u003c\\u002fb\\u003e\\u003cbr\\u003eWords: cologne, intensity, precipitation, area, koelle\",\"\\u003cb\\u003eTopic 5\\u003c\\u002fb\\u003e\\u003cbr\\u003eWords: cologne, intensity, precipitation, area, koelle\",\"\\u003cb\\u003eTopic 5\\u003c\\u002fb\\u003e\\u003cbr\\u003eWords: cologne, intensity, precipitation, area, koelle\",\"\\u003cb\\u003eTopic 5\\u003c\\u002fb\\u003e\\u003cbr\\u003eWords: cologne, intensity, precipitation, area, koelle\",\"\\u003cb\\u003eTopic 5\\u003c\\u002fb\\u003e\\u003cbr\\u003eWords: cologne, intensity, precipitation, area, koelle\",\"\\u003cb\\u003eTopic 5\\u003c\\u002fb\\u003e\\u003cbr\\u003eWords: cologne, intensity, precipitation, area, koelle\"],\"marker\":{\"color\":\"#0072B2\"},\"mode\":\"lines\",\"name\":\"5_cologne_intensity_precipitation_area\",\"x\":[\"2021-07-06T00:00:00\",\"2021-07-08T00:00:00\",\"2021-07-09T00:00:00\",\"2021-07-10T00:00:00\",\"2021-07-11T00:00:00\",\"2021-07-12T00:00:00\",\"2021-07-13T00:00:00\",\"2021-07-14T00:00:00\",\"2021-07-24T00:00:00\",\"2021-07-25T00:00:00\",\"2021-07-26T00:00:00\",\"2021-07-27T00:00:00\"],\"y\":[2,3,2,4,1,2,7,13,5,2,2,4],\"type\":\"scatter\"},{\"hoverinfo\":\"text\",\"hovertext\":[\"\\u003cb\\u003eTopic 6\\u003c\\u002fb\\u003e\\u003cbr\\u003eWords: acces, industriel, zoning, trooz, eupen\",\"\\u003cb\\u003eTopic 6\\u003c\\u002fb\\u003e\\u003cbr\\u003eWords: acces, industriel, zoning, trooz, eupen\",\"\\u003cb\\u003eTopic 6\\u003c\\u002fb\\u003e\\u003cbr\\u003eWords: acces, industriel, zoning, trooz, eupen\"],\"marker\":{\"color\":\"#CC79A7\"},\"mode\":\"lines\",\"name\":\"6_industriel_acces_zoning_trooz\",\"x\":[\"2021-07-16T00:00:00\",\"2021-07-19T00:00:00\",\"2021-07-23T00:00:00\"],\"y\":[2,2,2],\"type\":\"scatter\"},{\"hoverinfo\":\"text\",\"hovertext\":[\"\\u003cb\\u003eTopic 7\\u003c\\u002fb\\u003e\\u003cbr\\u003eWords: directions, rue, traffic, blocked, houyet\",\"\\u003cb\\u003eTopic 7\\u003c\\u002fb\\u003e\\u003cbr\\u003eWords: directions, rue, traffic, houyet, blocked\",\"\\u003cb\\u003eTopic 7\\u003c\\u002fb\\u003e\\u003cbr\\u003eWords: directions, rue, traffic, blocked, houyet\"],\"marker\":{\"color\":\"#E69F00\"},\"mode\":\"lines\",\"name\":\"7_directions_rue_traffic_blocked\",\"x\":[\"2021-07-16T00:00:00\",\"2021-07-18T00:00:00\",\"2021-07-19T00:00:00\"],\"y\":[3,2,3],\"type\":\"scatter\"},{\"hoverinfo\":\"text\",\"hovertext\":[\"\\u003cb\\u003eTopic 8\\u003c\\u002fb\\u003e\\u003cbr\\u003eWords: mh, mystery, solved, youtube, check\",\"\\u003cb\\u003eTopic 8\\u003c\\u002fb\\u003e\\u003cbr\\u003eWords: mh, relics, claimed, google, british\"],\"marker\":{\"color\":\"#56B4E9\"},\"mode\":\"lines\",\"name\":\"8_mh_mystery_solved_youtube\",\"x\":[\"2021-07-17T00:00:00\",\"2021-07-21T00:00:00\"],\"y\":[15,1],\"type\":\"scatter\"},{\"hoverinfo\":\"text\",\"hovertext\":[\"\\u003cb\\u003eTopic 9\\u003c\\u002fb\\u003e\\u003cbr\\u003eWords: pastoral, care, koblenz, emergency, mayen\",\"\\u003cb\\u003eTopic 9\\u003c\\u002fb\\u003e\\u003cbr\\u003eWords: pastoral, care, emergency, koblenz, mayen\",\"\\u003cb\\u003eTopic 9\\u003c\\u002fb\\u003e\\u003cbr\\u003eWords: pastoral, care, emergency, koblenz, mayen\",\"\\u003cb\\u003eTopic 9\\u003c\\u002fb\\u003e\\u003cbr\\u003eWords: pastoral, care, emergency, koblenz, mayen\",\"\\u003cb\\u003eTopic 9\\u003c\\u002fb\\u003e\\u003cbr\\u003eWords: pastoral, care, emergency, koblenz, mayen\"],\"marker\":{\"color\":\"#009E73\"},\"mode\":\"lines\",\"name\":\"9_pastoral_care_emergency_koblenz\",\"x\":[\"2021-07-20T00:00:00\",\"2021-07-21T00:00:00\",\"2021-07-22T00:00:00\",\"2021-07-23T00:00:00\",\"2021-07-25T00:00:00\"],\"y\":[2,1,3,3,1],\"type\":\"scatter\"},{\"hoverinfo\":\"text\",\"hovertext\":[\"\\u003cb\\u003eTopic 10\\u003c\\u002fb\\u003e\\u003cbr\\u003eWords: vaccination, covid, vaccine, vaccinated, apart\",\"\\u003cb\\u003eTopic 10\\u003c\\u002fb\\u003e\\u003cbr\\u003eWords: vaccination, vaccinated, covid, infections, corona\",\"\\u003cb\\u003eTopic 10\\u003c\\u002fb\\u003e\\u003cbr\\u003eWords: vaccination, covid, vaccinated, million, joke\",\"\\u003cb\\u003eTopic 10\\u003c\\u002fb\\u003e\\u003cbr\\u003eWords: vaccinated, corona, sharply, indo, covid\",\"\\u003cb\\u003eTopic 10\\u003c\\u002fb\\u003e\\u003cbr\\u003eWords: vaccinated, vaccination, infected, corona, covid\",\"\\u003cb\\u003eTopic 10\\u003c\\u002fb\\u003e\\u003cbr\\u003eWords: vaccination, vaccinated, covid, infections, clubs\",\"\\u003cb\\u003eTopic 10\\u003c\\u002fb\\u003e\\u003cbr\\u003eWords: vaccination, covid, vaccinated, corona, incidence\",\"\\u003cb\\u003eTopic 10\\u003c\\u002fb\\u003e\\u003cbr\\u003eWords: corona, vaccinated, vaccination, data, infections\",\"\\u003cb\\u003eTopic 10\\u003c\\u002fb\\u003e\\u003cbr\\u003eWords: covid, vaccinated, infections, million, vaccination\",\"\\u003cb\\u003eTopic 10\\u003c\\u002fb\\u003e\\u003cbr\\u003eWords: covid, doses, australia, vaccinated, deaths\",\"\\u003cb\\u003eTopic 10\\u003c\\u002fb\\u003e\\u003cbr\\u003eWords: vaccinated, sold, corona, million, vehicles\",\"\\u003cb\\u003eTopic 10\\u003c\\u002fb\\u003e\\u003cbr\\u003eWords: covid, vaccination, vaccinated, deltavariant, vaccinate\",\"\\u003cb\\u003eTopic 10\\u003c\\u002fb\\u003e\\u003cbr\\u003eWords: vaccinated, vaccination, covid, people, coronavirus\",\"\\u003cb\\u003eTopic 10\\u003c\\u002fb\\u003e\\u003cbr\\u003eWords: vaccination, vaccinated, covid, incidence, vaccines\",\"\\u003cb\\u003eTopic 10\\u003c\\u002fb\\u003e\\u003cbr\\u003eWords: corona, pandemic, bla, covid, health\",\"\\u003cb\\u003eTopic 10\\u003c\\u002fb\\u003e\\u003cbr\\u003eWords: wear, longer, plays, hate, helpfulness\",\"\\u003cb\\u003eTopic 10\\u003c\\u002fb\\u003e\\u003cbr\\u003eWords: vaccinated, covid, pandemic, fully, million\",\"\\u003cb\\u003eTopic 10\\u003c\\u002fb\\u003e\\u003cbr\\u003eWords: covid, infections, vaccinated, ppl, vaccination\",\"\\u003cb\\u003eTopic 10\\u003c\\u002fb\\u003e\\u003cbr\\u003eWords: covid, jul, vaccinated, fri, infections\",\"\\u003cb\\u003eTopic 10\\u003c\\u002fb\\u003e\\u003cbr\\u003eWords: germanangst, vaccinated, germanpanic, infected, panic\",\"\\u003cb\\u003eTopic 10\\u003c\\u002fb\\u003e\\u003cbr\\u003eWords: vaccinated, corona, vaccination, covid, ard\",\"\\u003cb\\u003eTopic 10\\u003c\\u002fb\\u003e\\u003cbr\\u003eWords: mental, trainings, covid, health, modern\"],\"marker\":{\"color\":\"#F0E442\"},\"mode\":\"lines\",\"name\":\"10_vaccinated_covid_vaccination_corona\",\"x\":[\"2021-07-06T00:00:00\",\"2021-07-07T00:00:00\",\"2021-07-08T00:00:00\",\"2021-07-09T00:00:00\",\"2021-07-10T00:00:00\",\"2021-07-11T00:00:00\",\"2021-07-12T00:00:00\",\"2021-07-13T00:00:00\",\"2021-07-14T00:00:00\",\"2021-07-15T00:00:00\",\"2021-07-16T00:00:00\",\"2021-07-17T00:00:00\",\"2021-07-18T00:00:00\",\"2021-07-19T00:00:00\",\"2021-07-20T00:00:00\",\"2021-07-21T00:00:00\",\"2021-07-22T00:00:00\",\"2021-07-23T00:00:00\",\"2021-07-24T00:00:00\",\"2021-07-25T00:00:00\",\"2021-07-26T00:00:00\",\"2021-07-27T00:00:00\"],\"y\":[14,27,16,13,12,22,21,19,18,11,6,11,14,17,19,20,13,15,12,25,15,10],\"type\":\"scatter\"},{\"hoverinfo\":\"text\",\"hovertext\":[\"\\u003cb\\u003eTopic 11\\u003c\\u002fb\\u003e\\u003cbr\\u003eWords: peterrdevries, two, copy, strength, good\",\"\\u003cb\\u003eTopic 11\\u003c\\u002fb\\u003e\\u003cbr\\u003eWords: strength, family, lot, condolences, lots\",\"\\u003cb\\u003eTopic 11\\u003c\\u002fb\\u003e\\u003cbr\\u003eWords: strength, condolences, family, fly, copy\",\"\\u003cb\\u003eTopic 11\\u003c\\u002fb\\u003e\\u003cbr\\u003eWords: tuthamon, winds, band, savetunisia, standupcomedy\",\"\\u003cb\\u003eTopic 11\\u003c\\u002fb\\u003e\\u003cbr\\u003eWords: strength, friends, relatives, far, hope\",\"\\u003cb\\u003eTopic 11\\u003c\\u002fb\\u003e\\u003cbr\\u003eWords: etihadfreeflights, taking, flying, strength, around\",\"\\u003cb\\u003eTopic 11\\u003c\\u002fb\\u003e\\u003cbr\\u003eWords: brings, lovewins, brainless, emotions, soulmates\",\"\\u003cb\\u003eTopic 11\\u003c\\u002fb\\u003e\\u003cbr\\u003eWords: tunisia, congratulations, today, follow, strength\",\"\\u003cb\\u003eTopic 11\\u003c\\u002fb\\u003e\\u003cbr\\u003eWords: good, keep, crossed, fingers, really\",\"\\u003cb\\u003eTopic 11\\u003c\\u002fb\\u003e\\u003cbr\\u003eWords: family, strength, friends, peter, luck\",\"\\u003cb\\u003eTopic 11\\u003c\\u002fb\\u003e\\u003cbr\\u003eWords: family, strength, good, luck, ok\",\"\\u003cb\\u003eTopic 11\\u003c\\u002fb\\u003e\\u003cbr\\u003eWords: strength, condolences, family, diocese, help\",\"\\u003cb\\u003eTopic 11\\u003c\\u002fb\\u003e\\u003cbr\\u003eWords: strength, tireless, thanks, lots, good\",\"\\u003cb\\u003eTopic 11\\u003c\\u002fb\\u003e\\u003cbr\\u003eWords: ng, family, good, jerusalem, palestine\",\"\\u003cb\\u003eTopic 11\\u003c\\u002fb\\u003e\\u003cbr\\u003eWords: space, keep, fingers, crossed, trip\",\"\\u003cb\\u003eTopic 11\\u003c\\u002fb\\u003e\\u003cbr\\u003eWords: economy, billions, space, good, many\",\"\\u003cb\\u003eTopic 11\\u003c\\u002fb\\u003e\\u003cbr\\u003eWords: ha, people, contagion, family, peter\",\"\\u003cb\\u003eTopic 11\\u003c\\u002fb\\u003e\\u003cbr\\u003eWords: olympics, good, way, luck, thanks\",\"\\u003cb\\u003eTopic 11\\u003c\\u002fb\\u003e\\u003cbr\\u003eWords: tokyo, strength, sharper, guru, velortbf\",\"\\u003cb\\u003eTopic 11\\u003c\\u002fb\\u003e\\u003cbr\\u003eWords: hope, cairo, thanks, sad, family\",\"\\u003cb\\u003eTopic 11\\u003c\\u002fb\\u003e\\u003cbr\\u003eWords: palestine, hope, deposits, jotokyo, communiqu\",\"\\u003cb\\u003eTopic 11\\u003c\\u002fb\\u003e\\u003cbr\\u003eWords: amarin, coach, wish, ridiculous, media\"],\"marker\":{\"color\":\"#D55E00\"},\"mode\":\"lines\",\"name\":\"11_strength_family_good_condolences\",\"x\":[\"2021-07-06T00:00:00\",\"2021-07-07T00:00:00\",\"2021-07-08T00:00:00\",\"2021-07-09T00:00:00\",\"2021-07-10T00:00:00\",\"2021-07-11T00:00:00\",\"2021-07-12T00:00:00\",\"2021-07-13T00:00:00\",\"2021-07-14T00:00:00\",\"2021-07-15T00:00:00\",\"2021-07-16T00:00:00\",\"2021-07-17T00:00:00\",\"2021-07-18T00:00:00\",\"2021-07-19T00:00:00\",\"2021-07-20T00:00:00\",\"2021-07-21T00:00:00\",\"2021-07-22T00:00:00\",\"2021-07-23T00:00:00\",\"2021-07-24T00:00:00\",\"2021-07-25T00:00:00\",\"2021-07-26T00:00:00\",\"2021-07-27T00:00:00\"],\"y\":[24,22,16,6,15,13,9,13,19,67,45,23,19,27,15,14,16,17,22,16,9,9],\"type\":\"scatter\"},{\"hoverinfo\":\"text\",\"hovertext\":[\"\\u003cb\\u003eTopic 12\\u003c\\u002fb\\u003e\\u003cbr\\u003eWords: postweg, venlo, setting, burgernet, urk\",\"\\u003cb\\u003eTopic 12\\u003c\\u002fb\\u003e\\u003cbr\\u003eWords: hertogenbosch, geldrop, cooperation, cycling, police\",\"\\u003cb\\u003eTopic 12\\u003c\\u002fb\\u003e\\u003cbr\\u003eWords: hertogenbosch, injury, bbn, transport, accident\",\"\\u003cb\\u003eTopic 12\\u003c\\u002fb\\u003e\\u003cbr\\u003eWords: kerkrade, heerlen, report, nieuwstraat, shooter\",\"\\u003cb\\u003eTopic 12\\u003c\\u002fb\\u003e\\u003cbr\\u003eWords: hertogenbosch, injury, transport, bbn, helmond\",\"\\u003cb\\u003eTopic 12\\u003c\\u002fb\\u003e\\u003cbr\\u003eWords: valjoly, valkenswaard, sunday, aangenaam, ups\",\"\\u003cb\\u003eTopic 12\\u003c\\u002fb\\u003e\\u003cbr\\u003eWords: police, horssen, looking, found, hertogenbosch\",\"\\u003cb\\u003eTopic 12\\u003c\\u002fb\\u003e\\u003cbr\\u003eWords: kerkrade, missing, walker, monseigneur, hamstraat\",\"\\u003cb\\u003eTopic 12\\u003c\\u002fb\\u003e\\u003cbr\\u003eWords: sittard, eindhoven, found, cooperation, missing\",\"\\u003cb\\u003eTopic 12\\u003c\\u002fb\\u003e\\u003cbr\\u003eWords: hertogenbosch, cooperation, burgernet, injury, zeeland\",\"\\u003cb\\u003eTopic 12\\u003c\\u002fb\\u003e\\u003cbr\\u003eWords: police, found, eod, explosives, regoutstraat\",\"\\u003cb\\u003eTopic 12\\u003c\\u002fb\\u003e\\u003cbr\\u003eWords: roermond, missing, injury, cooperation, hapert\",\"\\u003cb\\u003eTopic 12\\u003c\\u002fb\\u003e\\u003cbr\\u003eWords: cooperation, found, bugernet, ziggosportf, maxverstappen\",\"\\u003cb\\u003eTopic 12\\u003c\\u002fb\\u003e\\u003cbr\\u003eWords: hertogenbosch, vlijmenseweg, bbn, injury, transport\",\"\\u003cb\\u003eTopic 12\\u003c\\u002fb\\u003e\\u003cbr\\u003eWords: verstappen, bull, poederleeseweg, marches, suspension\",\"\\u003cb\\u003eTopic 12\\u003c\\u002fb\\u003e\\u003cbr\\u003eWords: venray, cooperation, continue, oirlo, bergeijk\",\"\\u003cb\\u003eTopic 12\\u003c\\u002fb\\u003e\\u003cbr\\u003eWords: burgernet, deurne, cooperation, eindhoven, police\",\"\\u003cb\\u003eTopic 12\\u003c\\u002fb\\u003e\\u003cbr\\u003eWords: geleen, cooperation, found, missing, kerkdriel\",\"\\u003cb\\u003eTopic 12\\u003c\\u002fb\\u003e\\u003cbr\\u003eWords: nederweert, knegsel, hertogenbosch, injury, transport\",\"\\u003cb\\u003eTopic 12\\u003c\\u002fb\\u003e\\u003cbr\\u003eWords: eindhoven, cooperation, missing, weert, found\",\"\\u003cb\\u003eTopic 12\\u003c\\u002fb\\u003e\\u003cbr\\u003eWords: police, hertogenbosch, weert, tilburg, roermond\",\"\\u003cb\\u003eTopic 12\\u003c\\u002fb\\u003e\\u003cbr\\u003eWords: rosmalen, robbery, lupinevallei, rectification, tronquoy\"],\"marker\":{\"color\":\"#0072B2\"},\"mode\":\"lines\",\"name\":\"12_hertogenbosch_police_found_cooperatio...\",\"x\":[\"2021-07-06T00:00:00\",\"2021-07-07T00:00:00\",\"2021-07-08T00:00:00\",\"2021-07-09T00:00:00\",\"2021-07-10T00:00:00\",\"2021-07-11T00:00:00\",\"2021-07-12T00:00:00\",\"2021-07-13T00:00:00\",\"2021-07-14T00:00:00\",\"2021-07-15T00:00:00\",\"2021-07-16T00:00:00\",\"2021-07-17T00:00:00\",\"2021-07-18T00:00:00\",\"2021-07-19T00:00:00\",\"2021-07-20T00:00:00\",\"2021-07-21T00:00:00\",\"2021-07-22T00:00:00\",\"2021-07-23T00:00:00\",\"2021-07-24T00:00:00\",\"2021-07-25T00:00:00\",\"2021-07-26T00:00:00\",\"2021-07-27T00:00:00\"],\"y\":[4,22,17,4,4,4,7,4,8,13,3,7,5,4,3,3,3,4,6,10,5,3],\"type\":\"scatter\"},{\"hoverinfo\":\"text\",\"hovertext\":[\"\\u003cb\\u003eTopic 13\\u003c\\u002fb\\u003e\\u003cbr\\u003eWords: belgium, programs, luxembourg, national, netherlands\",\"\\u003cb\\u003eTopic 13\\u003c\\u002fb\\u003e\\u003cbr\\u003eWords: colleagues, belgium, discos, turnover, extending\",\"\\u003cb\\u003eTopic 13\\u003c\\u002fb\\u003e\\u003cbr\\u003eWords: walloon, event, protect, msm, glbouchez\",\"\\u003cb\\u003eTopic 13\\u003c\\u002fb\\u003e\\u003cbr\\u003eWords: term, incoherent, cows, longwy, goals\",\"\\u003cb\\u003eTopic 13\\u003c\\u002fb\\u003e\\u003cbr\\u003eWords: flanders, belgium, hongarije, diplomatic, representing\",\"\\u003cb\\u003eTopic 13\\u003c\\u002fb\\u003e\\u003cbr\\u003eWords: flanders, hungary, july, montcuq, lendouenquercy\",\"\\u003cb\\u003eTopic 13\\u003c\\u002fb\\u003e\\u003cbr\\u003eWords: belgium, netherlands, libertadparacuba, customization, fireworks\",\"\\u003cb\\u003eTopic 13\\u003c\\u002fb\\u003e\\u003cbr\\u003eWords: glise, resumes, veerle, stepped, relocating\",\"\\u003cb\\u003eTopic 13\\u003c\\u002fb\\u003e\\u003cbr\\u003eWords: belgium, july, april, day, french\",\"\\u003cb\\u003eTopic 13\\u003c\\u002fb\\u003e\\u003cbr\\u003eWords: belgium, solidarity, victims, floods, day\",\"\\u003cb\\u003eTopic 13\\u003c\\u002fb\\u003e\\u003cbr\\u003eWords: belgium, floods, victims, mourning, solidarity\",\"\\u003cb\\u003eTopic 13\\u003c\\u002fb\\u003e\\u003cbr\\u003eWords: belgium, solidarity, national, martigny, floods\",\"\\u003cb\\u003eTopic 13\\u003c\\u002fb\\u003e\\u003cbr\\u003eWords: belgium, solidarity, floods, adaptation, careful\",\"\\u003cb\\u003eTopic 13\\u003c\\u002fb\\u003e\\u003cbr\\u003eWords: belgium, fake, national, mourning, day\",\"\\u003cb\\u003eTopic 13\\u003c\\u002fb\\u003e\\u003cbr\\u003eWords: mourning, national, day, victims, belgium\",\"\\u003cb\\u003eTopic 13\\u003c\\u002fb\\u003e\\u003cbr\\u003eWords: national, belgium, day, happy, victims\",\"\\u003cb\\u003eTopic 13\\u003c\\u002fb\\u003e\\u003cbr\\u003eWords: belgium, victims, wilm, sophie, national\",\"\\u003cb\\u003eTopic 13\\u003c\\u002fb\\u003e\\u003cbr\\u003eWords: frikandel, minister, victims, young, netherlands\",\"\\u003cb\\u003eTopic 13\\u003c\\u002fb\\u003e\\u003cbr\\u003eWords: via, radiation, czech, philippe, approves\",\"\\u003cb\\u003eTopic 13\\u003c\\u002fb\\u003e\\u003cbr\\u003eWords: obesity, belgium, let, solidarity, deaths\",\"\\u003cb\\u003eTopic 13\\u003c\\u002fb\\u003e\\u003cbr\\u003eWords: automium, honorary, citizen, brussels, minutes\",\"\\u003cb\\u003eTopic 13\\u003c\\u002fb\\u003e\\u003cbr\\u003eWords: belgium, brussels, nva, day, real\"],\"marker\":{\"color\":\"#CC79A7\"},\"mode\":\"lines\",\"name\":\"13_belgium_national_day_victims\",\"x\":[\"2021-07-06T00:00:00\",\"2021-07-07T00:00:00\",\"2021-07-08T00:00:00\",\"2021-07-09T00:00:00\",\"2021-07-10T00:00:00\",\"2021-07-11T00:00:00\",\"2021-07-12T00:00:00\",\"2021-07-13T00:00:00\",\"2021-07-14T00:00:00\",\"2021-07-15T00:00:00\",\"2021-07-16T00:00:00\",\"2021-07-17T00:00:00\",\"2021-07-18T00:00:00\",\"2021-07-19T00:00:00\",\"2021-07-20T00:00:00\",\"2021-07-21T00:00:00\",\"2021-07-22T00:00:00\",\"2021-07-23T00:00:00\",\"2021-07-24T00:00:00\",\"2021-07-25T00:00:00\",\"2021-07-26T00:00:00\",\"2021-07-27T00:00:00\"],\"y\":[9,6,4,7,12,5,7,4,12,44,39,17,13,20,61,37,12,7,8,6,4,12],\"type\":\"scatter\"},{\"hoverinfo\":\"text\",\"hovertext\":[\"\\u003cb\\u003eTopic 14\\u003c\\u002fb\\u003e\\u003cbr\\u003eWords: samson, gesves, closed, towards, flooding\",\"\\u003cb\\u003eTopic 14\\u003c\\u002fb\\u003e\\u003cbr\\u003eWords: samson, gesves, closed, towards, flooding\",\"\\u003cb\\u003eTopic 14\\u003c\\u002fb\\u003e\\u003cbr\\u003eWords: samson, gesves, closed, towards, flooding\",\"\\u003cb\\u003eTopic 14\\u003c\\u002fb\\u003e\\u003cbr\\u003eWords: samson, gesves, closed, towards, flooding\"],\"marker\":{\"color\":\"#E69F00\"},\"mode\":\"lines\",\"name\":\"14_samson_gesves_closed_towards\",\"x\":[\"2021-07-16T00:00:00\",\"2021-07-18T00:00:00\",\"2021-07-19T00:00:00\",\"2021-07-23T00:00:00\"],\"y\":[2,2,2,2],\"type\":\"scatter\"},{\"hoverinfo\":\"text\",\"hovertext\":[\"\\u003cb\\u003eTopic 15\\u003c\\u002fb\\u003e\\u003cbr\\u003eWords: sseldorf, library, medienhafen, chill, hyattd\",\"\\u003cb\\u003eTopic 15\\u003c\\u002fb\\u003e\\u003cbr\\u003eWords: trees, ground, came, weatherpoint, descends\",\"\\u003cb\\u003eTopic 15\\u003c\\u002fb\\u003e\\u003cbr\\u003eWords: undocking, hurricaneelsa, fatma, masha, repeatwatching\",\"\\u003cb\\u003eTopic 15\\u003c\\u002fb\\u003e\\u003cbr\\u003eWords: monsoon, delta, india, really, anymore\",\"\\u003cb\\u003eTopic 15\\u003c\\u002fb\\u003e\\u003cbr\\u003eWords: think, sedition, windy, shirts, eveningstage\",\"\\u003cb\\u003eTopic 15\\u003c\\u002fb\\u003e\\u003cbr\\u003eWords: bihar, pollution, china, rain, evening\",\"\\u003cb\\u003eTopic 15\\u003c\\u002fb\\u003e\\u003cbr\\u003eWords: rain, rest, accumulations, spoilsport, episode\",\"\\u003cb\\u003eTopic 15\\u003c\\u002fb\\u003e\\u003cbr\\u003eWords: downpour, something, get, weather, subtropical\",\"\\u003cb\\u003eTopic 15\\u003c\\u002fb\\u003e\\u003cbr\\u003eWords: rain, heavy, flood, floods, weather\",\"\\u003cb\\u003eTopic 15\\u003c\\u002fb\\u003e\\u003cbr\\u003eWords: flood, rain, water, yes, floods\",\"\\u003cb\\u003eTopic 15\\u003c\\u002fb\\u003e\\u003cbr\\u003eWords: flood, rain, water, floods, disaster\",\"\\u003cb\\u003eTopic 15\\u003c\\u002fb\\u003e\\u003cbr\\u003eWords: flood, floods, water, disaster, rain\",\"\\u003cb\\u003eTopic 15\\u003c\\u002fb\\u003e\\u003cbr\\u003eWords: flood, live, floods, water, disaster\",\"\\u003cb\\u003eTopic 15\\u003c\\u002fb\\u003e\\u003cbr\\u003eWords: flood, warnings, rain, still, flooding\",\"\\u003cb\\u003eTopic 15\\u003c\\u002fb\\u003e\\u003cbr\\u003eWords: flood, rain, floods, weird, side\",\"\\u003cb\\u003eTopic 15\\u003c\\u002fb\\u003e\\u003cbr\\u003eWords: china, flood, non, floods, henan\",\"\\u003cb\\u003eTopic 15\\u003c\\u002fb\\u003e\\u003cbr\\u003eWords: flood, floods, merz, disaster, fields\",\"\\u003cb\\u003eTopic 15\\u003c\\u002fb\\u003e\\u003cbr\\u003eWords: flood, investigation, floods, discharges, jingled\",\"\\u003cb\\u003eTopic 15\\u003c\\u002fb\\u003e\\u003cbr\\u003eWords: flood, weather, floods, rain, hope\",\"\\u003cb\\u003eTopic 15\\u003c\\u002fb\\u003e\\u003cbr\\u003eWords: floodings, flood, weather, floods, water\",\"\\u003cb\\u003eTopic 15\\u003c\\u002fb\\u003e\\u003cbr\\u003eWords: rain, flood, rsca, water, storm\",\"\\u003cb\\u003eTopic 15\\u003c\\u002fb\\u003e\\u003cbr\\u003eWords: flood, headland, chapel, advances, mag\"],\"marker\":{\"color\":\"#56B4E9\"},\"mode\":\"lines\",\"name\":\"15_flood_rain_floods_water\",\"x\":[\"2021-07-06T00:00:00\",\"2021-07-07T00:00:00\",\"2021-07-08T00:00:00\",\"2021-07-09T00:00:00\",\"2021-07-10T00:00:00\",\"2021-07-11T00:00:00\",\"2021-07-12T00:00:00\",\"2021-07-13T00:00:00\",\"2021-07-14T00:00:00\",\"2021-07-15T00:00:00\",\"2021-07-16T00:00:00\",\"2021-07-17T00:00:00\",\"2021-07-18T00:00:00\",\"2021-07-19T00:00:00\",\"2021-07-20T00:00:00\",\"2021-07-21T00:00:00\",\"2021-07-22T00:00:00\",\"2021-07-23T00:00:00\",\"2021-07-24T00:00:00\",\"2021-07-25T00:00:00\",\"2021-07-26T00:00:00\",\"2021-07-27T00:00:00\"],\"y\":[8,5,9,9,6,14,7,13,61,109,84,51,32,30,33,17,18,14,27,27,18,9],\"type\":\"scatter\"},{\"hoverinfo\":\"text\",\"hovertext\":[\"\\u003cb\\u003eTopic 16\\u003c\\u002fb\\u003e\\u003cbr\\u003eWords: carnot, villerupt, jeanne, arc, intervention\",\"\\u003cb\\u003eTopic 16\\u003c\\u002fb\\u003e\\u003cbr\\u003eWords: circulating, disciplines, viroinval, mayors, closed\",\"\\u003cb\\u003eTopic 16\\u003c\\u002fb\\u003e\\u003cbr\\u003eWords: closed, towards, flooding, laurent, loncin\",\"\\u003cb\\u003eTopic 16\\u003c\\u002fb\\u003e\\u003cbr\\u003eWords: closed, towards, flooding, kmp, ponts\",\"\\u003cb\\u003eTopic 16\\u003c\\u002fb\\u003e\\u003cbr\\u003eWords: towards, closed, flooding, viroinval, chimay\",\"\\u003cb\\u003eTopic 16\\u003c\\u002fb\\u003e\\u003cbr\\u003eWords: closed, towards, flooding, ponts, trois\",\"\\u003cb\\u003eTopic 16\\u003c\\u002fb\\u003e\\u003cbr\\u003eWords: etienne, court, st, closed, towards\",\"\\u003cb\\u003eTopic 16\\u003c\\u002fb\\u003e\\u003cbr\\u003eWords: closed, towards, huy, hannut, kmp\",\"\\u003cb\\u003eTopic 16\\u003c\\u002fb\\u003e\\u003cbr\\u003eWords: closed, kmp, ramillies, jalhay, towards\",\"\\u003cb\\u003eTopic 16\\u003c\\u002fb\\u003e\\u003cbr\\u003eWords: closed, towards, givet, anhee, villers\"],\"marker\":{\"color\":\"#009E73\"},\"mode\":\"lines\",\"name\":\"16_closed_towards_flooding_kmp\",\"x\":[\"2021-07-10T00:00:00\",\"2021-07-14T00:00:00\",\"2021-07-15T00:00:00\",\"2021-07-16T00:00:00\",\"2021-07-18T00:00:00\",\"2021-07-19T00:00:00\",\"2021-07-20T00:00:00\",\"2021-07-23T00:00:00\",\"2021-07-24T00:00:00\",\"2021-07-25T00:00:00\"],\"y\":[1,1,11,35,14,30,2,15,4,5],\"type\":\"scatter\"},{\"hoverinfo\":\"text\",\"hovertext\":[\"\\u003cb\\u003eTopic 17\\u003c\\u002fb\\u003e\\u003cbr\\u003eWords: marne, quarrel, unpad, projectmgmt, gunfire\",\"\\u003cb\\u003eTopic 17\\u003c\\u002fb\\u003e\\u003cbr\\u003eWords: mantrailing, nosework, mantrail, dogschool, recycling\",\"\\u003cb\\u003eTopic 17\\u003c\\u002fb\\u003e\\u003cbr\\u003eWords: sch, qanon, tzenmajor, gge, tzenbrotherhood\",\"\\u003cb\\u003eTopic 17\\u003c\\u002fb\\u003e\\u003cbr\\u003eWords: cans, deed, consecutive, trainees, stadtwerke\",\"\\u003cb\\u003eTopic 17\\u003c\\u002fb\\u003e\\u003cbr\\u003eWords: ted, empress, llamas, moebeldeko, responder\",\"\\u003cb\\u003eTopic 17\\u003c\\u002fb\\u003e\\u003cbr\\u003eWords: bait, poison, serving, dog, dogs\",\"\\u003cb\\u003eTopic 17\\u003c\\u002fb\\u003e\\u003cbr\\u003eWords: team, demooiskrant, explosions, mondaymotivation, balve\",\"\\u003cb\\u003eTopic 17\\u003c\\u002fb\\u003e\\u003cbr\\u003eWords: books, fire, carried, youth, brigade\",\"\\u003cb\\u003eTopic 17\\u003c\\u002fb\\u003e\\u003cbr\\u003eWords: fire, ssel, brigade, rubber, boots\",\"\\u003cb\\u003eTopic 17\\u003c\\u002fb\\u003e\\u003cbr\\u003eWords: retweet, donation, together, set, small\",\"\\u003cb\\u003eTopic 17\\u003c\\u002fb\\u003e\\u003cbr\\u003eWords: donations, fire, help, donation, brigade\",\"\\u003cb\\u003eTopic 17\\u003c\\u002fb\\u003e\\u003cbr\\u003eWords: help, donate, donations, thanks, mia\",\"\\u003cb\\u003eTopic 17\\u003c\\u002fb\\u003e\\u003cbr\\u003eWords: donations, help, donate, flood, donation\",\"\\u003cb\\u003eTopic 17\\u003c\\u002fb\\u003e\\u003cbr\\u003eWords: donations, help, fire, donation, responder\",\"\\u003cb\\u003eTopic 17\\u003c\\u002fb\\u003e\\u003cbr\\u003eWords: donations, helps, fire, providing, donation\",\"\\u003cb\\u003eTopic 17\\u003c\\u002fb\\u003e\\u003cbr\\u003eWords: donations, help, polonia, fire, restle\",\"\\u003cb\\u003eTopic 17\\u003c\\u002fb\\u003e\\u003cbr\\u003eWords: animal, support, rustymachtmittag, notify, rusty\",\"\\u003cb\\u003eTopic 17\\u003c\\u002fb\\u003e\\u003cbr\\u003eWords: caritas, info, help, together, thank\",\"\\u003cb\\u003eTopic 17\\u003c\\u002fb\\u003e\\u003cbr\\u003eWords: wear, bundeswehr, fire, flecktarn, helpers\",\"\\u003cb\\u003eTopic 17\\u003c\\u002fb\\u003e\\u003cbr\\u003eWords: wegdichen, weidingen, healthcare, nah, dresden\",\"\\u003cb\\u003eTopic 17\\u003c\\u002fb\\u003e\\u003cbr\\u003eWords: avon, moebelknaeufe, bait, poison, care\",\"\\u003cb\\u003eTopic 17\\u003c\\u002fb\\u003e\\u003cbr\\u003eWords: explosion, leverkusen, chempark, windows, injured\"],\"marker\":{\"color\":\"#F0E442\"},\"mode\":\"lines\",\"name\":\"17_fire_donations_help_donation\",\"x\":[\"2021-07-06T00:00:00\",\"2021-07-07T00:00:00\",\"2021-07-08T00:00:00\",\"2021-07-09T00:00:00\",\"2021-07-10T00:00:00\",\"2021-07-11T00:00:00\",\"2021-07-12T00:00:00\",\"2021-07-13T00:00:00\",\"2021-07-14T00:00:00\",\"2021-07-15T00:00:00\",\"2021-07-16T00:00:00\",\"2021-07-17T00:00:00\",\"2021-07-18T00:00:00\",\"2021-07-19T00:00:00\",\"2021-07-20T00:00:00\",\"2021-07-21T00:00:00\",\"2021-07-22T00:00:00\",\"2021-07-23T00:00:00\",\"2021-07-24T00:00:00\",\"2021-07-25T00:00:00\",\"2021-07-26T00:00:00\",\"2021-07-27T00:00:00\"],\"y\":[4,9,5,4,9,5,5,9,12,24,31,27,25,26,26,20,13,16,13,11,9,30],\"type\":\"scatter\"},{\"hoverinfo\":\"text\",\"hovertext\":[\"\\u003cb\\u003eTopic 18\\u003c\\u002fb\\u003e\\u003cbr\\u003eWords: br, bob, upscaling, alarm, sintanthonis\",\"\\u003cb\\u003eTopic 18\\u003c\\u002fb\\u003e\\u003cbr\\u003eWords: br, veghel, bob, upscaling, alarm\",\"\\u003cb\\u003eTopic 18\\u003c\\u002fb\\u003e\\u003cbr\\u003eWords: br, monde, bob, upscaling, alarm\",\"\\u003cb\\u003eTopic 18\\u003c\\u002fb\\u003e\\u003cbr\\u003eWords: br, drunen, bob, upscaling, alarm\"],\"marker\":{\"color\":\"#D55E00\"},\"mode\":\"lines\",\"name\":\"18_br_veghel_bob_upscaling\",\"x\":[\"2021-07-14T00:00:00\",\"2021-07-15T00:00:00\",\"2021-07-18T00:00:00\",\"2021-07-25T00:00:00\"],\"y\":[2,11,1,3],\"type\":\"scatter\"},{\"hoverinfo\":\"text\",\"hovertext\":[\"\\u003cb\\u003eTopic 19\\u003c\\u002fb\\u003e\\u003cbr\\u003eWords: limburg, heerlen, vrtweer, pm, living\",\"\\u003cb\\u003eTopic 19\\u003c\\u002fb\\u003e\\u003cbr\\u003eWords: limburg, hague, walking, lobby, socials\",\"\\u003cb\\u003eTopic 19\\u003c\\u002fb\\u003e\\u003cbr\\u003eWords: vrtweer, kozen, broechem, nieuwerkerken, oops\",\"\\u003cb\\u003eTopic 19\\u003c\\u002fb\\u003e\\u003cbr\\u003eWords: training, military, theoretical, skills, sharpen\",\"\\u003cb\\u003eTopic 19\\u003c\\u002fb\\u003e\\u003cbr\\u003eWords: tilburg, station, greatfood, omroep, thunderous\",\"\\u003cb\\u003eTopic 19\\u003c\\u002fb\\u003e\\u003cbr\\u003eWords: green, leuven, philips, pools, breakdown\",\"\\u003cb\\u003eTopic 19\\u003c\\u002fb\\u003e\\u003cbr\\u003eWords: lanklaar, rainbow, effewachtennog, gaiazoo, lankler\",\"\\u003cb\\u003eTopic 19\\u003c\\u002fb\\u003e\\u003cbr\\u003eWords: limburg, rain, water, heerlen, rescued\",\"\\u003cb\\u003eTopic 19\\u003c\\u002fb\\u003e\\u003cbr\\u003eWords: limburg, flooding, water, south, high\",\"\\u003cb\\u003eTopic 19\\u003c\\u002fb\\u003e\\u003cbr\\u003eWords: limburg, maas, maastricht, flooding, water\",\"\\u003cb\\u003eTopic 19\\u003c\\u002fb\\u003e\\u003cbr\\u003eWords: limburg, water, maas, venlo, high\",\"\\u003cb\\u003eTopic 19\\u003c\\u002fb\\u003e\\u003cbr\\u003eWords: limburg, water, high, maas, venlo\",\"\\u003cb\\u003eTopic 19\\u003c\\u002fb\\u003e\\u003cbr\\u003eWords: limburg, water, high, venlo, maas\",\"\\u003cb\\u003eTopic 19\\u003c\\u002fb\\u003e\\u003cbr\\u003eWords: limburg, water, balayage, high, werbelev\",\"\\u003cb\\u003eTopic 19\\u003c\\u002fb\\u003e\\u003cbr\\u003eWords: venlo, limburg, water, maas, high\",\"\\u003cb\\u003eTopic 19\\u003c\\u002fb\\u003e\\u003cbr\\u003eWords: limburg, damage, valkenburg, insurers, euros\",\"\\u003cb\\u003eTopic 19\\u003c\\u002fb\\u003e\\u003cbr\\u003eWords: limburg, heverlee, weerfoto, vrtweer, giro\",\"\\u003cb\\u003eTopic 19\\u003c\\u002fb\\u003e\\u003cbr\\u003eWords: limburg, machtens, mergelland, longhai, effe\",\"\\u003cb\\u003eTopic 19\\u003c\\u002fb\\u003e\\u003cbr\\u003eWords: antwerp, molen, caatje, guides, liefdevoorlimburg\",\"\\u003cb\\u003eTopic 19\\u003c\\u002fb\\u003e\\u003cbr\\u003eWords: walferdange, limburg, old, torhout, senile\",\"\\u003cb\\u003eTopic 19\\u003c\\u002fb\\u003e\\u003cbr\\u003eWords: whiteborders, schadedoordemaas, flatten, punches, funda\",\"\\u003cb\\u003eTopic 19\\u003c\\u002fb\\u003e\\u003cbr\\u003eWords: heritage, hornet, unesco, kaagman, glider\"],\"marker\":{\"color\":\"#0072B2\"},\"mode\":\"lines\",\"name\":\"19_limburg_water_maas_high\",\"x\":[\"2021-07-06T00:00:00\",\"2021-07-07T00:00:00\",\"2021-07-08T00:00:00\",\"2021-07-09T00:00:00\",\"2021-07-10T00:00:00\",\"2021-07-11T00:00:00\",\"2021-07-12T00:00:00\",\"2021-07-13T00:00:00\",\"2021-07-14T00:00:00\",\"2021-07-15T00:00:00\",\"2021-07-16T00:00:00\",\"2021-07-17T00:00:00\",\"2021-07-18T00:00:00\",\"2021-07-19T00:00:00\",\"2021-07-20T00:00:00\",\"2021-07-21T00:00:00\",\"2021-07-22T00:00:00\",\"2021-07-23T00:00:00\",\"2021-07-24T00:00:00\",\"2021-07-25T00:00:00\",\"2021-07-26T00:00:00\",\"2021-07-27T00:00:00\"],\"y\":[6,6,11,2,8,4,5,25,79,178,147,94,39,21,25,24,18,9,4,9,5,4],\"type\":\"scatter\"},{\"hoverinfo\":\"text\",\"hovertext\":[\"\\u003cb\\u003eTopic 20\\u003c\\u002fb\\u003e\\u003cbr\\u003eWords: climate, change, abc, forestfires, jams\",\"\\u003cb\\u003eTopic 20\\u003c\\u002fb\\u003e\\u003cbr\\u003eWords: afd, heat, climatecrisis, climate, mdma\",\"\\u003cb\\u003eTopic 20\\u003c\\u002fb\\u003e\\u003cbr\\u003eWords: heat, climate, industry, change, via\",\"\\u003cb\\u003eTopic 20\\u003c\\u002fb\\u003e\\u003cbr\\u003eWords: climate, laschet, cities, everything, works\",\"\\u003cb\\u003eTopic 20\\u003c\\u002fb\\u003e\\u003cbr\\u003eWords: climate, west, heatwave, temperatures, million\",\"\\u003cb\\u003eTopic 20\\u003c\\u002fb\\u003e\\u003cbr\\u003eWords: climate, change, crisis, co, west\",\"\\u003cb\\u003eTopic 20\\u003c\\u002fb\\u003e\\u003cbr\\u003eWords: climate, sinzig, blazing, blanketed, prompting\",\"\\u003cb\\u003eTopic 20\\u003c\\u002fb\\u003e\\u003cbr\\u003eWords: balloon, releases, discourage, altmaier, foreseeable\",\"\\u003cb\\u003eTopic 20\\u003c\\u002fb\\u003e\\u003cbr\\u003eWords: climate, change, crisis, catastrophe, emissions\",\"\\u003cb\\u003eTopic 20\\u003c\\u002fb\\u003e\\u003cbr\\u003eWords: climate, change, crisis, laschet, catastrophe\",\"\\u003cb\\u003eTopic 20\\u003c\\u002fb\\u003e\\u003cbr\\u003eWords: climate, change, catastrophe, laschet, crisis\",\"\\u003cb\\u003eTopic 20\\u003c\\u002fb\\u003e\\u003cbr\\u003eWords: climate, laschet, catastrophe, flood, cdu\",\"\\u003cb\\u003eTopic 20\\u003c\\u002fb\\u003e\\u003cbr\\u003eWords: climate, laschetlacht, catastrophe, cdu, laschet\",\"\\u003cb\\u003eTopic 20\\u003c\\u002fb\\u003e\\u003cbr\\u003eWords: climate, climateaction, cdu, change, known\",\"\\u003cb\\u003eTopic 20\\u003c\\u002fb\\u003e\\u003cbr\\u003eWords: climate, climatecrisis, crisis, change, digital\",\"\\u003cb\\u003eTopic 20\\u003c\\u002fb\\u003e\\u003cbr\\u003eWords: climate, planet, crisis, character, laschet\",\"\\u003cb\\u003eTopic 20\\u003c\\u002fb\\u003e\\u003cbr\\u003eWords: climate, change, extreme, cdu, tree\",\"\\u003cb\\u003eTopic 20\\u003c\\u002fb\\u003e\\u003cbr\\u003eWords: accumulation, lafesse, scored, chooses, xenon\",\"\\u003cb\\u003eTopic 20\\u003c\\u002fb\\u003e\\u003cbr\\u003eWords: climate, change, stunned, statement, cdu\",\"\\u003cb\\u003eTopic 20\\u003c\\u002fb\\u003e\\u003cbr\\u003eWords: climate, change, increasing, energy, time\",\"\\u003cb\\u003eTopic 20\\u003c\\u002fb\\u003e\\u003cbr\\u003eWords: climateemergency, crisis, action, calculate, imperative\",\"\\u003cb\\u003eTopic 20\\u003c\\u002fb\\u003e\\u003cbr\\u003eWords: climate, coming, combustible, assumptions, socialdemocrats\"],\"marker\":{\"color\":\"#CC79A7\"},\"mode\":\"lines\",\"name\":\"20_climate_change_laschet_catastrophe\",\"x\":[\"2021-07-06T00:00:00\",\"2021-07-07T00:00:00\",\"2021-07-08T00:00:00\",\"2021-07-09T00:00:00\",\"2021-07-10T00:00:00\",\"2021-07-11T00:00:00\",\"2021-07-12T00:00:00\",\"2021-07-13T00:00:00\",\"2021-07-14T00:00:00\",\"2021-07-15T00:00:00\",\"2021-07-16T00:00:00\",\"2021-07-17T00:00:00\",\"2021-07-18T00:00:00\",\"2021-07-19T00:00:00\",\"2021-07-20T00:00:00\",\"2021-07-21T00:00:00\",\"2021-07-22T00:00:00\",\"2021-07-23T00:00:00\",\"2021-07-24T00:00:00\",\"2021-07-25T00:00:00\",\"2021-07-26T00:00:00\",\"2021-07-27T00:00:00\"],\"y\":[5,7,10,9,6,7,7,2,17,50,48,35,16,18,15,14,17,3,7,7,7,6],\"type\":\"scatter\"},{\"hoverinfo\":\"text\",\"hovertext\":[\"\\u003cb\\u003eTopic 21\\u003c\\u002fb\\u003e\\u003cbr\\u003eWords: ring, inner, accident, outer, astridlaan\",\"\\u003cb\\u003eTopic 21\\u003c\\u002fb\\u003e\\u003cbr\\u003eWords: ring, outer, accident, near, inner\",\"\\u003cb\\u003eTopic 21\\u003c\\u002fb\\u003e\\u003cbr\\u003eWords: ring, inner, accident, lane, near\",\"\\u003cb\\u003eTopic 21\\u003c\\u002fb\\u003e\\u003cbr\\u003eWords: accident, ring, near, grimbergen, lane\",\"\\u003cb\\u003eTopic 21\\u003c\\u002fb\\u003e\\u003cbr\\u003eWords: ring, vilvoorde, koningslo, inner, accident\",\"\\u003cb\\u003eTopic 21\\u003c\\u002fb\\u003e\\u003cbr\\u003eWords: zellik, ring, inner, lane, accident\",\"\\u003cb\\u003eTopic 21\\u003c\\u002fb\\u003e\\u003cbr\\u003eWords: ring, accident, inner, near, outer\",\"\\u003cb\\u003eTopic 21\\u003c\\u002fb\\u003e\\u003cbr\\u003eWords: ring, inner, zellik, near, outer\",\"\\u003cb\\u003eTopic 21\\u003c\\u002fb\\u003e\\u003cbr\\u003eWords: ring, tohogne, hotton, ardenne, roche\",\"\\u003cb\\u003eTopic 21\\u003c\\u002fb\\u003e\\u003cbr\\u003eWords: ring, blocked, lane, accident, inner\",\"\\u003cb\\u003eTopic 21\\u003c\\u002fb\\u003e\\u003cbr\\u003eWords: wezembeek, oppem, ring, inner, accident\",\"\\u003cb\\u003eTopic 21\\u003c\\u002fb\\u003e\\u003cbr\\u003eWords: tohogne, hotton, blocked, ardenne, roche\",\"\\u003cb\\u003eTopic 21\\u003c\\u002fb\\u003e\\u003cbr\\u003eWords: hotton, tohogne, ardenne, roche, blocked\",\"\\u003cb\\u003eTopic 21\\u003c\\u002fb\\u003e\\u003cbr\\u003eWords: ring, inner, lane, accident, zellik\",\"\\u003cb\\u003eTopic 21\\u003c\\u002fb\\u003e\\u003cbr\\u003eWords: ring, inner, accident, near, lane\",\"\\u003cb\\u003eTopic 21\\u003c\\u002fb\\u003e\\u003cbr\\u003eWords: ring, stevens, outer, woluwe, lane\",\"\\u003cb\\u003eTopic 21\\u003c\\u002fb\\u003e\\u003cbr\\u003eWords: ring, zellik, inner, accident, near\"],\"marker\":{\"color\":\"#E69F00\"},\"mode\":\"lines\",\"name\":\"21_ring_inner_accident_blocked\",\"x\":[\"2021-07-06T00:00:00\",\"2021-07-07T00:00:00\",\"2021-07-08T00:00:00\",\"2021-07-09T00:00:00\",\"2021-07-10T00:00:00\",\"2021-07-11T00:00:00\",\"2021-07-12T00:00:00\",\"2021-07-13T00:00:00\",\"2021-07-14T00:00:00\",\"2021-07-16T00:00:00\",\"2021-07-17T00:00:00\",\"2021-07-18T00:00:00\",\"2021-07-19T00:00:00\",\"2021-07-22T00:00:00\",\"2021-07-23T00:00:00\",\"2021-07-25T00:00:00\",\"2021-07-26T00:00:00\"],\"y\":[4,5,4,4,3,4,2,3,7,9,1,3,3,3,6,1,3],\"type\":\"scatter\"},{\"hoverinfo\":\"text\",\"hovertext\":[\"\\u003cb\\u003eTopic 22\\u003c\\u002fb\\u003e\\u003cbr\\u003eWords: bless, god, art, amen, living\",\"\\u003cb\\u003eTopic 22\\u003c\\u002fb\\u003e\\u003cbr\\u003eWords: bless, art, god, pray, living\",\"\\u003cb\\u003eTopic 22\\u003c\\u002fb\\u003e\\u003cbr\\u003eWords: bless, amen, living, dead, may\",\"\\u003cb\\u003eTopic 22\\u003c\\u002fb\\u003e\\u003cbr\\u003eWords: bless, amen, living, god, peace\",\"\\u003cb\\u003eTopic 22\\u003c\\u002fb\\u003e\\u003cbr\\u003eWords: bless, god, living, dead, umbrellas\",\"\\u003cb\\u003eTopic 22\\u003c\\u002fb\\u003e\\u003cbr\\u003eWords: bless, art, god, mary, godsgood\",\"\\u003cb\\u003eTopic 22\\u003c\\u002fb\\u003e\\u003cbr\\u003eWords: bless, gods, angels, sincere, living\",\"\\u003cb\\u003eTopic 22\\u003c\\u002fb\\u003e\\u003cbr\\u003eWords: bless, amen, living, dead, god\",\"\\u003cb\\u003eTopic 22\\u003c\\u002fb\\u003e\\u003cbr\\u003eWords: bless, living, dead, amen, flees\",\"\\u003cb\\u003eTopic 22\\u003c\\u002fb\\u003e\\u003cbr\\u003eWords: bless, amen, god, emir, qatar\",\"\\u003cb\\u003eTopic 22\\u003c\\u002fb\\u003e\\u003cbr\\u003eWords: bless, god, check, ascendedmaster, miljon\",\"\\u003cb\\u003eTopic 22\\u003c\\u002fb\\u003e\\u003cbr\\u003eWords: bless, god, amen, dead, graves\",\"\\u003cb\\u003eTopic 22\\u003c\\u002fb\\u003e\\u003cbr\\u003eWords: bless, living, dead, amen, god\",\"\\u003cb\\u003eTopic 22\\u003c\\u002fb\\u003e\\u003cbr\\u003eWords: bless, insane, fatimas, subsequent, lordes\",\"\\u003cb\\u003eTopic 22\\u003c\\u002fb\\u003e\\u003cbr\\u003eWords: bless, god, may, living, allah\",\"\\u003cb\\u003eTopic 22\\u003c\\u002fb\\u003e\\u003cbr\\u003eWords: bless, amen, god, living, heal\",\"\\u003cb\\u003eTopic 22\\u003c\\u002fb\\u003e\\u003cbr\\u003eWords: bless, amen, blood, else, americka\",\"\\u003cb\\u003eTopic 22\\u003c\\u002fb\\u003e\\u003cbr\\u003eWords: bless, allah, lord, may, god\",\"\\u003cb\\u003eTopic 22\\u003c\\u002fb\\u003e\\u003cbr\\u003eWords: bless, god, lord, heal, living\",\"\\u003cb\\u003eTopic 22\\u003c\\u002fb\\u003e\\u003cbr\\u003eWords: god, bless, may, amen, living\",\"\\u003cb\\u003eTopic 22\\u003c\\u002fb\\u003e\\u003cbr\\u003eWords: bless, god, amen, beauraing, living\",\"\\u003cb\\u003eTopic 22\\u003c\\u002fb\\u003e\\u003cbr\\u003eWords: amen, god, twomplet, bless, rejoice\"],\"marker\":{\"color\":\"#56B4E9\"},\"mode\":\"lines\",\"name\":\"22_bless_god_amen_living\",\"x\":[\"2021-07-06T00:00:00\",\"2021-07-07T00:00:00\",\"2021-07-08T00:00:00\",\"2021-07-09T00:00:00\",\"2021-07-10T00:00:00\",\"2021-07-11T00:00:00\",\"2021-07-12T00:00:00\",\"2021-07-13T00:00:00\",\"2021-07-14T00:00:00\",\"2021-07-15T00:00:00\",\"2021-07-16T00:00:00\",\"2021-07-17T00:00:00\",\"2021-07-18T00:00:00\",\"2021-07-19T00:00:00\",\"2021-07-20T00:00:00\",\"2021-07-21T00:00:00\",\"2021-07-22T00:00:00\",\"2021-07-23T00:00:00\",\"2021-07-24T00:00:00\",\"2021-07-25T00:00:00\",\"2021-07-26T00:00:00\",\"2021-07-27T00:00:00\"],\"y\":[14,7,3,4,3,5,2,3,1,4,13,8,3,11,6,7,6,8,3,9,5,8],\"type\":\"scatter\"},{\"hoverinfo\":\"text\",\"hovertext\":[\"\\u003cb\\u003eTopic 23\\u003c\\u002fb\\u003e\\u003cbr\\u003eWords: country, otraco, former, according, become\",\"\\u003cb\\u003eTopic 23\\u003c\\u002fb\\u003e\\u003cbr\\u003eWords: aruba, cbd, misscheri, delroytog, mila\",\"\\u003cb\\u003eTopic 23\\u003c\\u002fb\\u003e\\u003cbr\\u003eWords: reforms, ukraine, italy, ghana, resilient\",\"\\u003cb\\u003eTopic 23\\u003c\\u002fb\\u003e\\u003cbr\\u003eWords: buildings, european, channelled, lithuania, sweeten\",\"\\u003cb\\u003eTopic 23\\u003c\\u002fb\\u003e\\u003cbr\\u003eWords: srebrenica, isil, sovereignty, lisbon, russian\",\"\\u003cb\\u003eTopic 23\\u003c\\u002fb\\u003e\\u003cbr\\u003eWords: srebrenica, genocide, italy, england, forzaazzurri\",\"\\u003cb\\u003eTopic 23\\u003c\\u002fb\\u003e\\u003cbr\\u003eWords: moldova, italians, lebanon, foreign, women\",\"\\u003cb\\u003eTopic 23\\u003c\\u002fb\\u003e\\u003cbr\\u003eWords: recovery, europe, hungary, tormentarius, antisemitism\",\"\\u003cb\\u003eTopic 23\\u003c\\u002fb\\u003e\\u003cbr\\u003eWords: kazakhstan, refusing, harams, rj, ek\",\"\\u003cb\\u003eTopic 23\\u003c\\u002fb\\u003e\\u003cbr\\u003eWords: africa, whoever, law, july, instrument\",\"\\u003cb\\u003eTopic 23\\u003c\\u002fb\\u003e\\u003cbr\\u003eWords: talking, kandahar, unemployed, alone, clashes\",\"\\u003cb\\u003eTopic 23\\u003c\\u002fb\\u003e\\u003cbr\\u003eWords: yatra, asylum, seekers, italy, country\",\"\\u003cb\\u003eTopic 23\\u003c\\u002fb\\u003e\\u003cbr\\u003eWords: frontex, hunger, law, bargaining, sammymahdi\",\"\\u003cb\\u003eTopic 23\\u003c\\u002fb\\u003e\\u003cbr\\u003eWords: sahel, forward, looking, countries, children\",\"\\u003cb\\u003eTopic 23\\u003c\\u002fb\\u003e\\u003cbr\\u003eWords: uk, kurt, raped, westergaard, sacrifice\",\"\\u003cb\\u003eTopic 23\\u003c\\u002fb\\u003e\\u003cbr\\u003eWords: hunger, strike, sanspapiers, gibraltar, spain\",\"\\u003cb\\u003eTopic 23\\u003c\\u002fb\\u003e\\u003cbr\\u003eWords: atlas, hate, citizens, scribbling, balkans\",\"\\u003cb\\u003eTopic 23\\u003c\\u002fb\\u003e\\u003cbr\\u003eWords: closing, attack, pyrazole, srinagar, museum\",\"\\u003cb\\u003eTopic 23\\u003c\\u002fb\\u003e\\u003cbr\\u003eWords: sequenced, sequence, alleged, proof, donations\",\"\\u003cb\\u003eTopic 23\\u003c\\u002fb\\u003e\\u003cbr\\u003eWords: struggle, group, taken, always, years\",\"\\u003cb\\u003eTopic 23\\u003c\\u002fb\\u003e\\u003cbr\\u003eWords: poland, cape, thousands, afghanistan, ruins\",\"\\u003cb\\u003eTopic 23\\u003c\\u002fb\\u003e\\u003cbr\\u003eWords: refugees, islands, traitors, solve, turkey\"],\"marker\":{\"color\":\"#009E73\"},\"mode\":\"lines\",\"name\":\"23_country_italy_people_poland\",\"x\":[\"2021-07-06T00:00:00\",\"2021-07-07T00:00:00\",\"2021-07-08T00:00:00\",\"2021-07-09T00:00:00\",\"2021-07-10T00:00:00\",\"2021-07-11T00:00:00\",\"2021-07-12T00:00:00\",\"2021-07-13T00:00:00\",\"2021-07-14T00:00:00\",\"2021-07-15T00:00:00\",\"2021-07-16T00:00:00\",\"2021-07-17T00:00:00\",\"2021-07-18T00:00:00\",\"2021-07-19T00:00:00\",\"2021-07-20T00:00:00\",\"2021-07-21T00:00:00\",\"2021-07-22T00:00:00\",\"2021-07-23T00:00:00\",\"2021-07-24T00:00:00\",\"2021-07-25T00:00:00\",\"2021-07-26T00:00:00\",\"2021-07-27T00:00:00\"],\"y\":[20,13,18,16,14,29,9,18,19,26,25,15,16,10,17,23,8,12,20,16,15,11],\"type\":\"scatter\"},{\"hoverinfo\":\"text\",\"hovertext\":[\"\\u003cb\\u003eTopic 24\\u003c\\u002fb\\u003e\\u003cbr\\u003eWords: sea, either, freelight, homepage, yield\",\"\\u003cb\\u003eTopic 24\\u003c\\u002fb\\u003e\\u003cbr\\u003eWords: gesvois, hive, facades, tag, vandalism\",\"\\u003cb\\u003eTopic 24\\u003c\\u002fb\\u003e\\u003cbr\\u003eWords: pile, straw, sitting, hasselt, water\",\"\\u003cb\\u003eTopic 24\\u003c\\u002fb\\u003e\\u003cbr\\u003eWords: gravenzande, minors, sink, graves, destroying\",\"\\u003cb\\u003eTopic 24\\u003c\\u002fb\\u003e\\u003cbr\\u003eWords: schlefaz, discogodfather, hassles, unimpressed, condo\",\"\\u003cb\\u003eTopic 24\\u003c\\u002fb\\u003e\\u003cbr\\u003eWords: saving, hourofpower, moscow, bright, bibeltv\",\"\\u003cb\\u003eTopic 24\\u003c\\u002fb\\u003e\\u003cbr\\u003eWords: comblainaupont, stone, park, house, surphase\",\"\\u003cb\\u003eTopic 24\\u003c\\u002fb\\u003e\\u003cbr\\u003eWords: basement, per, weeks, water, ago\",\"\\u003cb\\u003eTopic 24\\u003c\\u002fb\\u003e\\u003cbr\\u003eWords: water, basement, power, failure, electricity\",\"\\u003cb\\u003eTopic 24\\u003c\\u002fb\\u003e\\u003cbr\\u003eWords: water, basement, electricity, house, flooded\",\"\\u003cb\\u003eTopic 24\\u003c\\u002fb\\u003e\\u003cbr\\u003eWords: water, basement, electricity, see, compared\",\"\\u003cb\\u003eTopic 24\\u003c\\u002fb\\u003e\\u003cbr\\u003eWords: water, electricity, power, basement, high\",\"\\u003cb\\u003eTopic 24\\u003c\\u002fb\\u003e\\u003cbr\\u003eWords: water, house, electricity, high, supercharger\",\"\\u003cb\\u003eTopic 24\\u003c\\u002fb\\u003e\\u003cbr\\u003eWords: water, picture, good, penthouse, flood\",\"\\u003cb\\u003eTopic 24\\u003c\\u002fb\\u003e\\u003cbr\\u003eWords: electricity, diesel, cycle, water, basement\",\"\\u003cb\\u003eTopic 24\\u003c\\u002fb\\u003e\\u003cbr\\u003eWords: water, electricity, diesel, areas, disaster\",\"\\u003cb\\u003eTopic 24\\u003c\\u002fb\\u003e\\u003cbr\\u003eWords: warning, system, pine, sms, ck\",\"\\u003cb\\u003eTopic 24\\u003c\\u002fb\\u003e\\u003cbr\\u003eWords: cents, sev, water, photos, electricity\",\"\\u003cb\\u003eTopic 24\\u003c\\u002fb\\u003e\\u003cbr\\u003eWords: water, stressed, finding, cellar, flooded\",\"\\u003cb\\u003eTopic 24\\u003c\\u002fb\\u003e\\u003cbr\\u003eWords: gas, oploo, power, outage, away\",\"\\u003cb\\u003eTopic 24\\u003c\\u002fb\\u003e\\u003cbr\\u003eWords: securing, silicone, clamps, recipe, osb\",\"\\u003cb\\u003eTopic 24\\u003c\\u002fb\\u003e\\u003cbr\\u003eWords: network, uff, oorbeek, mirror, tienen\"],\"marker\":{\"color\":\"#F0E442\"},\"mode\":\"lines\",\"name\":\"24_water_basement_electricity_power\",\"x\":[\"2021-07-06T00:00:00\",\"2021-07-07T00:00:00\",\"2021-07-08T00:00:00\",\"2021-07-09T00:00:00\",\"2021-07-10T00:00:00\",\"2021-07-11T00:00:00\",\"2021-07-12T00:00:00\",\"2021-07-13T00:00:00\",\"2021-07-14T00:00:00\",\"2021-07-15T00:00:00\",\"2021-07-16T00:00:00\",\"2021-07-17T00:00:00\",\"2021-07-18T00:00:00\",\"2021-07-19T00:00:00\",\"2021-07-20T00:00:00\",\"2021-07-21T00:00:00\",\"2021-07-22T00:00:00\",\"2021-07-23T00:00:00\",\"2021-07-24T00:00:00\",\"2021-07-25T00:00:00\",\"2021-07-26T00:00:00\",\"2021-07-27T00:00:00\"],\"y\":[6,3,4,2,2,5,8,6,44,92,63,42,19,17,20,25,8,9,11,11,7,4],\"type\":\"scatter\"}],                        {\"template\":{\"data\":{\"barpolar\":[{\"marker\":{\"line\":{\"color\":\"white\",\"width\":0.5},\"pattern\":{\"fillmode\":\"overlay\",\"size\":10,\"solidity\":0.2}},\"type\":\"barpolar\"}],\"bar\":[{\"error_x\":{\"color\":\"rgb(36,36,36)\"},\"error_y\":{\"color\":\"rgb(36,36,36)\"},\"marker\":{\"line\":{\"color\":\"white\",\"width\":0.5},\"pattern\":{\"fillmode\":\"overlay\",\"size\":10,\"solidity\":0.2}},\"type\":\"bar\"}],\"carpet\":[{\"aaxis\":{\"endlinecolor\":\"rgb(36,36,36)\",\"gridcolor\":\"white\",\"linecolor\":\"white\",\"minorgridcolor\":\"white\",\"startlinecolor\":\"rgb(36,36,36)\"},\"baxis\":{\"endlinecolor\":\"rgb(36,36,36)\",\"gridcolor\":\"white\",\"linecolor\":\"white\",\"minorgridcolor\":\"white\",\"startlinecolor\":\"rgb(36,36,36)\"},\"type\":\"carpet\"}],\"choropleth\":[{\"colorbar\":{\"outlinewidth\":1,\"tickcolor\":\"rgb(36,36,36)\",\"ticks\":\"outside\"},\"type\":\"choropleth\"}],\"contourcarpet\":[{\"colorbar\":{\"outlinewidth\":1,\"tickcolor\":\"rgb(36,36,36)\",\"ticks\":\"outside\"},\"type\":\"contourcarpet\"}],\"contour\":[{\"colorbar\":{\"outlinewidth\":1,\"tickcolor\":\"rgb(36,36,36)\",\"ticks\":\"outside\"},\"colorscale\":[[0.0,\"#440154\"],[0.1111111111111111,\"#482878\"],[0.2222222222222222,\"#3e4989\"],[0.3333333333333333,\"#31688e\"],[0.4444444444444444,\"#26828e\"],[0.5555555555555556,\"#1f9e89\"],[0.6666666666666666,\"#35b779\"],[0.7777777777777778,\"#6ece58\"],[0.8888888888888888,\"#b5de2b\"],[1.0,\"#fde725\"]],\"type\":\"contour\"}],\"heatmapgl\":[{\"colorbar\":{\"outlinewidth\":1,\"tickcolor\":\"rgb(36,36,36)\",\"ticks\":\"outside\"},\"colorscale\":[[0.0,\"#440154\"],[0.1111111111111111,\"#482878\"],[0.2222222222222222,\"#3e4989\"],[0.3333333333333333,\"#31688e\"],[0.4444444444444444,\"#26828e\"],[0.5555555555555556,\"#1f9e89\"],[0.6666666666666666,\"#35b779\"],[0.7777777777777778,\"#6ece58\"],[0.8888888888888888,\"#b5de2b\"],[1.0,\"#fde725\"]],\"type\":\"heatmapgl\"}],\"heatmap\":[{\"colorbar\":{\"outlinewidth\":1,\"tickcolor\":\"rgb(36,36,36)\",\"ticks\":\"outside\"},\"colorscale\":[[0.0,\"#440154\"],[0.1111111111111111,\"#482878\"],[0.2222222222222222,\"#3e4989\"],[0.3333333333333333,\"#31688e\"],[0.4444444444444444,\"#26828e\"],[0.5555555555555556,\"#1f9e89\"],[0.6666666666666666,\"#35b779\"],[0.7777777777777778,\"#6ece58\"],[0.8888888888888888,\"#b5de2b\"],[1.0,\"#fde725\"]],\"type\":\"heatmap\"}],\"histogram2dcontour\":[{\"colorbar\":{\"outlinewidth\":1,\"tickcolor\":\"rgb(36,36,36)\",\"ticks\":\"outside\"},\"colorscale\":[[0.0,\"#440154\"],[0.1111111111111111,\"#482878\"],[0.2222222222222222,\"#3e4989\"],[0.3333333333333333,\"#31688e\"],[0.4444444444444444,\"#26828e\"],[0.5555555555555556,\"#1f9e89\"],[0.6666666666666666,\"#35b779\"],[0.7777777777777778,\"#6ece58\"],[0.8888888888888888,\"#b5de2b\"],[1.0,\"#fde725\"]],\"type\":\"histogram2dcontour\"}],\"histogram2d\":[{\"colorbar\":{\"outlinewidth\":1,\"tickcolor\":\"rgb(36,36,36)\",\"ticks\":\"outside\"},\"colorscale\":[[0.0,\"#440154\"],[0.1111111111111111,\"#482878\"],[0.2222222222222222,\"#3e4989\"],[0.3333333333333333,\"#31688e\"],[0.4444444444444444,\"#26828e\"],[0.5555555555555556,\"#1f9e89\"],[0.6666666666666666,\"#35b779\"],[0.7777777777777778,\"#6ece58\"],[0.8888888888888888,\"#b5de2b\"],[1.0,\"#fde725\"]],\"type\":\"histogram2d\"}],\"histogram\":[{\"marker\":{\"line\":{\"color\":\"white\",\"width\":0.6}},\"type\":\"histogram\"}],\"mesh3d\":[{\"colorbar\":{\"outlinewidth\":1,\"tickcolor\":\"rgb(36,36,36)\",\"ticks\":\"outside\"},\"type\":\"mesh3d\"}],\"parcoords\":[{\"line\":{\"colorbar\":{\"outlinewidth\":1,\"tickcolor\":\"rgb(36,36,36)\",\"ticks\":\"outside\"}},\"type\":\"parcoords\"}],\"pie\":[{\"automargin\":true,\"type\":\"pie\"}],\"scatter3d\":[{\"line\":{\"colorbar\":{\"outlinewidth\":1,\"tickcolor\":\"rgb(36,36,36)\",\"ticks\":\"outside\"}},\"marker\":{\"colorbar\":{\"outlinewidth\":1,\"tickcolor\":\"rgb(36,36,36)\",\"ticks\":\"outside\"}},\"type\":\"scatter3d\"}],\"scattercarpet\":[{\"marker\":{\"colorbar\":{\"outlinewidth\":1,\"tickcolor\":\"rgb(36,36,36)\",\"ticks\":\"outside\"}},\"type\":\"scattercarpet\"}],\"scattergeo\":[{\"marker\":{\"colorbar\":{\"outlinewidth\":1,\"tickcolor\":\"rgb(36,36,36)\",\"ticks\":\"outside\"}},\"type\":\"scattergeo\"}],\"scattergl\":[{\"marker\":{\"colorbar\":{\"outlinewidth\":1,\"tickcolor\":\"rgb(36,36,36)\",\"ticks\":\"outside\"}},\"type\":\"scattergl\"}],\"scattermapbox\":[{\"marker\":{\"colorbar\":{\"outlinewidth\":1,\"tickcolor\":\"rgb(36,36,36)\",\"ticks\":\"outside\"}},\"type\":\"scattermapbox\"}],\"scatterpolargl\":[{\"marker\":{\"colorbar\":{\"outlinewidth\":1,\"tickcolor\":\"rgb(36,36,36)\",\"ticks\":\"outside\"}},\"type\":\"scatterpolargl\"}],\"scatterpolar\":[{\"marker\":{\"colorbar\":{\"outlinewidth\":1,\"tickcolor\":\"rgb(36,36,36)\",\"ticks\":\"outside\"}},\"type\":\"scatterpolar\"}],\"scatter\":[{\"fillpattern\":{\"fillmode\":\"overlay\",\"size\":10,\"solidity\":0.2},\"type\":\"scatter\"}],\"scatterternary\":[{\"marker\":{\"colorbar\":{\"outlinewidth\":1,\"tickcolor\":\"rgb(36,36,36)\",\"ticks\":\"outside\"}},\"type\":\"scatterternary\"}],\"surface\":[{\"colorbar\":{\"outlinewidth\":1,\"tickcolor\":\"rgb(36,36,36)\",\"ticks\":\"outside\"},\"colorscale\":[[0.0,\"#440154\"],[0.1111111111111111,\"#482878\"],[0.2222222222222222,\"#3e4989\"],[0.3333333333333333,\"#31688e\"],[0.4444444444444444,\"#26828e\"],[0.5555555555555556,\"#1f9e89\"],[0.6666666666666666,\"#35b779\"],[0.7777777777777778,\"#6ece58\"],[0.8888888888888888,\"#b5de2b\"],[1.0,\"#fde725\"]],\"type\":\"surface\"}],\"table\":[{\"cells\":{\"fill\":{\"color\":\"rgb(237,237,237)\"},\"line\":{\"color\":\"white\"}},\"header\":{\"fill\":{\"color\":\"rgb(217,217,217)\"},\"line\":{\"color\":\"white\"}},\"type\":\"table\"}]},\"layout\":{\"annotationdefaults\":{\"arrowhead\":0,\"arrowwidth\":1},\"autotypenumbers\":\"strict\",\"coloraxis\":{\"colorbar\":{\"outlinewidth\":1,\"tickcolor\":\"rgb(36,36,36)\",\"ticks\":\"outside\"}},\"colorscale\":{\"diverging\":[[0.0,\"rgb(103,0,31)\"],[0.1,\"rgb(178,24,43)\"],[0.2,\"rgb(214,96,77)\"],[0.3,\"rgb(244,165,130)\"],[0.4,\"rgb(253,219,199)\"],[0.5,\"rgb(247,247,247)\"],[0.6,\"rgb(209,229,240)\"],[0.7,\"rgb(146,197,222)\"],[0.8,\"rgb(67,147,195)\"],[0.9,\"rgb(33,102,172)\"],[1.0,\"rgb(5,48,97)\"]],\"sequential\":[[0.0,\"#440154\"],[0.1111111111111111,\"#482878\"],[0.2222222222222222,\"#3e4989\"],[0.3333333333333333,\"#31688e\"],[0.4444444444444444,\"#26828e\"],[0.5555555555555556,\"#1f9e89\"],[0.6666666666666666,\"#35b779\"],[0.7777777777777778,\"#6ece58\"],[0.8888888888888888,\"#b5de2b\"],[1.0,\"#fde725\"]],\"sequentialminus\":[[0.0,\"#440154\"],[0.1111111111111111,\"#482878\"],[0.2222222222222222,\"#3e4989\"],[0.3333333333333333,\"#31688e\"],[0.4444444444444444,\"#26828e\"],[0.5555555555555556,\"#1f9e89\"],[0.6666666666666666,\"#35b779\"],[0.7777777777777778,\"#6ece58\"],[0.8888888888888888,\"#b5de2b\"],[1.0,\"#fde725\"]]},\"colorway\":[\"#1F77B4\",\"#FF7F0E\",\"#2CA02C\",\"#D62728\",\"#9467BD\",\"#8C564B\",\"#E377C2\",\"#7F7F7F\",\"#BCBD22\",\"#17BECF\"],\"font\":{\"color\":\"rgb(36,36,36)\"},\"geo\":{\"bgcolor\":\"white\",\"lakecolor\":\"white\",\"landcolor\":\"white\",\"showlakes\":true,\"showland\":true,\"subunitcolor\":\"white\"},\"hoverlabel\":{\"align\":\"left\"},\"hovermode\":\"closest\",\"mapbox\":{\"style\":\"light\"},\"paper_bgcolor\":\"white\",\"plot_bgcolor\":\"white\",\"polar\":{\"angularaxis\":{\"gridcolor\":\"rgb(232,232,232)\",\"linecolor\":\"rgb(36,36,36)\",\"showgrid\":false,\"showline\":true,\"ticks\":\"outside\"},\"bgcolor\":\"white\",\"radialaxis\":{\"gridcolor\":\"rgb(232,232,232)\",\"linecolor\":\"rgb(36,36,36)\",\"showgrid\":false,\"showline\":true,\"ticks\":\"outside\"}},\"scene\":{\"xaxis\":{\"backgroundcolor\":\"white\",\"gridcolor\":\"rgb(232,232,232)\",\"gridwidth\":2,\"linecolor\":\"rgb(36,36,36)\",\"showbackground\":true,\"showgrid\":false,\"showline\":true,\"ticks\":\"outside\",\"zeroline\":false,\"zerolinecolor\":\"rgb(36,36,36)\"},\"yaxis\":{\"backgroundcolor\":\"white\",\"gridcolor\":\"rgb(232,232,232)\",\"gridwidth\":2,\"linecolor\":\"rgb(36,36,36)\",\"showbackground\":true,\"showgrid\":false,\"showline\":true,\"ticks\":\"outside\",\"zeroline\":false,\"zerolinecolor\":\"rgb(36,36,36)\"},\"zaxis\":{\"backgroundcolor\":\"white\",\"gridcolor\":\"rgb(232,232,232)\",\"gridwidth\":2,\"linecolor\":\"rgb(36,36,36)\",\"showbackground\":true,\"showgrid\":false,\"showline\":true,\"ticks\":\"outside\",\"zeroline\":false,\"zerolinecolor\":\"rgb(36,36,36)\"}},\"shapedefaults\":{\"fillcolor\":\"black\",\"line\":{\"width\":0},\"opacity\":0.3},\"ternary\":{\"aaxis\":{\"gridcolor\":\"rgb(232,232,232)\",\"linecolor\":\"rgb(36,36,36)\",\"showgrid\":false,\"showline\":true,\"ticks\":\"outside\"},\"baxis\":{\"gridcolor\":\"rgb(232,232,232)\",\"linecolor\":\"rgb(36,36,36)\",\"showgrid\":false,\"showline\":true,\"ticks\":\"outside\"},\"bgcolor\":\"white\",\"caxis\":{\"gridcolor\":\"rgb(232,232,232)\",\"linecolor\":\"rgb(36,36,36)\",\"showgrid\":false,\"showline\":true,\"ticks\":\"outside\"}},\"title\":{\"x\":0.05},\"xaxis\":{\"automargin\":true,\"gridcolor\":\"rgb(232,232,232)\",\"linecolor\":\"rgb(36,36,36)\",\"showgrid\":false,\"showline\":true,\"ticks\":\"outside\",\"title\":{\"standoff\":15},\"zeroline\":false,\"zerolinecolor\":\"rgb(36,36,36)\"},\"yaxis\":{\"automargin\":true,\"gridcolor\":\"rgb(232,232,232)\",\"linecolor\":\"rgb(36,36,36)\",\"showgrid\":false,\"showline\":true,\"ticks\":\"outside\",\"title\":{\"standoff\":15},\"zeroline\":false,\"zerolinecolor\":\"rgb(36,36,36)\"}}},\"xaxis\":{\"showgrid\":true},\"yaxis\":{\"showgrid\":true,\"title\":{\"text\":\"Frequency\"}},\"title\":{\"font\":{\"size\":22,\"color\":\"Black\"},\"text\":\"\\u003cb\\u003eTopics over Time\\u003c\\u002fb\\u003e\",\"y\":0.95,\"x\":0.4,\"xanchor\":\"center\",\"yanchor\":\"top\"},\"hoverlabel\":{\"font\":{\"size\":16,\"family\":\"Rockwell\"},\"bgcolor\":\"white\"},\"width\":1250,\"height\":450,\"legend\":{\"title\":{\"text\":\"\\u003cb\\u003eGlobal Topic Representation\"}}},                        {\"responsive\": true}                    ).then(function(){\n",
       "                            \n",
       "var gd = document.getElementById('6bff2df0-c8eb-45c4-acae-7c211f0e019b');\n",
       "var x = new MutationObserver(function (mutations, observer) {{\n",
       "        var display = window.getComputedStyle(gd).display;\n",
       "        if (!display || display === 'none') {{\n",
       "            console.log([gd, 'removed!']);\n",
       "            Plotly.purge(gd);\n",
       "            observer.disconnect();\n",
       "        }}\n",
       "}});\n",
       "\n",
       "// Listen for the removal of the full notebook cells\n",
       "var notebookContainer = gd.closest('#notebook-container');\n",
       "if (notebookContainer) {{\n",
       "    x.observe(notebookContainer, {childList: true});\n",
       "}}\n",
       "\n",
       "// Listen for the clearing of the current output cell\n",
       "var outputEl = gd.closest('.output');\n",
       "if (outputEl) {{\n",
       "    x.observe(outputEl, {childList: true});\n",
       "}}\n",
       "\n",
       "                        })                };                            </script>        </div>\n",
       "</body>\n",
       "</html>"
      ]
     },
     "metadata": {},
     "output_type": "display_data"
    }
   ],
   "source": [
    "# Visualize topics over time\n",
    "timestamps = [el[:10] for el in timestamps]\n",
    "topics_over_time = topic_model.topics_over_time(filtered_tweets, timestamps)\n",
    "# small timeframe model\n",
    "topic_model.visualize_topics_over_time(topics_over_time, topics=topics)\n"
   ]
  },
  {
   "cell_type": "markdown",
   "metadata": {
    "id": "j6UPb6PLbvxr"
   },
   "source": [
    "# Add topics to **df**"
   ]
  },
  {
   "cell_type": "code",
   "execution_count": 40,
   "metadata": {
    "colab": {
     "base_uri": "https://localhost:8080/",
     "height": 363
    },
    "executionInfo": {
     "elapsed": 274,
     "status": "ok",
     "timestamp": 1724084383676,
     "user": {
      "displayName": "Dorian Arifi",
      "userId": "06477489625107752463"
     },
     "user_tz": -120
    },
    "id": "F0A_9RCr65UN",
    "outputId": "c4c75cc4-9582-475e-c08f-4e7ce1be185a"
   },
   "outputs": [
    {
     "data": {
      "application/vnd.google.colaboratory.intrinsic+json": {
       "summary": "{\n  \"name\": \"topics_df\",\n  \"rows\": 30,\n  \"fields\": [\n    {\n      \"column\": \"topics\",\n      \"properties\": {\n        \"dtype\": \"number\",\n        \"std\": 8,\n        \"min\": 0,\n        \"max\": 29,\n        \"num_unique_values\": 30,\n        \"samples\": [\n          27,\n          15,\n          23\n        ],\n        \"semantic_type\": \"\",\n        \"description\": \"\"\n      }\n    },\n    {\n      \"column\": \"Words_Weights\",\n      \"properties\": {\n        \"dtype\": \"object\",\n        \"semantic_type\": \"\",\n        \"description\": \"\"\n      }\n    }\n  ]\n}",
       "type": "dataframe",
       "variable_name": "topics_df"
      },
      "text/html": [
       "\n",
       "  <div id=\"df-aec92815-88cd-45f1-8d7c-b1b409f08fdc\" class=\"colab-df-container\">\n",
       "    <div>\n",
       "<style scoped>\n",
       "    .dataframe tbody tr th:only-of-type {\n",
       "        vertical-align: middle;\n",
       "    }\n",
       "\n",
       "    .dataframe tbody tr th {\n",
       "        vertical-align: top;\n",
       "    }\n",
       "\n",
       "    .dataframe thead th {\n",
       "        text-align: right;\n",
       "    }\n",
       "</style>\n",
       "<table border=\"1\" class=\"dataframe\">\n",
       "  <thead>\n",
       "    <tr style=\"text-align: right;\">\n",
       "      <th></th>\n",
       "      <th>topics</th>\n",
       "      <th>Words_Weights</th>\n",
       "    </tr>\n",
       "  </thead>\n",
       "  <tbody>\n",
       "    <tr>\n",
       "      <th>0</th>\n",
       "      <td>0</td>\n",
       "      <td>[(br, 0.5896248537123444), (veghel, 0.44460242...</td>\n",
       "    </tr>\n",
       "    <tr>\n",
       "      <th>1</th>\n",
       "      <td>1</td>\n",
       "      <td>[(neufch, 0.9785406176500379), (teau, 0.967193...</td>\n",
       "    </tr>\n",
       "    <tr>\n",
       "      <th>2</th>\n",
       "      <td>2</td>\n",
       "      <td>[(cologne, 1.0714224563201695), (intensity, 0....</td>\n",
       "    </tr>\n",
       "    <tr>\n",
       "      <th>3</th>\n",
       "      <td>3</td>\n",
       "      <td>[(flood, 0.03977032913303269), (rain, 0.034114...</td>\n",
       "    </tr>\n",
       "    <tr>\n",
       "      <th>4</th>\n",
       "      <td>4</td>\n",
       "      <td>[(direction, 0.2028368393448871), (travel, 0.1...</td>\n",
       "    </tr>\n",
       "    <tr>\n",
       "      <th>5</th>\n",
       "      <td>5</td>\n",
       "      <td>[(limburg, 0.09636467650616311), (water, 0.043...</td>\n",
       "    </tr>\n",
       "    <tr>\n",
       "      <th>6</th>\n",
       "      <td>6</td>\n",
       "      <td>[(vaccinated, 0.0604210513097383), (vaccinatio...</td>\n",
       "    </tr>\n",
       "    <tr>\n",
       "      <th>7</th>\n",
       "      <td>7</td>\n",
       "      <td>[(flood, 0.0260258353819774), (affected, 0.025...</td>\n",
       "    </tr>\n",
       "    <tr>\n",
       "      <th>8</th>\n",
       "      <td>8</td>\n",
       "      <td>[(pastoral, 0.7499569222779536), (care, 0.5532...</td>\n",
       "    </tr>\n",
       "    <tr>\n",
       "      <th>9</th>\n",
       "      <td>9</td>\n",
       "      <td>[(ahrweiler, 0.04704173578164684), (help, 0.02...</td>\n",
       "    </tr>\n",
       "  </tbody>\n",
       "</table>\n",
       "</div>\n",
       "    <div class=\"colab-df-buttons\">\n",
       "\n",
       "  <div class=\"colab-df-container\">\n",
       "    <button class=\"colab-df-convert\" onclick=\"convertToInteractive('df-aec92815-88cd-45f1-8d7c-b1b409f08fdc')\"\n",
       "            title=\"Convert this dataframe to an interactive table.\"\n",
       "            style=\"display:none;\">\n",
       "\n",
       "  <svg xmlns=\"http://www.w3.org/2000/svg\" height=\"24px\" viewBox=\"0 -960 960 960\">\n",
       "    <path d=\"M120-120v-720h720v720H120Zm60-500h600v-160H180v160Zm220 220h160v-160H400v160Zm0 220h160v-160H400v160ZM180-400h160v-160H180v160Zm440 0h160v-160H620v160ZM180-180h160v-160H180v160Zm440 0h160v-160H620v160Z\"/>\n",
       "  </svg>\n",
       "    </button>\n",
       "\n",
       "  <style>\n",
       "    .colab-df-container {\n",
       "      display:flex;\n",
       "      gap: 12px;\n",
       "    }\n",
       "\n",
       "    .colab-df-convert {\n",
       "      background-color: #E8F0FE;\n",
       "      border: none;\n",
       "      border-radius: 50%;\n",
       "      cursor: pointer;\n",
       "      display: none;\n",
       "      fill: #1967D2;\n",
       "      height: 32px;\n",
       "      padding: 0 0 0 0;\n",
       "      width: 32px;\n",
       "    }\n",
       "\n",
       "    .colab-df-convert:hover {\n",
       "      background-color: #E2EBFA;\n",
       "      box-shadow: 0px 1px 2px rgba(60, 64, 67, 0.3), 0px 1px 3px 1px rgba(60, 64, 67, 0.15);\n",
       "      fill: #174EA6;\n",
       "    }\n",
       "\n",
       "    .colab-df-buttons div {\n",
       "      margin-bottom: 4px;\n",
       "    }\n",
       "\n",
       "    [theme=dark] .colab-df-convert {\n",
       "      background-color: #3B4455;\n",
       "      fill: #D2E3FC;\n",
       "    }\n",
       "\n",
       "    [theme=dark] .colab-df-convert:hover {\n",
       "      background-color: #434B5C;\n",
       "      box-shadow: 0px 1px 3px 1px rgba(0, 0, 0, 0.15);\n",
       "      filter: drop-shadow(0px 1px 2px rgba(0, 0, 0, 0.3));\n",
       "      fill: #FFFFFF;\n",
       "    }\n",
       "  </style>\n",
       "\n",
       "    <script>\n",
       "      const buttonEl =\n",
       "        document.querySelector('#df-aec92815-88cd-45f1-8d7c-b1b409f08fdc button.colab-df-convert');\n",
       "      buttonEl.style.display =\n",
       "        google.colab.kernel.accessAllowed ? 'block' : 'none';\n",
       "\n",
       "      async function convertToInteractive(key) {\n",
       "        const element = document.querySelector('#df-aec92815-88cd-45f1-8d7c-b1b409f08fdc');\n",
       "        const dataTable =\n",
       "          await google.colab.kernel.invokeFunction('convertToInteractive',\n",
       "                                                    [key], {});\n",
       "        if (!dataTable) return;\n",
       "\n",
       "        const docLinkHtml = 'Like what you see? Visit the ' +\n",
       "          '<a target=\"_blank\" href=https://colab.research.google.com/notebooks/data_table.ipynb>data table notebook</a>'\n",
       "          + ' to learn more about interactive tables.';\n",
       "        element.innerHTML = '';\n",
       "        dataTable['output_type'] = 'display_data';\n",
       "        await google.colab.output.renderOutput(dataTable, element);\n",
       "        const docLink = document.createElement('div');\n",
       "        docLink.innerHTML = docLinkHtml;\n",
       "        element.appendChild(docLink);\n",
       "      }\n",
       "    </script>\n",
       "  </div>\n",
       "\n",
       "\n",
       "<div id=\"df-10458b9f-39e8-43aa-b6fb-ef0e24429224\">\n",
       "  <button class=\"colab-df-quickchart\" onclick=\"quickchart('df-10458b9f-39e8-43aa-b6fb-ef0e24429224')\"\n",
       "            title=\"Suggest charts\"\n",
       "            style=\"display:none;\">\n",
       "\n",
       "<svg xmlns=\"http://www.w3.org/2000/svg\" height=\"24px\"viewBox=\"0 0 24 24\"\n",
       "     width=\"24px\">\n",
       "    <g>\n",
       "        <path d=\"M19 3H5c-1.1 0-2 .9-2 2v14c0 1.1.9 2 2 2h14c1.1 0 2-.9 2-2V5c0-1.1-.9-2-2-2zM9 17H7v-7h2v7zm4 0h-2V7h2v10zm4 0h-2v-4h2v4z\"/>\n",
       "    </g>\n",
       "</svg>\n",
       "  </button>\n",
       "\n",
       "<style>\n",
       "  .colab-df-quickchart {\n",
       "      --bg-color: #E8F0FE;\n",
       "      --fill-color: #1967D2;\n",
       "      --hover-bg-color: #E2EBFA;\n",
       "      --hover-fill-color: #174EA6;\n",
       "      --disabled-fill-color: #AAA;\n",
       "      --disabled-bg-color: #DDD;\n",
       "  }\n",
       "\n",
       "  [theme=dark] .colab-df-quickchart {\n",
       "      --bg-color: #3B4455;\n",
       "      --fill-color: #D2E3FC;\n",
       "      --hover-bg-color: #434B5C;\n",
       "      --hover-fill-color: #FFFFFF;\n",
       "      --disabled-bg-color: #3B4455;\n",
       "      --disabled-fill-color: #666;\n",
       "  }\n",
       "\n",
       "  .colab-df-quickchart {\n",
       "    background-color: var(--bg-color);\n",
       "    border: none;\n",
       "    border-radius: 50%;\n",
       "    cursor: pointer;\n",
       "    display: none;\n",
       "    fill: var(--fill-color);\n",
       "    height: 32px;\n",
       "    padding: 0;\n",
       "    width: 32px;\n",
       "  }\n",
       "\n",
       "  .colab-df-quickchart:hover {\n",
       "    background-color: var(--hover-bg-color);\n",
       "    box-shadow: 0 1px 2px rgba(60, 64, 67, 0.3), 0 1px 3px 1px rgba(60, 64, 67, 0.15);\n",
       "    fill: var(--button-hover-fill-color);\n",
       "  }\n",
       "\n",
       "  .colab-df-quickchart-complete:disabled,\n",
       "  .colab-df-quickchart-complete:disabled:hover {\n",
       "    background-color: var(--disabled-bg-color);\n",
       "    fill: var(--disabled-fill-color);\n",
       "    box-shadow: none;\n",
       "  }\n",
       "\n",
       "  .colab-df-spinner {\n",
       "    border: 2px solid var(--fill-color);\n",
       "    border-color: transparent;\n",
       "    border-bottom-color: var(--fill-color);\n",
       "    animation:\n",
       "      spin 1s steps(1) infinite;\n",
       "  }\n",
       "\n",
       "  @keyframes spin {\n",
       "    0% {\n",
       "      border-color: transparent;\n",
       "      border-bottom-color: var(--fill-color);\n",
       "      border-left-color: var(--fill-color);\n",
       "    }\n",
       "    20% {\n",
       "      border-color: transparent;\n",
       "      border-left-color: var(--fill-color);\n",
       "      border-top-color: var(--fill-color);\n",
       "    }\n",
       "    30% {\n",
       "      border-color: transparent;\n",
       "      border-left-color: var(--fill-color);\n",
       "      border-top-color: var(--fill-color);\n",
       "      border-right-color: var(--fill-color);\n",
       "    }\n",
       "    40% {\n",
       "      border-color: transparent;\n",
       "      border-right-color: var(--fill-color);\n",
       "      border-top-color: var(--fill-color);\n",
       "    }\n",
       "    60% {\n",
       "      border-color: transparent;\n",
       "      border-right-color: var(--fill-color);\n",
       "    }\n",
       "    80% {\n",
       "      border-color: transparent;\n",
       "      border-right-color: var(--fill-color);\n",
       "      border-bottom-color: var(--fill-color);\n",
       "    }\n",
       "    90% {\n",
       "      border-color: transparent;\n",
       "      border-bottom-color: var(--fill-color);\n",
       "    }\n",
       "  }\n",
       "</style>\n",
       "\n",
       "  <script>\n",
       "    async function quickchart(key) {\n",
       "      const quickchartButtonEl =\n",
       "        document.querySelector('#' + key + ' button');\n",
       "      quickchartButtonEl.disabled = true;  // To prevent multiple clicks.\n",
       "      quickchartButtonEl.classList.add('colab-df-spinner');\n",
       "      try {\n",
       "        const charts = await google.colab.kernel.invokeFunction(\n",
       "            'suggestCharts', [key], {});\n",
       "      } catch (error) {\n",
       "        console.error('Error during call to suggestCharts:', error);\n",
       "      }\n",
       "      quickchartButtonEl.classList.remove('colab-df-spinner');\n",
       "      quickchartButtonEl.classList.add('colab-df-quickchart-complete');\n",
       "    }\n",
       "    (() => {\n",
       "      let quickchartButtonEl =\n",
       "        document.querySelector('#df-10458b9f-39e8-43aa-b6fb-ef0e24429224 button');\n",
       "      quickchartButtonEl.style.display =\n",
       "        google.colab.kernel.accessAllowed ? 'block' : 'none';\n",
       "    })();\n",
       "  </script>\n",
       "</div>\n",
       "\n",
       "    </div>\n",
       "  </div>\n"
      ],
      "text/plain": [
       "   topics                                      Words_Weights\n",
       "0       0  [(br, 0.5896248537123444), (veghel, 0.44460242...\n",
       "1       1  [(neufch, 0.9785406176500379), (teau, 0.967193...\n",
       "2       2  [(cologne, 1.0714224563201695), (intensity, 0....\n",
       "3       3  [(flood, 0.03977032913303269), (rain, 0.034114...\n",
       "4       4  [(direction, 0.2028368393448871), (travel, 0.1...\n",
       "5       5  [(limburg, 0.09636467650616311), (water, 0.043...\n",
       "6       6  [(vaccinated, 0.0604210513097383), (vaccinatio...\n",
       "7       7  [(flood, 0.0260258353819774), (affected, 0.025...\n",
       "8       8  [(pastoral, 0.7499569222779536), (care, 0.5532...\n",
       "9       9  [(ahrweiler, 0.04704173578164684), (help, 0.02..."
      ]
     },
     "execution_count": 40,
     "metadata": {},
     "output_type": "execute_result"
    }
   ],
   "source": [
    "topic_dict = topic_model.get_topics()\n",
    "\n",
    "# Create an empty list to store dictionaries\n",
    "data = []\n",
    "\n",
    "# Iterate through the dictionary and format the data\n",
    "for topic, tuples_list in topic_dict.items():\n",
    "    words_weights_list = [(word, weight) for word, weight in tuples_list]\n",
    "    data.append({'topics': topic, 'Words_Weights': words_weights_list})\n",
    "\n",
    "# Convert the list of dictionaries to a DataFrame\n",
    "topics_df = pd.DataFrame(data)\n",
    "\n",
    "# Display the DataFram\n",
    "topics_df.head(10)"
   ]
  },
  {
   "cell_type": "code",
   "execution_count": 41,
   "metadata": {
    "colab": {
     "base_uri": "https://localhost:8080/"
    },
    "executionInfo": {
     "elapsed": 308,
     "status": "ok",
     "timestamp": 1724084527350,
     "user": {
      "displayName": "Dorian Arifi",
      "userId": "06477489625107752463"
     },
     "user_tz": -120
    },
    "id": "FB2AwR2W5sGn",
    "outputId": "87df4c56-afb3-4f8c-8182-f322a5d4cb06"
   },
   "outputs": [
    {
     "data": {
      "text/plain": [
       "7223"
      ]
     },
     "execution_count": 41,
     "metadata": {},
     "output_type": "execute_result"
    }
   ],
   "source": [
    "#print(df)\n",
    "len(topics)"
   ]
  },
  {
   "cell_type": "code",
   "execution_count": null,
   "metadata": {
    "colab": {
     "base_uri": "https://localhost:8080/"
    },
    "executionInfo": {
     "elapsed": 271,
     "status": "ok",
     "timestamp": 1724084662849,
     "user": {
      "displayName": "Dorian Arifi",
      "userId": "06477489625107752463"
     },
     "user_tz": -120
    },
    "id": "CMSfI5mr65yy",
    "outputId": "c64498ed-e34a-4382-8b84-c80bbfa134f6"
   },
   "outputs": [
    {
     "name": "stdout",
     "output_type": "stream",
     "text": [
      "True\n"
     ]
    }
   ],
   "source": [
    "# Add topics to the input tweets dataframe\n",
    "df_filtered = df[df['text'] != '']\n",
    "print(len(df_filtered) == len(topics))\n",
    "df_filtered['topics'] = topics\n",
    "df_filtered_final = pd.merge(df_filtered, topics_df, on ='topics', how='left')"
   ]
  },
  {
   "cell_type": "code",
   "execution_count": null,
   "metadata": {
    "id": "ykKSq6pe656U"
   },
   "outputs": [],
   "source": [
    "# > Export to Drive in csv\n",
    "df_filtered_final.to_csv(r'drive/MyDrive/tweets_with_topics.csv')"
   ]
  }
 ],
 "metadata": {
  "accelerator": "GPU",
  "colab": {
   "collapsed_sections": [
    "NGzoNCsrXTAO"
   ],
   "gpuType": "T4",
   "provenance": [
    {
     "file_id": "177-mBcb73-gRh-PZBgWHpoYDKu3sDwSQ",
     "timestamp": 1723035084499
    }
   ]
  },
  "kernelspec": {
   "display_name": "translate",
   "language": "python",
   "name": "python3"
  },
  "language_info": {
   "codemirror_mode": {
    "name": "ipython",
    "version": 3
   },
   "file_extension": ".py",
   "mimetype": "text/x-python",
   "name": "python",
   "nbconvert_exporter": "python",
   "pygments_lexer": "ipython3",
   "version": "3.9.21"
  },
  "widgets": {
   "application/vnd.jupyter.widget-state+json": {
    "028c482da4ba41598d4546077b1953e0": {
     "model_module": "@jupyter-widgets/base",
     "model_module_version": "1.2.0",
     "model_name": "LayoutModel",
     "state": {
      "_model_module": "@jupyter-widgets/base",
      "_model_module_version": "1.2.0",
      "_model_name": "LayoutModel",
      "_view_count": null,
      "_view_module": "@jupyter-widgets/base",
      "_view_module_version": "1.2.0",
      "_view_name": "LayoutView",
      "align_content": null,
      "align_items": null,
      "align_self": null,
      "border": null,
      "bottom": null,
      "display": null,
      "flex": null,
      "flex_flow": null,
      "grid_area": null,
      "grid_auto_columns": null,
      "grid_auto_flow": null,
      "grid_auto_rows": null,
      "grid_column": null,
      "grid_gap": null,
      "grid_row": null,
      "grid_template_areas": null,
      "grid_template_columns": null,
      "grid_template_rows": null,
      "height": null,
      "justify_content": null,
      "justify_items": null,
      "left": null,
      "margin": null,
      "max_height": null,
      "max_width": null,
      "min_height": null,
      "min_width": null,
      "object_fit": null,
      "object_position": null,
      "order": null,
      "overflow": null,
      "overflow_x": null,
      "overflow_y": null,
      "padding": null,
      "right": null,
      "top": null,
      "visibility": null,
      "width": null
     }
    },
    "14081306220b41c3bb386f00eb37ac7f": {
     "model_module": "@jupyter-widgets/controls",
     "model_module_version": "1.5.0",
     "model_name": "HBoxModel",
     "state": {
      "_dom_classes": [],
      "_model_module": "@jupyter-widgets/controls",
      "_model_module_version": "1.5.0",
      "_model_name": "HBoxModel",
      "_view_count": null,
      "_view_module": "@jupyter-widgets/controls",
      "_view_module_version": "1.5.0",
      "_view_name": "HBoxView",
      "box_style": "",
      "children": [
       "IPY_MODEL_717e3d56b5ae43f097cdb8c4ecd8706a",
       "IPY_MODEL_42de71d42a064fc88a6672a3816c87a9",
       "IPY_MODEL_c86d3fdd6f404539ae8a126def8f2482"
      ],
      "layout": "IPY_MODEL_028c482da4ba41598d4546077b1953e0"
     }
    },
    "1c6f97ad5b7c4bdc8b5242bd697d75e3": {
     "model_module": "@jupyter-widgets/controls",
     "model_module_version": "1.5.0",
     "model_name": "DescriptionStyleModel",
     "state": {
      "_model_module": "@jupyter-widgets/controls",
      "_model_module_version": "1.5.0",
      "_model_name": "DescriptionStyleModel",
      "_view_count": null,
      "_view_module": "@jupyter-widgets/base",
      "_view_module_version": "1.2.0",
      "_view_name": "StyleView",
      "description_width": ""
     }
    },
    "42de71d42a064fc88a6672a3816c87a9": {
     "model_module": "@jupyter-widgets/controls",
     "model_module_version": "1.5.0",
     "model_name": "FloatProgressModel",
     "state": {
      "_dom_classes": [],
      "_model_module": "@jupyter-widgets/controls",
      "_model_module_version": "1.5.0",
      "_model_name": "FloatProgressModel",
      "_view_count": null,
      "_view_module": "@jupyter-widgets/controls",
      "_view_module_version": "1.5.0",
      "_view_name": "ProgressView",
      "bar_style": "success",
      "description": "",
      "description_tooltip": null,
      "layout": "IPY_MODEL_4f957dd3a86548218a099f82a91b2545",
      "max": 226,
      "min": 0,
      "orientation": "horizontal",
      "style": "IPY_MODEL_4e77f57384f24d80b2e84a2f84e1e376",
      "value": 226
     }
    },
    "4d1ccd28e4cb4da785a4a9bf5a3ae77a": {
     "model_module": "@jupyter-widgets/base",
     "model_module_version": "1.2.0",
     "model_name": "LayoutModel",
     "state": {
      "_model_module": "@jupyter-widgets/base",
      "_model_module_version": "1.2.0",
      "_model_name": "LayoutModel",
      "_view_count": null,
      "_view_module": "@jupyter-widgets/base",
      "_view_module_version": "1.2.0",
      "_view_name": "LayoutView",
      "align_content": null,
      "align_items": null,
      "align_self": null,
      "border": null,
      "bottom": null,
      "display": null,
      "flex": null,
      "flex_flow": null,
      "grid_area": null,
      "grid_auto_columns": null,
      "grid_auto_flow": null,
      "grid_auto_rows": null,
      "grid_column": null,
      "grid_gap": null,
      "grid_row": null,
      "grid_template_areas": null,
      "grid_template_columns": null,
      "grid_template_rows": null,
      "height": null,
      "justify_content": null,
      "justify_items": null,
      "left": null,
      "margin": null,
      "max_height": null,
      "max_width": null,
      "min_height": null,
      "min_width": null,
      "object_fit": null,
      "object_position": null,
      "order": null,
      "overflow": null,
      "overflow_x": null,
      "overflow_y": null,
      "padding": null,
      "right": null,
      "top": null,
      "visibility": null,
      "width": null
     }
    },
    "4e77f57384f24d80b2e84a2f84e1e376": {
     "model_module": "@jupyter-widgets/controls",
     "model_module_version": "1.5.0",
     "model_name": "ProgressStyleModel",
     "state": {
      "_model_module": "@jupyter-widgets/controls",
      "_model_module_version": "1.5.0",
      "_model_name": "ProgressStyleModel",
      "_view_count": null,
      "_view_module": "@jupyter-widgets/base",
      "_view_module_version": "1.2.0",
      "_view_name": "StyleView",
      "bar_color": null,
      "description_width": ""
     }
    },
    "4f957dd3a86548218a099f82a91b2545": {
     "model_module": "@jupyter-widgets/base",
     "model_module_version": "1.2.0",
     "model_name": "LayoutModel",
     "state": {
      "_model_module": "@jupyter-widgets/base",
      "_model_module_version": "1.2.0",
      "_model_name": "LayoutModel",
      "_view_count": null,
      "_view_module": "@jupyter-widgets/base",
      "_view_module_version": "1.2.0",
      "_view_name": "LayoutView",
      "align_content": null,
      "align_items": null,
      "align_self": null,
      "border": null,
      "bottom": null,
      "display": null,
      "flex": null,
      "flex_flow": null,
      "grid_area": null,
      "grid_auto_columns": null,
      "grid_auto_flow": null,
      "grid_auto_rows": null,
      "grid_column": null,
      "grid_gap": null,
      "grid_row": null,
      "grid_template_areas": null,
      "grid_template_columns": null,
      "grid_template_rows": null,
      "height": null,
      "justify_content": null,
      "justify_items": null,
      "left": null,
      "margin": null,
      "max_height": null,
      "max_width": null,
      "min_height": null,
      "min_width": null,
      "object_fit": null,
      "object_position": null,
      "order": null,
      "overflow": null,
      "overflow_x": null,
      "overflow_y": null,
      "padding": null,
      "right": null,
      "top": null,
      "visibility": null,
      "width": null
     }
    },
    "717e3d56b5ae43f097cdb8c4ecd8706a": {
     "model_module": "@jupyter-widgets/controls",
     "model_module_version": "1.5.0",
     "model_name": "HTMLModel",
     "state": {
      "_dom_classes": [],
      "_model_module": "@jupyter-widgets/controls",
      "_model_module_version": "1.5.0",
      "_model_name": "HTMLModel",
      "_view_count": null,
      "_view_module": "@jupyter-widgets/controls",
      "_view_module_version": "1.5.0",
      "_view_name": "HTMLView",
      "description": "",
      "description_tooltip": null,
      "layout": "IPY_MODEL_bccd14b08b6244a582b72b48c1301055",
      "placeholder": "​",
      "style": "IPY_MODEL_965dafdb3b864518ab6f244d324a3768",
      "value": "Batches: 100%"
     }
    },
    "965dafdb3b864518ab6f244d324a3768": {
     "model_module": "@jupyter-widgets/controls",
     "model_module_version": "1.5.0",
     "model_name": "DescriptionStyleModel",
     "state": {
      "_model_module": "@jupyter-widgets/controls",
      "_model_module_version": "1.5.0",
      "_model_name": "DescriptionStyleModel",
      "_view_count": null,
      "_view_module": "@jupyter-widgets/base",
      "_view_module_version": "1.2.0",
      "_view_name": "StyleView",
      "description_width": ""
     }
    },
    "bccd14b08b6244a582b72b48c1301055": {
     "model_module": "@jupyter-widgets/base",
     "model_module_version": "1.2.0",
     "model_name": "LayoutModel",
     "state": {
      "_model_module": "@jupyter-widgets/base",
      "_model_module_version": "1.2.0",
      "_model_name": "LayoutModel",
      "_view_count": null,
      "_view_module": "@jupyter-widgets/base",
      "_view_module_version": "1.2.0",
      "_view_name": "LayoutView",
      "align_content": null,
      "align_items": null,
      "align_self": null,
      "border": null,
      "bottom": null,
      "display": null,
      "flex": null,
      "flex_flow": null,
      "grid_area": null,
      "grid_auto_columns": null,
      "grid_auto_flow": null,
      "grid_auto_rows": null,
      "grid_column": null,
      "grid_gap": null,
      "grid_row": null,
      "grid_template_areas": null,
      "grid_template_columns": null,
      "grid_template_rows": null,
      "height": null,
      "justify_content": null,
      "justify_items": null,
      "left": null,
      "margin": null,
      "max_height": null,
      "max_width": null,
      "min_height": null,
      "min_width": null,
      "object_fit": null,
      "object_position": null,
      "order": null,
      "overflow": null,
      "overflow_x": null,
      "overflow_y": null,
      "padding": null,
      "right": null,
      "top": null,
      "visibility": null,
      "width": null
     }
    },
    "c86d3fdd6f404539ae8a126def8f2482": {
     "model_module": "@jupyter-widgets/controls",
     "model_module_version": "1.5.0",
     "model_name": "HTMLModel",
     "state": {
      "_dom_classes": [],
      "_model_module": "@jupyter-widgets/controls",
      "_model_module_version": "1.5.0",
      "_model_name": "HTMLModel",
      "_view_count": null,
      "_view_module": "@jupyter-widgets/controls",
      "_view_module_version": "1.5.0",
      "_view_name": "HTMLView",
      "description": "",
      "description_tooltip": null,
      "layout": "IPY_MODEL_4d1ccd28e4cb4da785a4a9bf5a3ae77a",
      "placeholder": "​",
      "style": "IPY_MODEL_1c6f97ad5b7c4bdc8b5242bd697d75e3",
      "value": " 226/226 [08:07&lt;00:00,  2.56it/s]"
     }
    }
   }
  }
 },
 "nbformat": 4,
 "nbformat_minor": 0
}
